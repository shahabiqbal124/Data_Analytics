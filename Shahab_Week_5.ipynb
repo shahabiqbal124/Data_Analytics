{
 "cells": [
  {
   "cell_type": "markdown",
   "id": "40097166-27a2-459d-a031-d94dda2e894f",
   "metadata": {},
   "source": [
    "## 1. STRING OPERATIONS (remaining functions)"
   ]
  },
  {
   "cell_type": "markdown",
   "id": "44abc32a-3c8a-4e11-a060-346c06976e8a",
   "metadata": {},
   "source": [
    "Questio 1\n",
    "\n",
    "text = \"   hello\\tPython world\\n\"\n",
    "info = \"python3\"\n",
    "code = \"ABC123\"\n",
    "report = \"data_2023.csv\""
   ]
  },
  {
   "cell_type": "markdown",
   "id": "b87a60fc-a38f-4a3d-a9b0-a1b0f89e0783",
   "metadata": {},
   "source": [
    "Operation to perform\n",
    "1 Strip spaces from left and right separately (lstrip, rstrip)\n",
    "2 Expand tabs into spaces\n",
    "3 Center align the text in width 30 with '*'\n",
    "4 Left and right justify text with '-'\n",
    "5 Pad the number \"45\" using zfill to make it 5 digits\n",
    "6 Encode text into bytes\n",
    "7 Split text into lines using splitlines()\n",
    "8 Use partition() to split \"report\" at '_'\n",
    "9 Use rpartition() on \"report\" with '.'\n",
    "10 Create a translation mapping with maketrans() and apply with translate()\n",
    "11 Check if info.isdecimal(), info.isnumeric()\n",
    "12 Check if code.isascii(), code.isprintable()\n",
    "13 Check if \"student_name\".isidentifier()"
   ]
  },
  {
   "cell_type": "code",
   "execution_count": 1,
   "id": "4608ddca-7bfb-4f93-a7b4-da3c3faf5b12",
   "metadata": {},
   "outputs": [
    {
     "name": "stdout",
     "output_type": "stream",
     "text": [
      "After lstrip() : 'hello\\tPython world\\n'\n",
      "After rstrip() : 'hello\\tPython world'\n"
     ]
    }
   ],
   "source": [
    "text = \"   hello\\tPython world\\n\"\n",
    "# Strip spaces from left and right separately (lstrip, rstrip)\n",
    "L_text=text.lstrip(\" \")\n",
    "R_text=L_text.rstrip(\"\\n\")\n",
    "print(\"After lstrip() :\", repr(L_text))\n",
    "print(\"After rstrip() :\", repr(R_text))"
   ]
  },
  {
   "cell_type": "code",
   "execution_count": 2,
   "id": "c135908d-6c5a-4fdb-8b07-9260933b3cd9",
   "metadata": {},
   "outputs": [
    {
     "name": "stdout",
     "output_type": "stream",
     "text": [
      "expandtabs(): 'hello   Python world'\n"
     ]
    }
   ],
   "source": [
    "# Expand tabs into spaces\n",
    "exp_text=R_text.expandtabs()\n",
    "print(\"expandtabs():\", repr(exp_text))"
   ]
  },
  {
   "cell_type": "code",
   "execution_count": 3,
   "id": "c95ea166-9280-4720-8d03-1bf7f2f1527c",
   "metadata": {},
   "outputs": [
    {
     "name": "stdout",
     "output_type": "stream",
     "text": [
      "centered_text:  *****hello   Python world*****\n"
     ]
    }
   ],
   "source": [
    "#  Center align the text in width 30 with '*'\n",
    "centered_text=exp_text.center(30,\"*\")\n",
    "print(\"centered_text: \",centered_text)"
   ]
  },
  {
   "cell_type": "code",
   "execution_count": 4,
   "id": "41a71f3b-d20f-4106-b0ff-f3f5c95fe4b0",
   "metadata": {},
   "outputs": [
    {
     "name": "stdout",
     "output_type": "stream",
     "text": [
      "Left-justified  : 'hello   Python world----------'\n",
      "Right-justified : '----------hello   Python world'\n"
     ]
    }
   ],
   "source": [
    "# Left and right justify text with '-'\n",
    "left  = exp_text.ljust(30, \"-\")\n",
    "right = exp_text.rjust(30, \"-\")\n",
    "print(\"Left-justified  :\", repr(left))\n",
    "print(\"Right-justified :\", repr(right))"
   ]
  },
  {
   "cell_type": "code",
   "execution_count": 5,
   "id": "3f50f249-53e7-4610-bae2-0d86c98c7314",
   "metadata": {},
   "outputs": [
    {
     "name": "stdout",
     "output_type": "stream",
     "text": [
      "padded:  00045\n"
     ]
    }
   ],
   "source": [
    "# Pad the number \"45\" using zfill to make it 5 digits\n",
    "padded= \"45\".zfill(5)\n",
    "print(\"padded: \",padded)"
   ]
  },
  {
   "cell_type": "code",
   "execution_count": 6,
   "id": "47d3d2c0-03f5-43a5-8b5e-a6b337535303",
   "metadata": {},
   "outputs": [
    {
     "name": "stdout",
     "output_type": "stream",
     "text": [
      "encoded_text:  b'hello   Python world'\n"
     ]
    }
   ],
   "source": [
    "# Encode text into bytes\n",
    "encoded_text=exp_text.encode()\n",
    "print(\"encoded_text: \",encoded_text)"
   ]
  },
  {
   "cell_type": "code",
   "execution_count": 7,
   "id": "42e5dbb9-03c0-475a-b8ea-a1fa32a75fb3",
   "metadata": {},
   "outputs": [
    {
     "name": "stdout",
     "output_type": "stream",
     "text": [
      "lines:  ['hello   Python world']\n"
     ]
    }
   ],
   "source": [
    "# Split text into lines using splitlines()\n",
    "split_text=exp_text.splitlines()\n",
    "print(\"lines: \",split_text)"
   ]
  },
  {
   "cell_type": "code",
   "execution_count": 8,
   "id": "fb18dfd1-a405-4ba6-bb82-d12646b146e0",
   "metadata": {},
   "outputs": [
    {
     "name": "stdout",
     "output_type": "stream",
     "text": [
      "report.partition('_'): ('data', '_', '2023.csv')\n"
     ]
    }
   ],
   "source": [
    "report = \"data_2023.csv\"\n",
    "# Use partition() to split \"report\" at '_'\n",
    "part_report=report.partition(\"_\")\n",
    "print(\"report.partition('_'):\", part_report)"
   ]
  },
  {
   "cell_type": "code",
   "execution_count": 9,
   "id": "92c33474-5fa1-4794-9011-a006593f98ad",
   "metadata": {},
   "outputs": [
    {
     "name": "stdout",
     "output_type": "stream",
     "text": [
      "report.rpartition('.'): ('data_2023', '.', 'csv')\n"
     ]
    }
   ],
   "source": [
    "# Use rpartition() on \"report\" with '.'\n",
    "rpart = report.rpartition(\".\")\n",
    "print(\"report.rpartition('.'):\", rpart)"
   ]
  },
  {
   "cell_type": "code",
   "execution_count": 10,
   "id": "8ccdf3f9-fc4c-4f76-a2e2-1ec4e371263d",
   "metadata": {},
   "outputs": [
    {
     "name": "stdout",
     "output_type": "stream",
     "text": [
      "translate(vowels->digits): 'h2ll4   Pyth4n w4rld'\n"
     ]
    }
   ],
   "source": [
    "# Create a translation mapping with maketrans() and apply with translate()\n",
    "table = str.maketrans(\"aeiou\", \"12345\")     # map vowels to digits\n",
    "translated = exp_text.translate(table)\n",
    "print(\"translate(vowels->digits):\", repr(translated))"
   ]
  },
  {
   "cell_type": "code",
   "execution_count": 11,
   "id": "b074ec9f-0643-47af-b8dd-b5b1d25b1bbd",
   "metadata": {},
   "outputs": [
    {
     "name": "stdout",
     "output_type": "stream",
     "text": [
      "info.isdecimal(): False\n",
      "info.isnumeric(): False\n"
     ]
    }
   ],
   "source": [
    "info = \"python3\"\n",
    "#Check if info.isdecimal(), info.isnumeric()\n",
    "isdeci = info.isdecimal()\n",
    "isnumer = info.isnumeric()\n",
    "print(\"info.isdecimal():\", isdeci)\n",
    "print(\"info.isnumeric():\", isnumer)"
   ]
  },
  {
   "cell_type": "code",
   "execution_count": 12,
   "id": "a8173738-76d7-4b84-a6fa-d5c8d75e10e9",
   "metadata": {},
   "outputs": [
    {
     "name": "stdout",
     "output_type": "stream",
     "text": [
      "code.isascii(): True\n",
      "code.isprintable(): True\n"
     ]
    }
   ],
   "source": [
    "code = \"ABC123\"\n",
    "# Check if code.isascii(), code.isprintable()\n",
    "isascii_val = code.isascii()\n",
    "isprintable_val = code.isprintable()\n",
    "print(\"code.isascii():\", isascii_val)\n",
    "print(\"code.isprintable():\", isprintable_val)"
   ]
  },
  {
   "cell_type": "code",
   "execution_count": 13,
   "id": "df50b31c-83c8-4c4d-8ccf-ccb6a38d91a4",
   "metadata": {},
   "outputs": [
    {
     "name": "stdout",
     "output_type": "stream",
     "text": [
      "i_name:  True\n"
     ]
    }
   ],
   "source": [
    "name = \"student_name\"\n",
    "# Check if \"student_name\".isidentifier()\n",
    "i_name=name.isidentifier()\n",
    "print(\"i_name: \",i_name )"
   ]
  },
  {
   "cell_type": "markdown",
   "id": "59cb7866-e400-4602-895e-47df85c5e394",
   "metadata": {},
   "source": [
    "## 2. LIST OPERATIONS (remaining functions)"
   ]
  },
  {
   "cell_type": "raw",
   "id": "1fcd8f51-af7d-4114-9a28-b49f35255756",
   "metadata": {},
   "source": [
    "fruits = [\"apple\", \"banana\", \"cherry\", \"banana\"]\n",
    "numbers = [1, 2, 3]"
   ]
  },
  {
   "cell_type": "markdown",
   "id": "47132b0b-8d85-4f4a-a6bc-2b9fe38fc5d1",
   "metadata": {},
   "source": [
    "Tasks:\n",
    "1. Extend fruits with numbers\n",
    "2. Copy the fruits list\n",
    "3. Clear all items from numbers"
   ]
  },
  {
   "cell_type": "code",
   "execution_count": 14,
   "id": "e35f340e-9066-4eee-a19c-e4e825c1fbff",
   "metadata": {},
   "outputs": [
    {
     "name": "stdout",
     "output_type": "stream",
     "text": [
      "Extended fruits: None\n"
     ]
    }
   ],
   "source": [
    "fruits = [\"apple\", \"banana\", \"cherry\", \"banana\"]\n",
    "numbers = [1, 2, 3]\n",
    "# Extend fruits with numbers\n",
    "ext_fruits=fruits.extend(numbers)\n",
    "print(\"Extended fruits:\", ext_fruits)"
   ]
  },
  {
   "cell_type": "code",
   "execution_count": 15,
   "id": "8f218661-90ec-41c3-aed5-f33717af1f27",
   "metadata": {},
   "outputs": [
    {
     "name": "stdout",
     "output_type": "stream",
     "text": [
      "Copied list: ['apple', 'banana', 'cherry', 'banana', 1, 2, 3]\n"
     ]
    }
   ],
   "source": [
    "# Copy the fruits list\n",
    "copy_fruits=fruits.copy()\n",
    "print(\"Copied list:\", copy_fruits)"
   ]
  },
  {
   "cell_type": "code",
   "execution_count": 16,
   "id": "5a4d6239-5bbd-485c-9a41-cadf007af0c6",
   "metadata": {},
   "outputs": [
    {
     "name": "stdout",
     "output_type": "stream",
     "text": [
      "Cleared numbers: None\n"
     ]
    }
   ],
   "source": [
    "# Clear all items from numbers\n",
    "clearance=numbers.clear()\n",
    "print(\"Cleared numbers:\", clearance)"
   ]
  },
  {
   "cell_type": "markdown",
   "id": "c8094ab0-3750-42ec-9b3b-5a9f700829ce",
   "metadata": {},
   "source": [
    "## 3. SET OPERATIONS (remaining functions)"
   ]
  },
  {
   "cell_type": "raw",
   "id": "db6fbf16-c5f0-4143-b602-50e4c49fb5f1",
   "metadata": {},
   "source": [
    "A = {1, 2, 3}\n",
    "B = {3, 4, 5}"
   ]
  },
  {
   "cell_type": "markdown",
   "id": "634d1a4a-27bc-49ca-be6b-2ebee03fd6cc",
   "metadata": {},
   "source": [
    "Tasks:\n",
    "1. Use symmetric_difference() of A and B\n",
    "2. Check if A is subset of B\n",
    "3. Check if A is superset of B\n",
    "4. Copy set A\n",
    "5. Clear set B"
   ]
  },
  {
   "cell_type": "code",
   "execution_count": 17,
   "id": "71973045-877a-43fb-a66f-6219e246a331",
   "metadata": {},
   "outputs": [
    {
     "name": "stdout",
     "output_type": "stream",
     "text": [
      "Symmetric Difference: {1, 2, 4, 5}\n"
     ]
    }
   ],
   "source": [
    "A = {1, 2, 3}\n",
    "B = {3, 4, 5}\n",
    "# Symmetric difference (elements in A or B but not both)\n",
    "sym_diff = A.symmetric_difference(B)\n",
    "print(\"Symmetric Difference:\", sym_diff)"
   ]
  },
  {
   "cell_type": "code",
   "execution_count": 18,
   "id": "ff882d6b-39d0-42bc-bf4f-a6460c0bea57",
   "metadata": {},
   "outputs": [
    {
     "name": "stdout",
     "output_type": "stream",
     "text": [
      "A is subset of B: False\n"
     ]
    }
   ],
   "source": [
    "# Check if A is subset of B\n",
    "is_subset = A.issubset(B)\n",
    "print(\"A is subset of B:\", is_subset)"
   ]
  },
  {
   "cell_type": "code",
   "execution_count": 19,
   "id": "fe321f77-95a5-4a05-995a-2f7b6806a341",
   "metadata": {},
   "outputs": [
    {
     "name": "stdout",
     "output_type": "stream",
     "text": [
      "A is superset of B: False\n"
     ]
    }
   ],
   "source": [
    "# Check if A is superset of B\n",
    "is_superset = A.issuperset(B)\n",
    "print(\"A is superset of B:\", is_superset)"
   ]
  },
  {
   "cell_type": "code",
   "execution_count": 20,
   "id": "c58a13ad-9edb-4251-9f39-980dd09d6713",
   "metadata": {},
   "outputs": [
    {
     "name": "stdout",
     "output_type": "stream",
     "text": [
      "Copy of A: {1, 2, 3}\n"
     ]
    }
   ],
   "source": [
    "# Copy set A\n",
    "A_copy = A.copy()\n",
    "print(\"Copy of A:\", A_copy)"
   ]
  },
  {
   "cell_type": "code",
   "execution_count": 21,
   "id": "b7e9621f-8129-423e-865a-8b16f9b33a0e",
   "metadata": {},
   "outputs": [
    {
     "name": "stdout",
     "output_type": "stream",
     "text": [
      "Set B after clear: set()\n"
     ]
    }
   ],
   "source": [
    "# Clear set B\n",
    "B.clear()\n",
    "print(\"Set B after clear:\", B)"
   ]
  },
  {
   "cell_type": "markdown",
   "id": "e90fa39f-6001-47bc-a17d-b645ab743ace",
   "metadata": {},
   "source": [
    "## 4. TUPLE OPERATIONS (remaining functions)"
   ]
  },
  {
   "cell_type": "markdown",
   "id": "14667a81-d452-47c1-a88d-0ae163208e10",
   "metadata": {},
   "source": [
    "data = (10, 20, 30, 20, 40)"
   ]
  },
  {
   "cell_type": "markdown",
   "id": "4ca94396-f7c3-411e-9099-c787dff0160c",
   "metadata": {},
   "source": [
    "Tasks:\n",
    "1. Count how many times 20 occurs\n",
    "2. Find index of 30"
   ]
  },
  {
   "cell_type": "code",
   "execution_count": 22,
   "id": "0cc875d2-ed66-4387-8254-e09c3752158b",
   "metadata": {},
   "outputs": [
    {
     "name": "stdout",
     "output_type": "stream",
     "text": [
      "Count of 20: 2\n"
     ]
    }
   ],
   "source": [
    "data = (10, 20, 30, 20, 40)\n",
    "# Count how many times 20 occurs\n",
    "count_20 = data.count(20)\n",
    "print(\"Count of 20:\", count_20)"
   ]
  },
  {
   "cell_type": "code",
   "execution_count": 23,
   "id": "4d283564-04a8-4638-bcad-b8d40e2795a4",
   "metadata": {},
   "outputs": [
    {
     "name": "stdout",
     "output_type": "stream",
     "text": [
      "Index of 30: 2\n"
     ]
    }
   ],
   "source": [
    "data = (10, 20, 30, 20, 40)\n",
    "# Find index of 30\n",
    "index_30 = data.index(30)\n",
    "print(\"Index of 30:\", index_30)"
   ]
  },
  {
   "cell_type": "markdown",
   "id": "ec55c437-a9b6-4045-a14d-88c1ed43c05a",
   "metadata": {},
   "source": [
    "##  5. DICTIONARY OPERATIONS (remaining functions)"
   ]
  },
  {
   "cell_type": "markdown",
   "id": "c0384e15-c857-460e-ae95-4dead6e213a9",
   "metadata": {},
   "source": [
    "person = {\"name\": \"Abbas\", \"age\": 22}"
   ]
  },
  {
   "cell_type": "markdown",
   "id": "cd6481af-6802-466a-909f-60e9034c556b",
   "metadata": {},
   "source": [
    "Tasks:\n",
    "1. Use get(\"age\") to access safely\n",
    "2. Use keys(), values(), items()\n",
    "3. Copy dictionary into another variable\n",
    "4. Clear dictionary completely"
   ]
  },
  {
   "cell_type": "code",
   "execution_count": 24,
   "id": "37aa3667-5a33-4255-a99d-0b8f149d2d1d",
   "metadata": {},
   "outputs": [
    {
     "name": "stdout",
     "output_type": "stream",
     "text": [
      "Age (using get): 22\n"
     ]
    }
   ],
   "source": [
    "person = {\"name\": \"Abbas\", \"age\": 22}\n",
    "# Use get(\"age\") to access safely\n",
    "print(\"Age (using get):\", person.get(\"age\"))"
   ]
  },
  {
   "cell_type": "code",
   "execution_count": 25,
   "id": "abfae599-b3ee-4899-8444-d1a660f21de9",
   "metadata": {},
   "outputs": [
    {
     "name": "stdout",
     "output_type": "stream",
     "text": [
      "Keys: dict_keys(['name', 'age'])\n",
      "Values: dict_values(['Abbas', 22])\n",
      "Items: dict_items([('name', 'Abbas'), ('age', 22)])\n"
     ]
    }
   ],
   "source": [
    "# Use keys(), values(), items()\n",
    "print(\"Keys:\", person.keys())\n",
    "print(\"Values:\", person.values())\n",
    "print(\"Items:\", person.items())"
   ]
  },
  {
   "cell_type": "code",
   "execution_count": 26,
   "id": "8266ddb7-a6ff-44ea-b8d3-075e4f44db18",
   "metadata": {},
   "outputs": [
    {
     "name": "stdout",
     "output_type": "stream",
     "text": [
      "Copied dictionary: {'name': 'Abbas', 'age': 22}\n"
     ]
    }
   ],
   "source": [
    "# Copy dictionary into another variable\n",
    "person_copy = person.copy()\n",
    "print(\"Copied dictionary:\", person_copy)"
   ]
  },
  {
   "cell_type": "code",
   "execution_count": 27,
   "id": "ab11b991-b785-40ee-8293-85393a93616a",
   "metadata": {},
   "outputs": [
    {
     "name": "stdout",
     "output_type": "stream",
     "text": [
      "Dictionary after clear: {}\n"
     ]
    }
   ],
   "source": [
    "# Clear dictionary completely\n",
    "person.clear()\n",
    "print(\"Dictionary after clear:\", person)"
   ]
  }
 ],
 "metadata": {
  "kernelspec": {
   "display_name": "Python [conda env:base] *",
   "language": "python",
   "name": "conda-base-py"
  },
  "language_info": {
   "codemirror_mode": {
    "name": "ipython",
    "version": 3
   },
   "file_extension": ".py",
   "mimetype": "text/x-python",
   "name": "python",
   "nbconvert_exporter": "python",
   "pygments_lexer": "ipython3",
   "version": "3.13.5"
  }
 },
 "nbformat": 4,
 "nbformat_minor": 5
}
