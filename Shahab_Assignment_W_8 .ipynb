{
 "cells": [
  {
   "cell_type": "markdown",
   "id": "d285551f-3e2a-4c9c-a3b2-0d005117f76e",
   "metadata": {},
   "source": [
    "## Question 1"
   ]
  },
  {
   "cell_type": "markdown",
   "id": "f62dbcfc-1535-4a7b-8bca-b628493482db",
   "metadata": {},
   "source": [
    "Write a Python program that prints numbers from 1 to 20, but skips all even numbers.\n",
    "Use a while loop and the continue statement.\n",
    "The numbers should be printed on the same line separated by spaces."
   ]
  },
  {
   "cell_type": "code",
   "execution_count": 2,
   "id": "c6e7c3cf-a2ad-42d1-bf43-e8cad68a0da9",
   "metadata": {},
   "outputs": [
    {
     "name": "stdout",
     "output_type": "stream",
     "text": [
      "1 3 5 7 9 11 13 15 17 19 "
     ]
    }
   ],
   "source": [
    "i = 1\n",
    "while i <= 20:\n",
    "    if i % 2 == 0:\n",
    "        i += 1\n",
    "        continue\n",
    "    print(i, end=\" \")\n",
    "    i += 1"
   ]
  },
  {
   "cell_type": "markdown",
   "id": "1c7ac367-424d-48eb-92ba-93d06a3b5d48",
   "metadata": {},
   "source": [
    "## Question 2"
   ]
  },
  {
   "cell_type": "markdown",
   "id": "233b384f-a8a3-4a0c-b4fc-65e669665a93",
   "metadata": {},
   "source": [
    "Write a Python program that keeps asking the user to enter numbers and prints them.\n",
    "The program should stop if the user enters a negative number.\n",
    "Use a while True loop with a break statement."
   ]
  },
  {
   "cell_type": "code",
   "execution_count": 4,
   "id": "17f377fd-532e-4a22-918a-5d5befb4597f",
   "metadata": {},
   "outputs": [
    {
     "name": "stdin",
     "output_type": "stream",
     "text": [
      "Enter a number (negative to stop):  2\n"
     ]
    },
    {
     "name": "stdout",
     "output_type": "stream",
     "text": [
      "You entered: 2\n"
     ]
    },
    {
     "name": "stdin",
     "output_type": "stream",
     "text": [
      "Enter a number (negative to stop):  4\n"
     ]
    },
    {
     "name": "stdout",
     "output_type": "stream",
     "text": [
      "You entered: 4\n"
     ]
    },
    {
     "name": "stdin",
     "output_type": "stream",
     "text": [
      "Enter a number (negative to stop):  -1\n"
     ]
    },
    {
     "name": "stdout",
     "output_type": "stream",
     "text": [
      "Negative number entered. Loop stopped!\n"
     ]
    }
   ],
   "source": [
    "while True:\n",
    "    num = int(input(\"Enter a number (negative to stop): \"))\n",
    "    if num < 0:\n",
    "        print(\"Negative number entered. Loop stopped!\")\n",
    "        break\n",
    "    print(\"You entered:\", num)"
   ]
  },
  {
   "cell_type": "markdown",
   "id": "386671db-c0c3-4cfa-aedc-d4113d30c4db",
   "metadata": {},
   "source": [
    "## Question 3"
   ]
  },
  {
   "cell_type": "markdown",
   "id": "43829c17-08ba-4dae-ba4e-350c95f6236f",
   "metadata": {},
   "source": [
    "Write a Python program that asks the user to guess a secret word.\n",
    "Keep asking until the user enters the correct word \"python\".\n",
    "When guessed correctly, print \"You guessed it!\"."
   ]
  },
  {
   "cell_type": "code",
   "execution_count": 7,
   "id": "92d01f66-2f72-4d5b-b45a-849ddfbeff64",
   "metadata": {},
   "outputs": [
    {
     "name": "stdin",
     "output_type": "stream",
     "text": [
      "Guess the word:  python\n"
     ]
    },
    {
     "name": "stdout",
     "output_type": "stream",
     "text": [
      "You guessed it!\n"
     ]
    }
   ],
   "source": [
    "while True:\n",
    "    word = input(\"Guess the word: \")\n",
    "    if word.lower() == \"python\":\n",
    "        print(\"You guessed it!\")\n",
    "        break"
   ]
  },
  {
   "cell_type": "markdown",
   "id": "fb423c4e-293c-415f-b69a-b612b66e427b",
   "metadata": {},
   "source": [
    "## Question 4"
   ]
  },
  {
   "cell_type": "markdown",
   "id": "4be59b67-2ccc-4018-8602-572bdd358978",
   "metadata": {},
   "source": [
    "You are given a list of e-commerce orders. Each order has an order ID, a customer name, and a list of item prices.\n",
    "Write a Python program to print all items for each order using nested while loops."
   ]
  },
  {
   "cell_type": "code",
   "execution_count": 9,
   "id": "50f0de89-6f86-4890-bb4f-e951513e4348",
   "metadata": {},
   "outputs": [],
   "source": [
    "orders = [\n",
    "    {\"order_id\": 1, \"customer\": \"Ali\", \"items\": [120, 80, 50]},\n",
    "    {\"order_id\": 2, \"customer\": \"Sara\", \"items\": [200, 150]},\n",
    "    {\"order_id\": 3, \"customer\": \"Raheel\", \"items\": [90, 60, 40, 30]},\n",
    "    {\"order_id\": 4, \"customer\": \"Naveed\", \"items\": [300]},\n",
    "]"
   ]
  },
  {
   "cell_type": "code",
   "execution_count": 10,
   "id": "e6d0bf2d-1a34-43e8-b4e9-fea88ae22c98",
   "metadata": {},
   "outputs": [
    {
     "name": "stdout",
     "output_type": "stream",
     "text": [
      "Order ID: 1 Customer: Ali\n",
      " Item Price: 120\n",
      " Item Price: 80\n",
      " Item Price: 50\n",
      "Order ID: 2 Customer: Sara\n",
      " Item Price: 200\n",
      " Item Price: 150\n",
      "Order ID: 3 Customer: Raheel\n",
      " Item Price: 90\n",
      " Item Price: 60\n",
      " Item Price: 40\n",
      " Item Price: 30\n",
      "Order ID: 4 Customer: Naveed\n",
      " Item Price: 300\n"
     ]
    }
   ],
   "source": [
    "i = 0\n",
    "while i < len(orders):\n",
    "    order = orders[i]\n",
    "    print(f\"Order ID: {order['order_id']} Customer: {order['customer']}\")\n",
    "    j = 0\n",
    "    while j < len(order[\"items\"]):\n",
    "        print(\" Item Price:\", order[\"items\"][j])\n",
    "        j += 1\n",
    "    i += 1"
   ]
  },
  {
   "cell_type": "markdown",
   "id": "164a6ca6-0de7-4b48-83de-63751ec691f9",
   "metadata": {},
   "source": [
    "## Question 5"
   ]
  },
  {
   "cell_type": "markdown",
   "id": "e6f1300e-8e99-471e-8ae6-cf8d2b6f4149",
   "metadata": {},
   "source": [
    "Print total amount spent by each customer (Using nested while loop)"
   ]
  },
  {
   "cell_type": "code",
   "execution_count": 12,
   "id": "dd2440ce-fada-4a41-85d3-5576815aef73",
   "metadata": {},
   "outputs": [],
   "source": [
    "orders = [\n",
    "    {\"order_id\": 1, \"customer\": \"Ali\", \"items\": [120, 80, 50]},\n",
    "    {\"order_id\": 2, \"customer\": \"Sara\", \"items\": [200, 150]},\n",
    "    {\"order_id\": 3, \"customer\": \"Raheel\", \"items\": [90, 60, 40, 30]},\n",
    "    {\"order_id\": 4, \"customer\": \"Naveed\", \"items\": [300]},\n",
    "]"
   ]
  },
  {
   "cell_type": "code",
   "execution_count": 13,
   "id": "8b2335d0-f21d-4965-bba7-04749396faa6",
   "metadata": {},
   "outputs": [
    {
     "name": "stdout",
     "output_type": "stream",
     "text": [
      "Ali spent total: 250\n",
      "Sara spent total: 350\n",
      "Raheel spent total: 220\n",
      "Naveed spent total: 300\n"
     ]
    }
   ],
   "source": [
    "i = 0\n",
    "while i < len(orders):\n",
    "    order = orders[i]\n",
    "    total = 0\n",
    "    j = 0\n",
    "    while j < len(order[\"items\"]):\n",
    "        total += order[\"items\"][j]\n",
    "        j += 1\n",
    "    print(f\"{order['customer']} spent total: {total}\")\n",
    "    i += 1"
   ]
  },
  {
   "cell_type": "markdown",
   "id": "f6c7f80b-1e89-469b-b9ea-1509f87c5f92",
   "metadata": {},
   "source": [
    "## Question 6"
   ]
  },
  {
   "cell_type": "markdown",
   "id": "df7bea9f-8ce0-4db9-b6fe-8731b5dd2b24",
   "metadata": {},
   "source": [
    "Print the maximum item price for each order. (Using nested while loop)"
   ]
  },
  {
   "cell_type": "code",
   "execution_count": 15,
   "id": "090d43ae-bcc6-4f3f-91f9-3cde250f0b14",
   "metadata": {},
   "outputs": [],
   "source": [
    "\n",
    "orders = [ {\"order_id\": 1, \"customer\": \"Ali\", \"items\": [120, 80, 50]}, {\"order_id\": 2, \"customer\": \"Sara\", \"items\": [200, 150]}, {\"order_id\": 3, \"customer\": \"Raheel\", \"items\": [90, 60, 40, 30]}, {\"order_id\": 4, \"customer\": \"Naveed\", \"items\": [300]}, ]"
   ]
  },
  {
   "cell_type": "code",
   "execution_count": 16,
   "id": "0d35118d-70da-4252-9313-9925d190dd14",
   "metadata": {},
   "outputs": [
    {
     "name": "stdout",
     "output_type": "stream",
     "text": [
      "Most expensive item in Order 1 = 120\n",
      "Most expensive item in Order 2 = 200\n",
      "Most expensive item in Order 3 = 90\n",
      "Most expensive item in Order 4 = 300\n"
     ]
    }
   ],
   "source": [
    "i = 0\n",
    "while i < len(orders):\n",
    "    order = orders[i]\n",
    "    max_price = order[\"items\"][0]\n",
    "    j = 1\n",
    "    while j < len(order[\"items\"]):\n",
    "        if order[\"items\"][j] > max_price:\n",
    "            max_price = order[\"items\"][j]\n",
    "        j += 1\n",
    "    print(f\"Most expensive item in Order {order['order_id']} = {max_price}\")\n",
    "    i += 1"
   ]
  },
  {
   "cell_type": "markdown",
   "id": "e17515f8-05df-4627-8266-a7d782bc2caa",
   "metadata": {},
   "source": [
    "## Question 7"
   ]
  },
  {
   "cell_type": "markdown",
   "id": "51603c08-3a11-457f-a48c-5e4cab3bafff",
   "metadata": {},
   "source": [
    "Write a Python program to create a single list (list comprehension) that contains all numbers from 1 to 50 which are multiples of 5 and 10."
   ]
  },
  {
   "cell_type": "code",
   "execution_count": 18,
   "id": "3568991d-8455-430f-a713-123f45706676",
   "metadata": {},
   "outputs": [
    {
     "name": "stdout",
     "output_type": "stream",
     "text": [
      "Multiples of 5 and 10 from 1 to 50: [10, 20, 30, 40, 50]\n"
     ]
    }
   ],
   "source": [
    "multiples = [n for n in range(1, 51) if n % 10 == 0]\n",
    "print(\"Multiples of 5 and 10 from 1 to 50:\", multiples)"
   ]
  },
  {
   "cell_type": "markdown",
   "id": "cf1d8735-1f58-4bab-ba6d-9121f2c2929b",
   "metadata": {},
   "source": [
    "## Question 8"
   ]
  },
  {
   "cell_type": "code",
   "execution_count": 20,
   "id": "f59554c9-2ab0-4774-8d02-978b34e5cc9d",
   "metadata": {},
   "outputs": [],
   "source": [
    "employees = [\n",
    "    {\"emp_id\": 1, \"name\": \"Ali\", \"dept\": \"Sales\", \"salary\": 50000, \"experience\": 2},\n",
    "    {\"emp_id\": 2, \"name\": \"Sara\", \"dept\": \"IT\", \"salary\": 65000, \"experience\": 5},\n",
    "    {\"emp_id\": 3, \"name\": \"Raheel\", \"dept\": \"HR\", \"salary\": 45000, \"experience\": 1},\n",
    "    {\"emp_id\": 4, \"name\": \"Naveed\", \"dept\": \"Finance\", \"salary\": 70000, \"experience\": 7},\n",
    "    {\"emp_id\": 5, \"name\": \"Ayesha\", \"dept\": \"IT\", \"salary\": 72000, \"experience\": 6},\n",
    "    {\"emp_id\": 6, \"name\": \"Talha\", \"dept\": \"Sales\", \"salary\": 55000, \"experience\": 3},\n",
    "    {\"emp_id\": 7, \"name\": \"Sana\", \"dept\": \"Finance\", \"salary\": 80000, \"experience\": 8},\n",
    "    {\"emp_id\": 8, \"name\": \"Hina\", \"dept\": \"HR\", \"salary\": 48000, \"experience\": 2},\n",
    "]"
   ]
  },
  {
   "cell_type": "code",
   "execution_count": 23,
   "id": "ec952406-36a7-463c-82af-236ee2c761e7",
   "metadata": {},
   "outputs": [
    {
     "name": "stdout",
     "output_type": "stream",
     "text": [
      "['Naveed', 'Ayesha', 'Sana']\n"
     ]
    }
   ],
   "source": [
    "names= [emp[\"name\"] for emp in employees if emp[\"salary\"]>60000 and emp[\"experience\"]>5]\n",
    "print(names)"
   ]
  },
  {
   "cell_type": "markdown",
   "id": "c033b3bd-d965-443e-b52d-9ca0882365d7",
   "metadata": {},
   "source": [
    "## Question 9"
   ]
  },
  {
   "cell_type": "markdown",
   "id": "a1f02b5f-5014-4673-8444-54610a36b766",
   "metadata": {},
   "source": [
    "Employees with NOT HR department"
   ]
  },
  {
   "cell_type": "code",
   "execution_count": 28,
   "id": "3605bd03-462c-4813-a8ce-319dd531e972",
   "metadata": {},
   "outputs": [
    {
     "name": "stdout",
     "output_type": "stream",
     "text": [
      "['Ali', 'Sara', 'Naveed', 'Ayesha', 'Talha', 'Sana']\n"
     ]
    }
   ],
   "source": [
    "no_HR= [emp[\"name\"] for emp in employees if emp[\"dept\"]!=\"HR\"]\n",
    "print(no_HR)"
   ]
  },
  {
   "cell_type": "markdown",
   "id": "f3d0a884-9fad-4fea-b8f8-19f4c4e4994c",
   "metadata": {},
   "source": [
    "## Question 10"
   ]
  },
  {
   "cell_type": "markdown",
   "id": "4fe964b6-00bd-4338-927c-d33065ee440b",
   "metadata": {},
   "source": [
    "Employees NOT in Sales OR experience > 5"
   ]
  },
  {
   "cell_type": "code",
   "execution_count": 32,
   "id": "9d5709c7-fba7-4d7f-a781-24ce1273dd22",
   "metadata": {},
   "outputs": [
    {
     "name": "stdout",
     "output_type": "stream",
     "text": [
      "['Sara', 'Raheel', 'Naveed', 'Ayesha', 'Sana', 'Hina']\n"
     ]
    }
   ],
   "source": [
    "no_sales= [emp[\"name\"] for emp in employees if emp[\"dept\"]!=\"Sales\" or emp[\"experience\"]>5]\n",
    "print(no_sales)"
   ]
  },
  {
   "cell_type": "code",
   "execution_count": null,
   "id": "135a38c6-c567-4295-b447-0a80a8d212a9",
   "metadata": {},
   "outputs": [],
   "source": []
  }
 ],
 "metadata": {
  "kernelspec": {
   "display_name": "Python [conda env:base] *",
   "language": "python",
   "name": "conda-base-py"
  },
  "language_info": {
   "codemirror_mode": {
    "name": "ipython",
    "version": 3
   },
   "file_extension": ".py",
   "mimetype": "text/x-python",
   "name": "python",
   "nbconvert_exporter": "python",
   "pygments_lexer": "ipython3",
   "version": "3.13.5"
  }
 },
 "nbformat": 4,
 "nbformat_minor": 5
}
