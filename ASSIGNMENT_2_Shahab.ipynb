{
 "cells": [
  {
   "cell_type": "markdown",
   "id": "43de8fed-abf4-4354-a01c-8210a110d613",
   "metadata": {},
   "source": [
    "## Question No 1"
   ]
  },
  {
   "cell_type": "markdown",
   "id": "6aea98c1-58a1-47d9-bc2f-0b80222d38a0",
   "metadata": {},
   "source": [
    "Write a program that takes two numbers (a = 15 , b = 4) and prints their:"
   ]
  },
  {
   "cell_type": "code",
   "execution_count": 1,
   "id": "ed2d948b-ddf6-4774-a4f0-82c8b197d309",
   "metadata": {},
   "outputs": [],
   "source": [
    "a = 15\n",
    "b = 4"
   ]
  },
  {
   "cell_type": "code",
   "execution_count": 2,
   "id": "7547fbe1-b831-4ecc-9ec5-d75f9bbb5230",
   "metadata": {},
   "outputs": [],
   "source": [
    "Sum = a+b\n",
    "Difference = a-b\n",
    "product = a*b\n",
    "division = a/b \n",
    "floor_division = a//b\n",
    "modulus = a%b"
   ]
  },
  {
   "cell_type": "code",
   "execution_count": 3,
   "id": "c376296a-5022-4863-9b8a-637e86a36860",
   "metadata": {},
   "outputs": [
    {
     "name": "stdout",
     "output_type": "stream",
     "text": [
      "19\n",
      "11\n",
      "60\n",
      "3.75\n",
      "3\n",
      "3\n"
     ]
    }
   ],
   "source": [
    "print(Sum)\n",
    "print(Difference)\n",
    "print(product)\n",
    "print(division)\n",
    "print(floor_division)\n",
    "print(modulus)"
   ]
  },
  {
   "cell_type": "markdown",
   "id": "b8d218e3-93ff-4ff3-9866-59a016a29ec5",
   "metadata": {},
   "source": [
    "## Question No 2"
   ]
  },
  {
   "cell_type": "markdown",
   "id": "f9912e14-1da0-45f9-a424-2cfe891b6606",
   "metadata": {},
   "source": [
    "check the_type, convert:"
   ]
  },
  {
   "cell_type": "code",
   "execution_count": 4,
   "id": "1dc5429e-8d16-4cbc-89c3-d9f4da995a1f",
   "metadata": {},
   "outputs": [
    {
     "name": "stdout",
     "output_type": "stream",
     "text": [
      "num1:  <class 'int'>\n",
      "num2:  <class 'float'>\n",
      "num3:  <class 'float'>\n",
      "num4:  <class 'str'>\n"
     ]
    }
   ],
   "source": [
    "num1 = 10\n",
    "num2 = 5.6\n",
    "num3 = 4.43\n",
    "num4 = \"23\"\n",
    "print(\"num1: \",type(num1))\n",
    "print(\"num2: \",type(num2))\n",
    "print(\"num3: \",type(num3))\n",
    "print(\"num4: \",type(num4))"
   ]
  },
  {
   "cell_type": "code",
   "execution_count": 5,
   "id": "ecc870d5-7427-4b69-859f-debda0a83d95",
   "metadata": {},
   "outputs": [],
   "source": [
    "num1=float(num1)\n",
    "num2= int(num2)\n",
    "num3=str(num3)\n",
    "num4=int(num4)"
   ]
  },
  {
   "cell_type": "code",
   "execution_count": 6,
   "id": "aaa91c29-7665-47ca-b360-2ca427d93067",
   "metadata": {},
   "outputs": [
    {
     "name": "stdout",
     "output_type": "stream",
     "text": [
      "num1:  10.0 <class 'float'>\n",
      "num2:  5 <class 'int'>\n",
      "num3:  4.43 <class 'str'>\n",
      "num4:  23 <class 'int'>\n"
     ]
    }
   ],
   "source": [
    "print(\"num1: \",num1,type(num1))\n",
    "print(\"num2: \",num2,type(num2))\n",
    "print(\"num3: \",num3,type(num3))\n",
    "print(\"num4: \",num4,type(num4))"
   ]
  },
  {
   "cell_type": "markdown",
   "id": "9015a4c9-6cd8-4043-825b-4112f650b788",
   "metadata": {},
   "source": [
    "## Question No 3"
   ]
  },
  {
   "cell_type": "markdown",
   "id": "fe93455f-4a76-45fd-a716-8f4272ffc59a",
   "metadata": {},
   "source": [
    "write a code o store your favourite food in a variable and print it"
   ]
  },
  {
   "cell_type": "code",
   "execution_count": 7,
   "id": "12da042a-8e28-41d8-8d87-8905fa167faf",
   "metadata": {},
   "outputs": [],
   "source": [
    "fav_foods = \"Biryani\""
   ]
  },
  {
   "cell_type": "code",
   "execution_count": 8,
   "id": "239f6597-f640-4a76-88aa-46f9406b606e",
   "metadata": {},
   "outputs": [
    {
     "name": "stdout",
     "output_type": "stream",
     "text": [
      "Biryani\n"
     ]
    }
   ],
   "source": [
    "print(fav_foods)"
   ]
  },
  {
   "cell_type": "markdown",
   "id": "6d7a1cda-2079-4609-adb3-aa766ce17f96",
   "metadata": {},
   "source": [
    "## Question No 4"
   ]
  },
  {
   "cell_type": "code",
   "execution_count": 9,
   "id": "158ea2f9-cbef-4e83-a73e-fcb4a764149e",
   "metadata": {},
   "outputs": [],
   "source": [
    "apples='22'\n",
    "mangoes=33"
   ]
  },
  {
   "cell_type": "code",
   "execution_count": 10,
   "id": "8bc539bd-26f6-4930-b235-ec6a3ff57b1a",
   "metadata": {},
   "outputs": [],
   "source": [
    "total = int(apples)+mangoes"
   ]
  },
  {
   "cell_type": "code",
   "execution_count": 11,
   "id": "90e3eec6-0c68-4f39-bbfb-45349f14b9f5",
   "metadata": {},
   "outputs": [
    {
     "name": "stdout",
     "output_type": "stream",
     "text": [
      "Total fruits:  55\n"
     ]
    }
   ],
   "source": [
    "print(\"Total fruits: \",total)"
   ]
  },
  {
   "cell_type": "markdown",
   "id": "8ebd2ce0-baf9-46aa-8094-86e4a401c690",
   "metadata": {},
   "source": [
    "## Question No 5"
   ]
  },
  {
   "cell_type": "code",
   "execution_count": 12,
   "id": "cfc7da1a-4f97-4d95-b59a-8699a5b12170",
   "metadata": {},
   "outputs": [],
   "source": [
    "name= \"Shahab\"\n",
    "Age = 27"
   ]
  },
  {
   "cell_type": "code",
   "execution_count": 13,
   "id": "f7d110e6-fa2b-4c8a-b55c-8c6cec073c4c",
   "metadata": {},
   "outputs": [],
   "source": [
    "Age+=1"
   ]
  },
  {
   "cell_type": "code",
   "execution_count": 14,
   "id": "59084c03-ffe4-42ef-9b86-99328f0ded1d",
   "metadata": {},
   "outputs": [
    {
     "name": "stdout",
     "output_type": "stream",
     "text": [
      "my age is 28\n"
     ]
    }
   ],
   "source": [
    "print(f\"my age is {Age}\")"
   ]
  },
  {
   "cell_type": "markdown",
   "id": "d4ac2a65-13a4-45d6-9a98-f4cafddf3518",
   "metadata": {},
   "source": [
    "## Question No 6"
   ]
  },
  {
   "cell_type": "code",
   "execution_count": 15,
   "id": "0c4174a4-a192-4f1a-9380-0931f4524d44",
   "metadata": {},
   "outputs": [],
   "source": [
    "a=2\n",
    "b=1\n",
    "c=6\n",
    "d=3"
   ]
  },
  {
   "cell_type": "code",
   "execution_count": 16,
   "id": "161d28d1-b4e2-478c-b6f2-a9ba21f3abcd",
   "metadata": {},
   "outputs": [],
   "source": [
    "add=a-b\n",
    "sub=c-a\n",
    "mul=d*b\n",
    "div=c/d\n",
    "mod=c%d\n",
    "sqr=(d+a)**2"
   ]
  },
  {
   "cell_type": "code",
   "execution_count": 17,
   "id": "584c2b71-9cc8-4a7e-9d51-afc2472c242c",
   "metadata": {},
   "outputs": [
    {
     "name": "stdout",
     "output_type": "stream",
     "text": [
      "addition:  1\n",
      "subtraction:  4\n",
      "multiplication:  3\n",
      "division:  2.0\n",
      "modulus:  0\n",
      "square:  25\n"
     ]
    }
   ],
   "source": [
    "print(\"addition: \",add)\n",
    "print(\"subtraction: \",sub)\n",
    "print(\"multiplication: \",mul)\n",
    "print(\"division: \",div)\n",
    "print(\"modulus: \",mod)\n",
    "print(\"square: \",sqr)"
   ]
  },
  {
   "cell_type": "markdown",
   "id": "ccb5f0df-18ce-415e-8a5d-4a9f879345d4",
   "metadata": {},
   "source": [
    "## Question No 7"
   ]
  },
  {
   "cell_type": "code",
   "execution_count": 18,
   "id": "65983884-c780-4934-980d-dcca8db7578f",
   "metadata": {},
   "outputs": [],
   "source": [
    "a='2'\n",
    "b='11'\n",
    "c=6.3"
   ]
  },
  {
   "cell_type": "code",
   "execution_count": 19,
   "id": "590736d3-0a3f-4731-9adf-dc0d30a647c6",
   "metadata": {},
   "outputs": [],
   "source": [
    "add=int(a)+c\n",
    "mul=float(b)*c\n",
    "add2=int(c)+c"
   ]
  },
  {
   "cell_type": "code",
   "execution_count": 20,
   "id": "76d2a588-100c-41be-b86a-269f39980bff",
   "metadata": {},
   "outputs": [
    {
     "name": "stdout",
     "output_type": "stream",
     "text": [
      "Conversion and addition:        8.3\n",
      "Conversion and multiplication:  69.3\n",
      "Conversion and addition 2:      12.3\n"
     ]
    }
   ],
   "source": [
    "print(\"Conversion and addition:       \",add)\n",
    "print(\"Conversion and multiplication: \",mul)\n",
    "print(\"Conversion and addition 2:     \",add2)"
   ]
  },
  {
   "cell_type": "markdown",
   "id": "e93cd476-dff4-43e8-a59f-0a138c0a2d0d",
   "metadata": {},
   "source": [
    "## Question No 8"
   ]
  },
  {
   "cell_type": "code",
   "execution_count": 21,
   "id": "787b3f95-2110-4774-99ba-8f75bd136a36",
   "metadata": {},
   "outputs": [],
   "source": [
    "age=20 # age in 2020"
   ]
  },
  {
   "cell_type": "code",
   "execution_count": 22,
   "id": "3c285660-ccd4-4f9f-9d84-3703fa58bf06",
   "metadata": {},
   "outputs": [],
   "source": [
    "age+=5 # after 5 years"
   ]
  },
  {
   "cell_type": "code",
   "execution_count": 23,
   "id": "f6e6acbb-5dc5-49d5-b925-94a36850da62",
   "metadata": {},
   "outputs": [
    {
     "name": "stdout",
     "output_type": "stream",
     "text": [
      "age 25\n"
     ]
    }
   ],
   "source": [
    "print(\"age\",age) #age in 2025"
   ]
  },
  {
   "cell_type": "markdown",
   "id": "5c4bc2b2-4633-467b-abc7-e8b41b701da1",
   "metadata": {},
   "source": [
    "## Question No 9"
   ]
  },
  {
   "cell_type": "code",
   "execution_count": 24,
   "id": "0ee60986-ced1-472d-ab55-0ba62520278e",
   "metadata": {},
   "outputs": [],
   "source": [
    "books=12"
   ]
  },
  {
   "cell_type": "code",
   "execution_count": 25,
   "id": "ad05c6d7-fc8f-4891-ad48-0cf6ca69c705",
   "metadata": {},
   "outputs": [],
   "source": [
    "books-=4 # 4 books were given to friends"
   ]
  },
  {
   "cell_type": "code",
   "execution_count": 26,
   "id": "53011914-3fd6-4e91-a767-9d6291832403",
   "metadata": {},
   "outputs": [
    {
     "name": "stdout",
     "output_type": "stream",
     "text": [
      "books:  8\n"
     ]
    }
   ],
   "source": [
    "print(\"books: \",books)"
   ]
  },
  {
   "cell_type": "markdown",
   "id": "480dfa8a-67d8-4305-a09b-6fb42aee7d2c",
   "metadata": {},
   "source": [
    "## Question No 10"
   ]
  },
  {
   "cell_type": "code",
   "execution_count": 27,
   "id": "2e011738-5a6c-4ec2-95c4-f2a190a8b276",
   "metadata": {},
   "outputs": [],
   "source": [
    "cookies=5 # cookies baked "
   ]
  },
  {
   "cell_type": "code",
   "execution_count": 28,
   "id": "844f5791-3853-4ff9-a94d-9334201cd8b6",
   "metadata": {},
   "outputs": [],
   "source": [
    "cookies*=3 #today, baked cookies are 3 time more"
   ]
  },
  {
   "cell_type": "code",
   "execution_count": 29,
   "id": "72050540-518f-4e4c-8f47-ca294913065c",
   "metadata": {},
   "outputs": [
    {
     "name": "stdout",
     "output_type": "stream",
     "text": [
      "cookies:  15\n"
     ]
    }
   ],
   "source": [
    "print(\"cookies: \",cookies)"
   ]
  },
  {
   "cell_type": "code",
   "execution_count": null,
   "id": "acb9d38c-10dd-41bc-9d89-7033b67d7e3b",
   "metadata": {},
   "outputs": [],
   "source": []
  },
  {
   "cell_type": "code",
   "execution_count": null,
   "id": "ec91724f-546b-413c-9729-bbd96132a1b6",
   "metadata": {},
   "outputs": [],
   "source": []
  }
 ],
 "metadata": {
  "kernelspec": {
   "display_name": "Python [conda env:base] *",
   "language": "python",
   "name": "conda-base-py"
  },
  "language_info": {
   "codemirror_mode": {
    "name": "ipython",
    "version": 3
   },
   "file_extension": ".py",
   "mimetype": "text/x-python",
   "name": "python",
   "nbconvert_exporter": "python",
   "pygments_lexer": "ipython3",
   "version": "3.13.5"
  }
 },
 "nbformat": 4,
 "nbformat_minor": 5
}
