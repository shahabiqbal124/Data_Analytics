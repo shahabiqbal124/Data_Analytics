{
 "cells": [
  {
   "cell_type": "markdown",
   "id": "4d1bb148-562a-43c8-9001-d6693ded5a53",
   "metadata": {},
   "source": [
    "# Assignment"
   ]
  },
  {
   "cell_type": "code",
   "execution_count": 1,
   "id": "55951569-d61b-4112-86d0-f6ea0d60949d",
   "metadata": {},
   "outputs": [
    {
     "name": "stdout",
     "output_type": "stream",
     "text": [
      "Requirement already satisfied: XlsxWriter in d:\\python\\lib\\site-packages (3.2.9)\n",
      "Note: you may need to restart the kernel to use updated packages.\n"
     ]
    }
   ],
   "source": [
    "pip install XlsxWriter"
   ]
  },
  {
   "cell_type": "code",
   "execution_count": 2,
   "id": "d6f344a4-f082-4213-b31f-4ebf98e76a44",
   "metadata": {},
   "outputs": [],
   "source": [
    "import pandas as pd"
   ]
  },
  {
   "cell_type": "code",
   "execution_count": 3,
   "id": "affc5298-3602-434b-add4-e13c4b876f58",
   "metadata": {},
   "outputs": [],
   "source": [
    "df = pd.read_csv(\"retail supermarket.csv\")"
   ]
  },
  {
   "cell_type": "code",
   "execution_count": 4,
   "id": "e3514ec7-f2de-444f-a980-cfb9c74a4f85",
   "metadata": {},
   "outputs": [
    {
     "name": "stdout",
     "output_type": "stream",
     "text": [
      "        Ship Mode    Segment        Country             City       State  \\\n",
      "0    Second Class   Consumer  United States        Henderson    Kentucky   \n",
      "1    Second Class   Consumer  United States        Henderson    Kentucky   \n",
      "2    Second Class  Corporate  United States      Los Angeles  California   \n",
      "3  Standard Class   Consumer  United States  Fort Lauderdale     Florida   \n",
      "4  Standard Class   Consumer  United States  Fort Lauderdale     Florida   \n",
      "\n",
      "   Postal Code Region         Category Sub-Category     Sales  Quantity  \\\n",
      "0        42420  South        Furniture    Bookcases  261.9600         2   \n",
      "1        42420  South        Furniture       Chairs  731.9400         3   \n",
      "2        90036   West  Office Supplies       Labels   14.6200         2   \n",
      "3        33311  South        Furniture       Tables  957.5775         5   \n",
      "4        33311  South  Office Supplies      Storage   22.3680         2   \n",
      "\n",
      "   Discount    Profit  \n",
      "0      0.00   41.9136  \n",
      "1      0.00  219.5820  \n",
      "2      0.00    6.8714  \n",
      "3      0.45 -383.0310  \n",
      "4      0.20    2.5164  \n"
     ]
    }
   ],
   "source": [
    "print(df.head())"
   ]
  },
  {
   "cell_type": "code",
   "execution_count": 5,
   "id": "3c9e868f-9d78-4a2f-a099-e3d490f7ed89",
   "metadata": {},
   "outputs": [
    {
     "name": "stdout",
     "output_type": "stream",
     "text": [
      "<class 'pandas.core.frame.DataFrame'>\n",
      "RangeIndex: 9994 entries, 0 to 9993\n",
      "Data columns (total 13 columns):\n",
      " #   Column        Non-Null Count  Dtype  \n",
      "---  ------        --------------  -----  \n",
      " 0   Ship Mode     9994 non-null   object \n",
      " 1   Segment       9994 non-null   object \n",
      " 2   Country       9994 non-null   object \n",
      " 3   City          9994 non-null   object \n",
      " 4   State         9994 non-null   object \n",
      " 5   Postal Code   9994 non-null   int64  \n",
      " 6   Region        9994 non-null   object \n",
      " 7   Category      9994 non-null   object \n",
      " 8   Sub-Category  9994 non-null   object \n",
      " 9   Sales         9994 non-null   float64\n",
      " 10  Quantity      9994 non-null   int64  \n",
      " 11  Discount      9994 non-null   float64\n",
      " 12  Profit        9994 non-null   float64\n",
      "dtypes: float64(3), int64(2), object(8)\n",
      "memory usage: 1015.1+ KB\n",
      "None\n"
     ]
    }
   ],
   "source": [
    "print(df.info())"
   ]
  },
  {
   "cell_type": "code",
   "execution_count": 6,
   "id": "74a9b921-6d66-4022-ad02-70b3c81a9e2a",
   "metadata": {},
   "outputs": [
    {
     "name": "stdout",
     "output_type": "stream",
     "text": [
      "        Postal Code         Sales     Quantity     Discount       Profit\n",
      "count   9994.000000   9994.000000  9994.000000  9994.000000  9994.000000\n",
      "mean   55190.379428    229.858001     3.789574     0.156203    28.656896\n",
      "std    32063.693350    623.245101     2.225110     0.206452   234.260108\n",
      "min     1040.000000      0.444000     1.000000     0.000000 -6599.978000\n",
      "25%    23223.000000     17.280000     2.000000     0.000000     1.728750\n",
      "50%    56430.500000     54.490000     3.000000     0.200000     8.666500\n",
      "75%    90008.000000    209.940000     5.000000     0.200000    29.364000\n",
      "max    99301.000000  22638.480000    14.000000     0.800000  8399.976000\n"
     ]
    }
   ],
   "source": [
    "print(df.describe())"
   ]
  },
  {
   "cell_type": "markdown",
   "id": "be2257fe-6011-4792-912e-c7dd59101e5a",
   "metadata": {},
   "source": [
    "# Answers of Questions"
   ]
  },
  {
   "cell_type": "code",
   "execution_count": 7,
   "id": "2c11c89a-a9f2-4797-8a77-84516a14ce9b",
   "metadata": {},
   "outputs": [
    {
     "name": "stdout",
     "output_type": "stream",
     "text": [
      "           Ship Mode    Segment        Country           City         State  \\\n",
      "7     Standard Class   Consumer  United States    Los Angeles    California   \n",
      "10    Standard Class   Consumer  United States    Los Angeles    California   \n",
      "16    Standard Class   Consumer  United States        Madison     Wisconsin   \n",
      "27    Standard Class   Consumer  United States   Philadelphia  Pennsylvania   \n",
      "35       First Class  Corporate  United States     Richardson         Texas   \n",
      "...              ...        ...            ...            ...           ...   \n",
      "9879  Standard Class   Consumer  United States  New York City      New York   \n",
      "9925     First Class  Corporate  United States  New York City      New York   \n",
      "9942  Standard Class   Consumer  United States        Anaheim    California   \n",
      "9947    Second Class  Corporate  United States   Indianapolis       Indiana   \n",
      "9948    Second Class  Corporate  United States   Indianapolis       Indiana   \n",
      "\n",
      "      Postal Code   Region         Category Sub-Category     Sales  Quantity  \\\n",
      "7           90032     West       Technology       Phones   907.152         6   \n",
      "10          90032     West        Furniture       Tables  1706.184         9   \n",
      "16          53711  Central  Office Supplies      Storage   665.880         6   \n",
      "27          19140     East        Furniture    Bookcases  3083.430         7   \n",
      "35          75080  Central       Technology       Phones  1097.544         7   \n",
      "...           ...      ...              ...          ...       ...       ...   \n",
      "9879        10035     East        Furniture       Chairs   573.174         7   \n",
      "9925        10035     East  Office Supplies      Binders  1087.936         8   \n",
      "9942        92804     West  Office Supplies      Storage   998.820         9   \n",
      "9947        46203  Central        Furniture       Chairs  1925.880         6   \n",
      "9948        46203  Central  Office Supplies   Appliances  2405.200         8   \n",
      "\n",
      "      Discount     Profit  \n",
      "7          0.2    90.7152  \n",
      "10         0.2    85.3092  \n",
      "16         0.0    13.3176  \n",
      "27         0.5 -1665.0522  \n",
      "35         0.2   123.4737  \n",
      "...        ...        ...  \n",
      "9879       0.1    63.6860  \n",
      "9925       0.2   353.5792  \n",
      "9942       0.0    29.9646  \n",
      "9947       0.0   539.2464  \n",
      "9948       0.0   793.7160  \n",
      "\n",
      "[431 rows x 13 columns]\n"
     ]
    }
   ],
   "source": [
    "filtered_df = df[(df[\"Sales\"] > 500) & (df[\"Quantity\"] > 5)]\n",
    "print(filtered_df)"
   ]
  },
  {
   "cell_type": "code",
   "execution_count": 8,
   "id": "9ba4a47c-671d-47cf-abc4-855b77cce24d",
   "metadata": {},
   "outputs": [
    {
     "name": "stdout",
     "output_type": "stream",
     "text": [
      "           Ship Mode      Segment        Country             City  \\\n",
      "3     Standard Class     Consumer  United States  Fort Lauderdale   \n",
      "14    Standard Class  Home Office  United States       Fort Worth   \n",
      "15    Standard Class  Home Office  United States       Fort Worth   \n",
      "23      Second Class     Consumer  United States     Philadelphia   \n",
      "27    Standard Class     Consumer  United States     Philadelphia   \n",
      "...              ...          ...            ...              ...   \n",
      "9920  Standard Class    Corporate  United States            Bryan   \n",
      "9921  Standard Class  Home Office  United States            Akron   \n",
      "9931  Standard Class     Consumer  United States   San Bernardino   \n",
      "9937    Second Class    Corporate  United States      Los Angeles   \n",
      "9962     First Class  Home Office  United States          Houston   \n",
      "\n",
      "             State  Postal Code   Region         Category Sub-Category  \\\n",
      "3          Florida        33311    South        Furniture       Tables   \n",
      "14           Texas        76106  Central  Office Supplies   Appliances   \n",
      "15           Texas        76106  Central  Office Supplies      Binders   \n",
      "23    Pennsylvania        19140     East        Furniture       Chairs   \n",
      "27    Pennsylvania        19140     East        Furniture    Bookcases   \n",
      "...            ...          ...      ...              ...          ...   \n",
      "9920         Texas        77803  Central  Office Supplies      Binders   \n",
      "9921          Ohio        44312     East  Office Supplies      Binders   \n",
      "9931    California        92404     West        Furniture    Bookcases   \n",
      "9937    California        90049     West        Furniture       Tables   \n",
      "9962         Texas        77041  Central        Furniture    Bookcases   \n",
      "\n",
      "          Sales  Quantity  Discount     Profit  \n",
      "3      957.5775         5      0.45  -383.0310  \n",
      "14      68.8100         5      0.80  -123.8580  \n",
      "15       2.5440         3      0.80    -3.8160  \n",
      "23      71.3720         2      0.30    -1.0196  \n",
      "27    3083.4300         7      0.50 -1665.0522  \n",
      "...         ...       ...       ...        ...  \n",
      "9920    22.3860         7      0.80   -35.8176  \n",
      "9921     5.7420         3      0.70    -4.5936  \n",
      "9931   683.3320         4      0.15   -40.1960  \n",
      "9937    71.0880         2      0.20    -1.7772  \n",
      "9962   383.4656         4      0.32   -67.6704  \n",
      "\n",
      "[1871 rows x 13 columns]\n"
     ]
    }
   ],
   "source": [
    "filtered_df = df[(df[\"Discount\"] > 0.5) | (df[\"Profit\"] < 0)]\n",
    "print(filtered_df)"
   ]
  },
  {
   "cell_type": "code",
   "execution_count": 9,
   "id": "5270bde2-5498-4ecd-bd24-3b989302fc0f",
   "metadata": {},
   "outputs": [
    {
     "name": "stdout",
     "output_type": "stream",
     "text": [
      "           Ship Mode     Profit\n",
      "23      Second Class    -1.0196\n",
      "27    Standard Class -1665.0522\n",
      "28    Standard Class    -7.0532\n",
      "29    Standard Class    15.5250\n",
      "30    Standard Class     1.1016\n",
      "...              ...        ...\n",
      "9968  Standard Class   331.1910\n",
      "9969  Standard Class     6.5975\n",
      "9981     First Class     5.3690\n",
      "9984  Standard Class    15.1200\n",
      "9985  Standard Class    16.1240\n",
      "\n",
      "[2848 rows x 2 columns]\n"
     ]
    }
   ],
   "source": [
    "result = df.loc[df[\"Region\"] == \"East\", [\"Ship Mode\", \"Profit\"]]\n",
    "print(result)"
   ]
  },
  {
   "cell_type": "code",
   "execution_count": 10,
   "id": "82dd09d4-2b46-4128-af3d-40c8bf6f1b2b",
   "metadata": {},
   "outputs": [
    {
     "name": "stdout",
     "output_type": "stream",
     "text": [
      "Number of records: 673\n"
     ]
    }
   ],
   "source": [
    "filtered_df = df[(df[\"Segment\"] == \"Corporate\") & (df[\"Region\"] == \"Central\")]\n",
    "count = len(filtered_df)\n",
    "print(\"Number of records:\", count)"
   ]
  },
  {
   "cell_type": "code",
   "execution_count": 11,
   "id": "09e807c0-0e8c-487c-82e1-f0191b4dcac6",
   "metadata": {},
   "outputs": [
    {
     "name": "stdout",
     "output_type": "stream",
     "text": [
      "Orders in Furniture category but not Chairs sub-category:\n",
      "           Ship Mode      Segment        Country             City       State  \\\n",
      "0       Second Class     Consumer  United States        Henderson    Kentucky   \n",
      "3     Standard Class     Consumer  United States  Fort Lauderdale     Florida   \n",
      "5     Standard Class     Consumer  United States      Los Angeles  California   \n",
      "10    Standard Class     Consumer  United States      Los Angeles  California   \n",
      "24    Standard Class     Consumer  United States             Orem        Utah   \n",
      "...              ...          ...            ...              ...         ...   \n",
      "9962     First Class  Home Office  United States          Houston       Texas   \n",
      "9964    Second Class    Corporate  United States           Newark    Delaware   \n",
      "9980    Second Class     Consumer  United States        Lafayette   Louisiana   \n",
      "9989    Second Class     Consumer  United States            Miami     Florida   \n",
      "9990  Standard Class     Consumer  United States       Costa Mesa  California   \n",
      "\n",
      "      Postal Code   Region   Category Sub-Category      Sales  Quantity  \\\n",
      "0           42420    South  Furniture    Bookcases   261.9600         2   \n",
      "3           33311    South  Furniture       Tables   957.5775         5   \n",
      "5           90032     West  Furniture  Furnishings    48.8600         7   \n",
      "10          90032     West  Furniture       Tables  1706.1840         9   \n",
      "24          84057     West  Furniture       Tables  1044.6300         3   \n",
      "...           ...      ...        ...          ...        ...       ...   \n",
      "9962        77041  Central  Furniture    Bookcases   383.4656         4   \n",
      "9964        19711     East  Furniture  Furnishings    13.4000         1   \n",
      "9980        70506    South  Furniture       Tables    85.9800         1   \n",
      "9989        33180    South  Furniture  Furnishings    25.2480         3   \n",
      "9990        92627     West  Furniture  Furnishings    91.9600         2   \n",
      "\n",
      "      Discount    Profit  \n",
      "0         0.00   41.9136  \n",
      "3         0.45 -383.0310  \n",
      "5         0.00   14.1694  \n",
      "10        0.20   85.3092  \n",
      "24        0.00  240.2649  \n",
      "...        ...       ...  \n",
      "9962      0.32  -67.6704  \n",
      "9964      0.00    6.4320  \n",
      "9980      0.00   22.3548  \n",
      "9989      0.20    4.1028  \n",
      "9990      0.00   15.6332  \n",
      "\n",
      "[1504 rows x 13 columns]\n"
     ]
    }
   ],
   "source": [
    "filtered_df = df[(df[\"Category\"] == \"Furniture\") & (df[\"Sub-Category\"] != \"Chairs\")]\n",
    "print(\"Orders in Furniture category but not Chairs sub-category:\")\n",
    "print(filtered_df)"
   ]
  },
  {
   "cell_type": "code",
   "execution_count": 12,
   "id": "330d790a-d6e9-486e-8d48-0ecbf7cb3560",
   "metadata": {},
   "outputs": [
    {
     "name": "stdout",
     "output_type": "stream",
     "text": [
      "Orders with Discount > 0.3 and Profit > 0:\n",
      "           Ship Mode      Segment        Country           City         State  \\\n",
      "343     Second Class    Corporate  United States   Philadelphia  Pennsylvania   \n",
      "614     Second Class     Consumer  United States     Grove City          Ohio   \n",
      "986   Standard Class  Home Office  United States       Pasadena         Texas   \n",
      "1233     First Class    Corporate  United States     Cincinnati          Ohio   \n",
      "1679  Standard Class    Corporate  United States   Philadelphia  Pennsylvania   \n",
      "1912    Second Class    Corporate  United States        Houston         Texas   \n",
      "1986     First Class     Consumer  United States       Columbus          Ohio   \n",
      "2125  Standard Class  Home Office  United States   Philadelphia  Pennsylvania   \n",
      "2135  Standard Class     Consumer  United States   Philadelphia  Pennsylvania   \n",
      "2728     First Class     Consumer  United States         Toledo          Ohio   \n",
      "3781    Second Class     Consumer  United States   Philadelphia  Pennsylvania   \n",
      "4003  Standard Class     Consumer  United States    San Antonio         Texas   \n",
      "4491    Second Class     Consumer  United States       Columbus          Ohio   \n",
      "4812    Second Class     Consumer  United States   Philadelphia  Pennsylvania   \n",
      "5384  Standard Class     Consumer  United States   Philadelphia  Pennsylvania   \n",
      "5385  Standard Class     Consumer  United States   Philadelphia  Pennsylvania   \n",
      "6425  Standard Class     Consumer  United States   Philadelphia  Pennsylvania   \n",
      "6951  Standard Class    Corporate  United States         Dallas         Texas   \n",
      "7042  Standard Class     Consumer  United States   Philadelphia  Pennsylvania   \n",
      "8123  Standard Class     Consumer  United States   Philadelphia  Pennsylvania   \n",
      "8799     First Class     Consumer  United States   Philadelphia  Pennsylvania   \n",
      "8808  Standard Class     Consumer  United States   Philadelphia  Pennsylvania   \n",
      "9106  Standard Class     Consumer  United States        Houston         Texas   \n",
      "9516    Second Class     Consumer  United States  Bowling Green          Ohio   \n",
      "9617  Standard Class    Corporate  United States  Bowling Green          Ohio   \n",
      "9798  Standard Class    Corporate  United States         Toledo          Ohio   \n",
      "\n",
      "      Postal Code   Region    Category Sub-Category     Sales  Quantity  \\\n",
      "343         19140     East  Technology       Phones    71.928        12   \n",
      "614         43123     East  Technology       Phones   119.940        10   \n",
      "986         77506  Central  Technology     Machines   336.510         3   \n",
      "1233        45231     East  Technology      Copiers   839.988         2   \n",
      "1679        19134     East  Technology       Phones    32.382         3   \n",
      "1912        77041  Central  Technology     Machines   597.132         3   \n",
      "1986        43229     East  Technology      Copiers  1439.976         4   \n",
      "2125        19143     East  Technology       Phones    62.958         7   \n",
      "2135        19134     East  Technology       Phones    94.920         4   \n",
      "2728        43615     East  Technology       Phones   629.958         7   \n",
      "3781        19120     East  Technology       Phones   269.982         3   \n",
      "4003        78207  Central  Technology     Machines   287.910         3   \n",
      "4491        43229     East  Technology      Copiers   659.988         2   \n",
      "4812        19134     East  Technology      Copiers  1199.976         4   \n",
      "5384        19143     East  Technology       Phones   358.200         3   \n",
      "5385        19143     East  Technology       Phones   545.916        14   \n",
      "6425        19120     East  Technology      Copiers  8399.976         4   \n",
      "6951        75217  Central  Technology     Machines   479.988         2   \n",
      "7042        19134     East  Technology      Copiers   599.970         5   \n",
      "8123        19134     East  Technology      Copiers  1079.976         4   \n",
      "8799        19134     East  Technology      Copiers  1799.970         5   \n",
      "8808        19134     East  Technology       Phones   118.650         5   \n",
      "9106        77041  Central  Technology     Machines   287.910         3   \n",
      "9516        43402     East  Technology       Phones    26.982         3   \n",
      "9617        43402     East  Technology      Copiers   899.982         3   \n",
      "9798        43615     East  Technology       Phones    26.376         4   \n",
      "\n",
      "      Discount     Profit  \n",
      "343        0.4     8.3916  \n",
      "614        0.4    15.9920  \n",
      "986        0.4    44.8680  \n",
      "1233       0.4    69.9990  \n",
      "1679       0.4     4.3176  \n",
      "1912       0.4    49.7610  \n",
      "1986       0.4   191.9968  \n",
      "2125       0.4     9.4437  \n",
      "2135       0.4    15.8200  \n",
      "2728       0.4    94.4937  \n",
      "3781       0.4    40.4973  \n",
      "4003       0.4    33.5895  \n",
      "4491       0.4   109.9980  \n",
      "4812       0.4   179.9964  \n",
      "5384       0.4    41.7900  \n",
      "5385       0.4    72.7888  \n",
      "6425       0.4  1119.9968  \n",
      "6951       0.4    55.9986  \n",
      "7042       0.4    69.9965  \n",
      "8123       0.4   125.9972  \n",
      "8799       0.4   239.9960  \n",
      "8808       0.4    19.7750  \n",
      "9106       0.4    33.5895  \n",
      "9516       0.4     4.0473  \n",
      "9617       0.4    74.9985  \n",
      "9798       0.4     2.6376  \n"
     ]
    }
   ],
   "source": [
    "filtered_df = df[(df[\"Discount\"] > 0.3) & (df[\"Profit\"] > 0)]\n",
    "print(\"Orders with Discount > 0.3 and Profit > 0:\")\n",
    "print(filtered_df)"
   ]
  },
  {
   "cell_type": "code",
   "execution_count": 13,
   "id": "a239e4a1-743e-47f9-bb21-4595f7f35aa0",
   "metadata": {},
   "outputs": [
    {
     "name": "stdout",
     "output_type": "stream",
     "text": [
      "Technology category orders where Quantity > 5:\n",
      "           Ship Mode    Segment        Country           City           State  \\\n",
      "7     Standard Class   Consumer  United States    Los Angeles      California   \n",
      "35       First Class  Corporate  United States     Richardson           Texas   \n",
      "103   Standard Class   Consumer  United States         Aurora        Colorado   \n",
      "106   Standard Class   Consumer  United States      Charlotte  North Carolina   \n",
      "123      First Class   Consumer  United States     Wilmington        Delaware   \n",
      "...              ...        ...            ...            ...             ...   \n",
      "9840  Standard Class   Consumer  United States     Long Beach      California   \n",
      "9882     First Class   Consumer  United States      Woodstock         Georgia   \n",
      "9891    Second Class  Corporate  United States      Milwaukee       Wisconsin   \n",
      "9895  Standard Class   Consumer  United States        Chicago        Illinois   \n",
      "9941  Standard Class   Consumer  United States  San Francisco      California   \n",
      "\n",
      "      Postal Code   Region    Category Sub-Category     Sales  Quantity  \\\n",
      "7           90032     West  Technology       Phones   907.152         6   \n",
      "35          75080  Central  Technology       Phones  1097.544         7   \n",
      "103         80013     West  Technology  Accessories   238.896         6   \n",
      "106         28205    South  Technology  Accessories    74.112         8   \n",
      "123         19805     East  Technology       Phones    68.040         7   \n",
      "...           ...      ...         ...          ...       ...       ...   \n",
      "9840        90805     West  Technology       Phones    44.736         8   \n",
      "9882        30188    South  Technology  Accessories   272.610        13   \n",
      "9891        53209  Central  Technology  Accessories   124.250         7   \n",
      "9895        60623  Central  Technology  Accessories   153.824        11   \n",
      "9941        94122     West  Technology  Accessories   223.580        14   \n",
      "\n",
      "      Discount    Profit  \n",
      "7          0.2   90.7152  \n",
      "35         0.2  123.4737  \n",
      "103        0.2  -26.8758  \n",
      "106        0.2   17.6016  \n",
      "123        0.0   19.7316  \n",
      "...        ...       ...  \n",
      "9840       0.2    4.4736  \n",
      "9882       0.0   98.1396  \n",
      "9891       0.0   48.4575  \n",
      "9895       0.2   38.4560  \n",
      "9941       0.0   87.1962  \n",
      "\n",
      "[323 rows x 13 columns]\n"
     ]
    }
   ],
   "source": [
    "filtered_df = df[(df[\"Quantity\"] > 5) & (df[\"Category\"] == \"Technology\")]\n",
    "print(\"Technology category orders where Quantity > 5:\")\n",
    "print(filtered_df)"
   ]
  },
  {
   "cell_type": "code",
   "execution_count": 14,
   "id": "f5db7738-f44f-4626-ade0-47f05bbacfe3",
   "metadata": {},
   "outputs": [
    {
     "name": "stdout",
     "output_type": "stream",
     "text": [
      "Rows 0–4 with Ship Mode, Segment, Sales:\n",
      "        Ship Mode    Segment     Sales\n",
      "0    Second Class   Consumer  261.9600\n",
      "1    Second Class   Consumer  731.9400\n",
      "2    Second Class  Corporate   14.6200\n",
      "3  Standard Class   Consumer  957.5775\n",
      "4  Standard Class   Consumer   22.3680\n"
     ]
    }
   ],
   "source": [
    "filtered_df = df.iloc[0:5, [0,1,9]]\n",
    "print(\"Rows 0–4 with Ship Mode, Segment, Sales:\")\n",
    "print(filtered_df)"
   ]
  },
  {
   "cell_type": "code",
   "execution_count": 15,
   "id": "ce83533a-4975-4124-8256-855fee8822ec",
   "metadata": {},
   "outputs": [
    {
     "name": "stdout",
     "output_type": "stream",
     "text": [
      "Home Office segment orders with Sales > 1000 and Quantity > 3:\n",
      "           Ship Mode      Segment        Country           City         State  \\\n",
      "244     Second Class  Home Office  United States      Lakeville     Minnesota   \n",
      "247     Second Class  Home Office  United States      Lakeville     Minnesota   \n",
      "353      First Class  Home Office  United States  New York City      New York   \n",
      "463   Standard Class  Home Office  United States        Phoenix       Arizona   \n",
      "515   Standard Class  Home Office  United States    Great Falls       Montana   \n",
      "...              ...          ...            ...            ...           ...   \n",
      "8890    Second Class  Home Office  United States       Columbia      Missouri   \n",
      "8892  Standard Class  Home Office  United States      San Diego    California   \n",
      "9056     First Class  Home Office  United States  New York City      New York   \n",
      "9660  Standard Class  Home Office  United States  Santa Barbara    California   \n",
      "9673  Standard Class  Home Office  United States   Philadelphia  Pennsylvania   \n",
      "\n",
      "      Postal Code   Region         Category Sub-Category     Sales  Quantity  \\\n",
      "244         55044  Central        Furniture       Chairs  2001.860         7   \n",
      "247         55044  Central  Office Supplies   Appliances  1503.250         5   \n",
      "353         10009     East  Office Supplies      Binders  4355.168         4   \n",
      "463         85023     West        Furniture       Tables  1272.630         6   \n",
      "515         59405     West       Technology      Copiers  2999.950         5   \n",
      "...           ...      ...              ...          ...       ...       ...   \n",
      "8890        65203  Central  Office Supplies   Appliances  1927.590         7   \n",
      "8892        92037     West        Furniture       Chairs  2676.672         9   \n",
      "9056        10011     East        Furniture       Chairs  2621.322        11   \n",
      "9660        93101     West       Technology       Phones  3023.928         9   \n",
      "9673        19143     East       Technology       Phones  1499.970         5   \n",
      "\n",
      "      Discount     Profit  \n",
      "244        0.0   580.5394  \n",
      "247        0.0   496.0725  \n",
      "353        0.2  1415.4296  \n",
      "463        0.5  -814.4832  \n",
      "515        0.0  1379.9770  \n",
      "...        ...        ...  \n",
      "8890       0.0   751.7601  \n",
      "8892       0.2   267.6672  \n",
      "9056       0.1   553.3902  \n",
      "9660       0.2   226.7946  \n",
      "9673       0.4  -374.9925  \n",
      "\n",
      "[73 rows x 13 columns]\n"
     ]
    }
   ],
   "source": [
    "filtered_df = df[(df[\"Segment\"] == \"Home Office\") & \n",
    "                 (df[\"Sales\"] > 1000) & \n",
    "                 (df[\"Quantity\"] > 3)]\n",
    "print(\"Home Office segment orders with Sales > 1000 and Quantity > 3:\")\n",
    "print(filtered_df)"
   ]
  },
  {
   "cell_type": "code",
   "execution_count": 16,
   "id": "1cbf8a5f-327d-4b02-a41f-a4e0c778ee33",
   "metadata": {},
   "outputs": [
    {
     "name": "stdout",
     "output_type": "stream",
     "text": [
      "Orders where Profit Margin > 0.3:\n",
      "           Ship Mode    Segment        Country           City           State  \\\n",
      "2       Second Class  Corporate  United States    Los Angeles      California   \n",
      "8     Standard Class   Consumer  United States    Los Angeles      California   \n",
      "12    Standard Class   Consumer  United States        Concord  North Carolina   \n",
      "13    Standard Class   Consumer  United States        Seattle      Washington   \n",
      "20      Second Class   Consumer  United States  San Francisco      California   \n",
      "...              ...        ...            ...            ...             ...   \n",
      "9982  Standard Class   Consumer  United States   Grand Rapids        Michigan   \n",
      "9984  Standard Class   Consumer  United States     Long Beach        New York   \n",
      "9986  Standard Class   Consumer  United States    Los Angeles      California   \n",
      "9987  Standard Class  Corporate  United States         Athens         Georgia   \n",
      "9992  Standard Class   Consumer  United States     Costa Mesa      California   \n",
      "\n",
      "      Postal Code   Region         Category Sub-Category    Sales  Quantity  \\\n",
      "2           90036     West  Office Supplies       Labels   14.620         2   \n",
      "8           90032     West  Office Supplies      Binders   18.504         3   \n",
      "12          28027    South  Office Supplies        Paper   15.552         3   \n",
      "13          98103     West  Office Supplies      Binders  407.976         3   \n",
      "20          94109     West  Office Supplies      Binders   22.720         4   \n",
      "...           ...      ...              ...          ...      ...       ...   \n",
      "9982        49505  Central  Office Supplies        Paper   35.560         7   \n",
      "9984        11561     East  Office Supplies       Labels   31.500        10   \n",
      "9986        90008     West       Technology  Accessories   36.240         1   \n",
      "9987        30605    South       Technology  Accessories   79.990         1   \n",
      "9992        92627     West  Office Supplies        Paper   29.600         4   \n",
      "\n",
      "      Discount    Profit  Profit Margin  \n",
      "2          0.0    6.8714         0.4700  \n",
      "8          0.2    5.7825         0.3125  \n",
      "12         0.2    5.4432         0.3500  \n",
      "13         0.2  132.5922         0.3250  \n",
      "20         0.2    7.3840         0.3250  \n",
      "...        ...       ...            ...  \n",
      "9982       0.0   16.7132         0.4700  \n",
      "9984       0.0   15.1200         0.4800  \n",
      "9986       0.0   15.2208         0.4200  \n",
      "9987       0.0   28.7964         0.3600  \n",
      "9992       0.0   13.3200         0.4500  \n",
      "\n",
      "[4145 rows x 14 columns]\n"
     ]
    }
   ],
   "source": [
    "df[\"Profit Margin\"] = df[\"Profit\"] / df[\"Sales\"]\n",
    "filtered_df = df[df[\"Profit Margin\"] > 0.3]\n",
    "print(\"Orders where Profit Margin > 0.3:\")\n",
    "print(filtered_df)"
   ]
  },
  {
   "cell_type": "code",
   "execution_count": 18,
   "id": "356b506a-a9de-45ff-8065-f6d150b14240",
   "metadata": {},
   "outputs": [
    {
     "name": "stdout",
     "output_type": "stream",
     "text": [
      "All queries have been saved to 'Shahab_Assignment_13.xlsx'.\n"
     ]
    }
   ],
   "source": [
    "with pd.ExcelWriter(\"Shahab_Assignment_13.xlsx\") as writer:\n",
    "\n",
    "    # Records where Sales > 500 and Quantity > 5\n",
    "    q1 = df[(df[\"Sales\"] > 500) & (df[\"Quantity\"] > 5)]\n",
    "    q1.to_excel(writer, sheet_name=\"Q1_Sales_Quantity\", index=False)\n",
    "\n",
    "    #Records where Discount > 50% or Profit < 0\n",
    "    q2 = df[(df[\"Discount\"] > 0.5) | (df[\"Profit\"] < 0)]\n",
    "    q2.to_excel(writer, sheet_name=\"Q2_Discount_Profit\", index=False)\n",
    "\n",
    "    # Ship Mode and Profit for Region = East\n",
    "    q3 = df.loc[df[\"Region\"] == \"East\", [\"Ship Mode\", \"Profit\"]]\n",
    "    q3.to_excel(writer, sheet_name=\"Q3_East_Profit\", index=False)\n",
    "\n",
    "    # Count records in Corporate segment and Central region\n",
    "    q4 = df[(df[\"Segment\"] == \"Corporate\") & (df[\"Region\"] == \"Central\")]\n",
    "    q4.to_excel(writer, sheet_name=\"Q4_Corp_Central\", index=False)\n",
    "\n",
    "    # Furniture category but not Chairs sub-category\n",
    "    q5 = df[(df[\"Category\"] == \"Furniture\") & (df[\"Sub-Category\"] != \"Chairs\")]\n",
    "    q5.to_excel(writer, sheet_name=\"Q5_Furniture_Not_Chairs\", index=False)\n",
    "\n",
    "    # Orders with Discount > 0.3 and Profit > 0\n",
    "    q6 = df[(df[\"Discount\"] > 0.3) & (df[\"Profit\"] > 0)]\n",
    "    q6.to_excel(writer, sheet_name=\"Q6_Discount_Profit\", index=False)\n",
    "\n",
    "    # High-profit Technology orders where Quantity > 5\n",
    "    q7 = df[(df[\"Quantity\"] > 5) & (df[\"Category\"] == \"Technology\")]\n",
    "    q7.to_excel(writer, sheet_name=\"Q7_Tech_Quantity\", index=False)\n",
    "\n",
    "    # Rows 0–4 with Ship Mode, Segment, and Sales\n",
    "    q8 = df.iloc[0:5, [df.columns.get_loc(\"Ship Mode\"),\n",
    "                        df.columns.get_loc(\"Segment\"),\n",
    "                        df.columns.get_loc(\"Sales\")]]\n",
    "    q8.to_excel(writer, sheet_name=\"Q8_Rows_0_4\", index=False)\n",
    "\n",
    "    # Home Office segment with Sales > 1000 and Quantity > 3\n",
    "    q9 = df[(df[\"Segment\"] == \"Home Office\") & (df[\"Sales\"] > 1000) & (df[\"Quantity\"] > 3)]\n",
    "    q9.to_excel(writer, sheet_name=\"Q9_Home_Office\", index=False)\n",
    "\n",
    "    # Orders where Profit Margin > 0.3\n",
    "    df[\"Profit Margin\"] = df[\"Profit\"] / df[\"Sales\"]\n",
    "    q10 = df[df[\"Profit Margin\"] > 0.3]\n",
    "    q10.to_excel(writer, sheet_name=\"Q10_Profit_Margin\", index=False)\n",
    "\n",
    "print(\"All queries have been saved to 'Shahab_Assignment_13.xlsx'.\")"
   ]
  },
  {
   "cell_type": "code",
   "execution_count": 19,
   "id": "3f29159d-2026-4f5d-b01a-e80a7e80825b",
   "metadata": {},
   "outputs": [
    {
     "name": "stdout",
     "output_type": "stream",
     "text": [
      "Current working directory: C:\\Users\\dell\n",
      "Your Excel file should be here: C:\\Users\\dell\\Shahab_Assignment_13.xlsx\n"
     ]
    }
   ],
   "source": [
    "import os\n",
    "\n",
    "# Check current working directory\n",
    "cwd = os.getcwd()\n",
    "print(\"Current working directory:\", cwd)\n",
    "\n",
    "# Full path of the saved file\n",
    "file_path = os.path.join(cwd, \"Shahab_Assignment_13.xlsx\")\n",
    "print(\"Your Excel file should be here:\", file_path)"
   ]
  },
  {
   "cell_type": "code",
   "execution_count": null,
   "id": "db3e0e4f-b053-42c8-901b-b1b0cd73086b",
   "metadata": {},
   "outputs": [],
   "source": []
  },
  {
   "cell_type": "code",
   "execution_count": null,
   "id": "e9b11245-8aae-4eb1-9f08-5e79cc32251f",
   "metadata": {},
   "outputs": [],
   "source": []
  },
  {
   "cell_type": "code",
   "execution_count": null,
   "id": "2d2d8a81-bd1d-4121-9f4e-71d5f30b6346",
   "metadata": {},
   "outputs": [],
   "source": []
  },
  {
   "cell_type": "code",
   "execution_count": null,
   "id": "fc7605e4-174a-42ca-a727-1e67f1633020",
   "metadata": {},
   "outputs": [],
   "source": []
  }
 ],
 "metadata": {
  "kernelspec": {
   "display_name": "Python 3 (ipykernel)",
   "language": "python",
   "name": "python3"
  },
  "language_info": {
   "codemirror_mode": {
    "name": "ipython",
    "version": 3
   },
   "file_extension": ".py",
   "mimetype": "text/x-python",
   "name": "python",
   "nbconvert_exporter": "python",
   "pygments_lexer": "ipython3",
   "version": "3.13.7"
  }
 },
 "nbformat": 4,
 "nbformat_minor": 5
}
