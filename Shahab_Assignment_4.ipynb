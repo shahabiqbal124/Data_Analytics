{
 "cells": [
  {
   "cell_type": "markdown",
   "id": "ef6cff71-da4a-4b53-93b0-b5e1c18081c5",
   "metadata": {},
   "source": [
    "# Shahab_Assignment_4"
   ]
  },
  {
   "cell_type": "markdown",
   "id": "5fdbf639-ee15-40a6-a6e1-3b61a5bae972",
   "metadata": {},
   "source": [
    "## Question 1"
   ]
  },
  {
   "cell_type": "raw",
   "id": "b9e0a72e-4a3b-4d73-abdf-fd36c2a6aafc",
   "metadata": {},
   "source": [
    "text = 'hello python world'\n",
    "\n",
    "Replace spaces with underscores in the string (e.g., \"hello python world\" → \"hello_python_world\").\n",
    "\n",
    "Split the modified string (e.g., \"hello_python_world\" → ['hello', 'python', 'world']).\n",
    "\n",
    "Print all two results\n",
    "\n",
    "Hint: Use string methods"
   ]
  },
  {
   "cell_type": "markdown",
   "id": "7ad48e1f-5fd8-425f-8822-77c75108412b",
   "metadata": {},
   "source": [
    "## Program 1"
   ]
  },
  {
   "cell_type": "code",
   "execution_count": 7,
   "id": "721f2da7-78f7-4ea7-aa1e-34b6d088ed76",
   "metadata": {},
   "outputs": [
    {
     "name": "stdout",
     "output_type": "stream",
     "text": [
      "hello-python-world\n",
      "['hello', 'python', 'world']\n"
     ]
    }
   ],
   "source": [
    "text = 'hello python world'\n",
    "text_underscore=text.replace(\" \",\"-\")\n",
    "text_split=text_underscore.split(\"-\")\n",
    "print(text_underscore)\n",
    "print(text_split)"
   ]
  },
  {
   "cell_type": "markdown",
   "id": "e45ca411-67ea-40f2-8164-2d0dc6736ce1",
   "metadata": {},
   "source": [
    "## Question 2"
   ]
  },
  {
   "cell_type": "raw",
   "id": "cc13a6d1-d5b3-4595-9cce-cb9dbc94aca8",
   "metadata": {},
   "source": [
    "You have a product code that follows the format \"SKU-12345-XYZ\".\n",
    "\n",
    "Find the first position of the dash (-).\n",
    "\n",
    "Count the number of dashes (-) in the product code.\n",
    "\n",
    "Remove the \"SKU-\" prefix and \"-XYZ\" suffix from the product code, Extract the numeric part 12345\n",
    "\n",
    "product_code = \"SKU-12345-XYZ\"\n",
    "\n",
    "Hint: Use String Methods"
   ]
  },
  {
   "cell_type": "markdown",
   "id": "3e40f054-2b38-4270-a852-d374af11de02",
   "metadata": {},
   "source": [
    "## Program 2"
   ]
  },
  {
   "cell_type": "code",
   "execution_count": 8,
   "id": "8cefc0ab-614e-4710-8c82-26549e1947c1",
   "metadata": {},
   "outputs": [
    {
     "name": "stdout",
     "output_type": "stream",
     "text": [
      "3\n",
      "2\n",
      "12345\n"
     ]
    }
   ],
   "source": [
    "product=\"SKU-12345-XYZ\"\n",
    "dash_position=product.find(\"-\")\n",
    "dash_count=product.count(\"-\")\n",
    "numeric=product.split(\"-\")[1]\n",
    "print(dash_position)\n",
    "print(dash_count)\n",
    "print(numeric)"
   ]
  },
  {
   "cell_type": "markdown",
   "id": "92031ad0-2ce5-4c83-b37e-2d9ca6fde924",
   "metadata": {},
   "source": [
    "## Question 3"
   ]
  },
  {
   "cell_type": "raw",
   "id": "05feff66-42ed-46f5-bf5a-d6e07d6bcaf8",
   "metadata": {},
   "source": [
    "Convert a string to Title Case.\n",
    "\n",
    "text_1 = \"hello world\""
   ]
  },
  {
   "cell_type": "markdown",
   "id": "13cb5da0-f06c-4617-ad82-54d739a49d6d",
   "metadata": {},
   "source": [
    "## Program 3"
   ]
  },
  {
   "cell_type": "code",
   "execution_count": 9,
   "id": "873cdebc-173f-45d6-b63a-768ee38894a2",
   "metadata": {},
   "outputs": [
    {
     "name": "stdout",
     "output_type": "stream",
     "text": [
      "Hello World\n"
     ]
    }
   ],
   "source": [
    "text_1 = \"hello world\"\n",
    "title=text_1.title()\n",
    "print(title)"
   ]
  },
  {
   "cell_type": "markdown",
   "id": "16187fac-7fb9-4ec9-8fd1-ce83ffbf32fe",
   "metadata": {},
   "source": [
    "## Question 4"
   ]
  },
  {
   "cell_type": "raw",
   "id": "909c3726-e089-4f51-afcb-00c98279c529",
   "metadata": {},
   "source": [
    "Capitalize the first letter of a string.\n",
    "\n",
    "text_2 = \"python programming\""
   ]
  },
  {
   "cell_type": "markdown",
   "id": "5fdbe238-86fe-415d-84eb-c53d2d15d6c1",
   "metadata": {},
   "source": [
    "## Program 4"
   ]
  },
  {
   "cell_type": "code",
   "execution_count": 10,
   "id": "43d453f0-6a61-421c-af53-ceb5bbb606d5",
   "metadata": {},
   "outputs": [
    {
     "name": "stdout",
     "output_type": "stream",
     "text": [
      "Python programming\n"
     ]
    }
   ],
   "source": [
    "text_2 = \"python programming\"\n",
    "TEXT=text_2.capitalize()\n",
    "print(TEXT)"
   ]
  },
  {
   "cell_type": "markdown",
   "id": "3280134c-58ac-4afc-ba8d-224bf4dd895a",
   "metadata": {},
   "source": [
    "## Question 5"
   ]
  },
  {
   "cell_type": "raw",
   "id": "2daa3428-ac30-4732-9281-f276c4c26954",
   "metadata": {},
   "source": [
    "Given the string below, write Python code to:\n",
    "\n",
    "Convert the string so that each word starts with a capital letter\n",
    "\n",
    "Then swap the case of every letter in the resulting string\n",
    "\n",
    "Print the final result.\n",
    "\n",
    "text1 = \"learning PYTHON is AWESOME\""
   ]
  },
  {
   "cell_type": "markdown",
   "id": "22b51877-7fc6-45d4-a6bb-2a5c34855d16",
   "metadata": {},
   "source": [
    "## Program 5"
   ]
  },
  {
   "cell_type": "code",
   "execution_count": 11,
   "id": "2e579675-c95e-4805-9dc8-d6947f979870",
   "metadata": {},
   "outputs": [
    {
     "name": "stdout",
     "output_type": "stream",
     "text": [
      "Learning Python Is Awesome\n",
      "LEARNING python IS awesome\n"
     ]
    }
   ],
   "source": [
    "text1 = \"learning PYTHON is AWESOME\"\n",
    "capital_text1=text1.title()\n",
    "swap_text1=text1.swapcase()\n",
    "print(capital_text1)\n",
    "print(swap_text1)"
   ]
  },
  {
   "cell_type": "markdown",
   "id": "960b98cd-4c81-4ece-a258-66a269908bfa",
   "metadata": {},
   "source": [
    "## Question 6"
   ]
  },
  {
   "cell_type": "raw",
   "id": "9f30f512-6979-454c-8be9-4765b1e73ead",
   "metadata": {},
   "source": [
    "Write Python code to check and print whether the string satisfies the following:\n",
    "\n",
    "Is alphanumeric?\n",
    "\n",
    "Is alphabetic only?\n",
    "\n",
    "text2 = \"HelloWorld123\""
   ]
  },
  {
   "cell_type": "markdown",
   "id": "fb99a4cc-2434-47e8-b03e-ce7ddb8ed3ab",
   "metadata": {},
   "source": [
    "## Program 6"
   ]
  },
  {
   "cell_type": "code",
   "execution_count": 12,
   "id": "a46926e8-9405-40e5-9dfe-d1090bfc854c",
   "metadata": {},
   "outputs": [
    {
     "name": "stdout",
     "output_type": "stream",
     "text": [
      "True\n",
      "False\n"
     ]
    }
   ],
   "source": [
    "text2 = \"HelloWorld123\"\n",
    "alphanum_text2=text2.isalnum()\n",
    "alphabet_text2=text2.isalpha()\n",
    "print(alphanum_text2)\n",
    "print(alphabet_text2)"
   ]
  },
  {
   "cell_type": "markdown",
   "id": "517f4ea9-0dcb-48c9-9024-5c03ad31e464",
   "metadata": {},
   "source": [
    "## Question 7"
   ]
  },
  {
   "cell_type": "raw",
   "id": "de502086-9d47-4d6d-a61a-806a53265bc9",
   "metadata": {},
   "source": [
    "Write Python code to check and print whether the string satisfies the following:\n",
    "\n",
    "Is the string made up of digits only?\n",
    "\n",
    "Is the string all lowercase?\n",
    "\n",
    "text3 = \"helloworld\""
   ]
  },
  {
   "cell_type": "markdown",
   "id": "45c6e0e2-14b8-446a-880b-4840a2184d2c",
   "metadata": {},
   "source": [
    "## Program 7"
   ]
  },
  {
   "cell_type": "code",
   "execution_count": 13,
   "id": "e32a7144-cc83-4ab6-9019-88309953c5e8",
   "metadata": {},
   "outputs": [
    {
     "name": "stdout",
     "output_type": "stream",
     "text": [
      "False\n",
      "True\n"
     ]
    }
   ],
   "source": [
    "text3 = \"helloworld\"\n",
    "digit_text3=text3.isdigit()\n",
    "lower_text3= text3.islower()\n",
    "print(digit_text3)\n",
    "print(lower_text3)"
   ]
  },
  {
   "cell_type": "markdown",
   "id": "9f0d561c-ae19-483e-a951-8c17698b508c",
   "metadata": {},
   "source": [
    "## Question 8"
   ]
  },
  {
   "cell_type": "raw",
   "id": "01ee5c34-632e-4f51-adaf-4c7e002bcdd4",
   "metadata": {},
   "source": [
    "Write Python code to check and print whether the string satisfies the following:\n",
    "\n",
    "Is the string all uppercase?\n",
    "\n",
    "Is the string titlecased?\n",
    "\n",
    "text4 = 'Hi We Are Learning Python'"
   ]
  },
  {
   "cell_type": "markdown",
   "id": "234816be-d9e8-448b-83f2-961cb95476e7",
   "metadata": {},
   "source": [
    "## Program 8"
   ]
  },
  {
   "cell_type": "code",
   "execution_count": 14,
   "id": "4e36967a-029a-43ad-8666-cd3aa0af34b8",
   "metadata": {},
   "outputs": [
    {
     "name": "stdout",
     "output_type": "stream",
     "text": [
      "False\n",
      "True\n"
     ]
    }
   ],
   "source": [
    "text4 = 'Hi We Are Learning Python'\n",
    "upper_text4=text4.isupper()\n",
    "title_text4=text4.istitle()\n",
    "print(f\"Is the text all uppercase?: {upper_text4}\\nIs the text in title case?: {title_text4}\")"
   ]
  },
  {
   "cell_type": "markdown",
   "id": "b15ce0ce-2988-470e-aaef-aed63b07e7af",
   "metadata": {},
   "source": [
    "## Question 9"
   ]
  },
  {
   "cell_type": "raw",
   "id": "3c37ca2a-6ab3-4be8-ab7e-d40ae5a6a400",
   "metadata": {},
   "source": [
    "Write Python code to check and print whether the string:\n",
    "\n",
    "Starts with \"data\"\n",
    "\n",
    "Ends with \".csv\"\n",
    "\n",
    "text5 = \"data_report_2023.csv\""
   ]
  },
  {
   "cell_type": "markdown",
   "id": "3f957974-3752-4a0e-a77c-739287bf718f",
   "metadata": {},
   "source": [
    "## Program 9"
   ]
  },
  {
   "cell_type": "code",
   "execution_count": 15,
   "id": "4694b239-20d5-48a8-a430-551883e05f7a",
   "metadata": {},
   "outputs": [
    {
     "name": "stdout",
     "output_type": "stream",
     "text": [
      "True\n",
      "True\n"
     ]
    }
   ],
   "source": [
    "text5 = \"data_report_2023.csv\"\n",
    "start_text5=text5.startswith(\"data\")\n",
    "end_text5=text5.endswith(\".csv\")\n",
    "print(f\"text5 starts with data: {start_text5}\\ntext5 ends with .csv: {end_text5}\")"
   ]
  },
  {
   "cell_type": "markdown",
   "id": "7868cc21-d69a-40d6-b815-dd0e8c5fd38e",
   "metadata": {},
   "source": [
    "## Question 10"
   ]
  },
  {
   "cell_type": "raw",
   "id": "c56f9f94-cf2c-4305-b216-13c0b20930b5",
   "metadata": {},
   "source": [
    "Write Python code to:\n",
    "\n",
    "Count how many times \"banana\" appears in the string.\n",
    "\n",
    "fruit = \"banana bandana banana\""
   ]
  },
  {
   "cell_type": "markdown",
   "id": "ac398ea2-8489-4094-8c60-626f03695c71",
   "metadata": {},
   "source": [
    "## Program 10"
   ]
  },
  {
   "cell_type": "code",
   "execution_count": 16,
   "id": "344b09db-1870-46ff-9e00-5b9b34e81064",
   "metadata": {},
   "outputs": [
    {
     "name": "stdout",
     "output_type": "stream",
     "text": [
      "2\n"
     ]
    }
   ],
   "source": [
    "fruit = \"banana bandana banana\"\n",
    "count_fruit=fruit.count(\"banana\")\n",
    "print(f\"Result with the count of banana: {count_fruit}\")"
   ]
  },
  {
   "cell_type": "code",
   "execution_count": null,
   "id": "4a759b8f-cf85-4aef-a2b1-fee324a101f1",
   "metadata": {},
   "outputs": [],
   "source": []
  },
  {
   "cell_type": "code",
   "execution_count": null,
   "id": "8a7ee34a-452e-4fa7-92af-0551b7cea1fe",
   "metadata": {},
   "outputs": [],
   "source": []
  },
  {
   "cell_type": "code",
   "execution_count": null,
   "id": "b3396678-8c9a-415a-86de-238fceca37aa",
   "metadata": {},
   "outputs": [],
   "source": []
  },
  {
   "cell_type": "code",
   "execution_count": null,
   "id": "cfa318bf-b497-46a5-99bb-0ef2691d62f0",
   "metadata": {},
   "outputs": [],
   "source": []
  },
  {
   "cell_type": "code",
   "execution_count": null,
   "id": "f30b017c-6017-49c0-b383-974457b5e5fd",
   "metadata": {},
   "outputs": [],
   "source": []
  },
  {
   "cell_type": "code",
   "execution_count": null,
   "id": "092efbe7-c059-4ff9-9064-cd873c6850cd",
   "metadata": {},
   "outputs": [],
   "source": []
  },
  {
   "cell_type": "code",
   "execution_count": null,
   "id": "051819c2-f9ae-49c9-9653-51b392b2f3d2",
   "metadata": {},
   "outputs": [],
   "source": []
  },
  {
   "cell_type": "code",
   "execution_count": null,
   "id": "8e27ede1-8467-4e99-bbf3-bf54c389c1bb",
   "metadata": {},
   "outputs": [],
   "source": []
  }
 ],
 "metadata": {
  "kernelspec": {
   "display_name": "Python [conda env:base] *",
   "language": "python",
   "name": "conda-base-py"
  },
  "language_info": {
   "codemirror_mode": {
    "name": "ipython",
    "version": 3
   },
   "file_extension": ".py",
   "mimetype": "text/x-python",
   "name": "python",
   "nbconvert_exporter": "python",
   "pygments_lexer": "ipython3",
   "version": "3.13.5"
  }
 },
 "nbformat": 4,
 "nbformat_minor": 5
}
