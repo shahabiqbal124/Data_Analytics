{
 "cells": [
  {
   "cell_type": "markdown",
   "id": "4b177566-fd9c-43fc-b08b-305abde32b6c",
   "metadata": {},
   "source": [
    "Question 1: Two-List Synchronization\n",
    "Given two lists of equal length, one containing student names and the other their ages, use a for loop to create a single dictionary where each student's name is a key and their age is the corresponding value.\n",
    "\n",
    "names = [\"Ali\", \"Sara\", \"John\", \"Zara\"]\n",
    "ages = [22, 25, 23, 27]"
   ]
  },
  {
   "cell_type": "code",
   "execution_count": 1,
   "id": "8cae56fa-4412-4ae2-8b6e-9285c2ecd36b",
   "metadata": {},
   "outputs": [],
   "source": [
    "names = [\"Ali\", \"Sara\", \"John\", \"Zara\"] \n",
    "ages = [22, 25, 23, 27]"
   ]
  },
  {
   "cell_type": "code",
   "execution_count": 2,
   "id": "5d072fbc-c639-458d-ba23-18bb6aecf4fd",
   "metadata": {},
   "outputs": [
    {
     "data": {
      "text/plain": [
       "True"
      ]
     },
     "execution_count": 2,
     "metadata": {},
     "output_type": "execute_result"
    }
   ],
   "source": [
    "len(names)==len(ages)"
   ]
  },
  {
   "cell_type": "code",
   "execution_count": 3,
   "id": "ea6a4697-4abc-4bc6-afec-94f924f8c53f",
   "metadata": {},
   "outputs": [
    {
     "data": {
      "text/plain": [
       "{'Ali': 22, 'Sara': 25, 'John': 23, 'Zara': 27}"
      ]
     },
     "execution_count": 3,
     "metadata": {},
     "output_type": "execute_result"
    }
   ],
   "source": [
    "student={}\n",
    "for i in range(len(names)):\n",
    "    student[names[i]]=ages[i]\n",
    "student"
   ]
  },
  {
   "cell_type": "markdown",
   "id": "9dada4cd-17c4-42dc-817f-811b6e8aa064",
   "metadata": {},
   "source": [
    "Question 2: Categorizing Data into Bins\n",
    "Write a program that iterates through the list of scores. Use a for loop to count how many scores fall into three different categories: \"High\" (90-100), \"Medium\" (70-89), and \"Low\" (below 70). Store the final counts in a dictionary.\n",
    "\n",
    "scores = [95, 82, 65, 78, 90, 88, 55, 100]"
   ]
  },
  {
   "cell_type": "code",
   "execution_count": 4,
   "id": "cf7c1670-cd1a-40ce-81d5-7078eb1970bc",
   "metadata": {},
   "outputs": [
    {
     "name": "stdout",
     "output_type": "stream",
     "text": [
      "{'High': 3, 'Medium': 2, 'Low': 3}\n"
     ]
    }
   ],
   "source": [
    "scores = [95, 82, 65, 78, 90, 88, 55, 100]\n",
    "\n",
    "categories={\"High\":0,\"Medium\":0,\"Low\":0}\n",
    "\n",
    "for score in scores:\n",
    "    if score >=90:\n",
    "        categories[\"High\"]+=1\n",
    "    elif score >=80 and score <90:\n",
    "        categories['Medium']+=1\n",
    "    else:\n",
    "        categories[\"Low\"]+=1\n",
    "print(categories)"
   ]
  },
  {
   "cell_type": "markdown",
   "id": "86229e70-9476-44b2-9160-bd428306a41f",
   "metadata": {},
   "source": [
    "Question 3: Finding Missing Records\n",
    "You have a list of all employee IDs and a dictionary of active employees. Use a for loop to identify and print the IDs of the employees who are in the all_ids list but are NOT present in the active_employees dictionary.\n",
    "\n",
    "all_ids = [\"E001\", \"E002\", \"E003\", \"E004\"]\n",
    "active_employees = {\"E001\": \"Bilal\", \"E003\": \"Hina\"}"
   ]
  },
  {
   "cell_type": "code",
   "execution_count": 5,
   "id": "82fc4720-885e-4dcf-8eb7-7adc56fc15a9",
   "metadata": {},
   "outputs": [
    {
     "name": "stdout",
     "output_type": "stream",
     "text": [
      "missing emp id:  E002\n",
      "missing emp id:  E004\n"
     ]
    }
   ],
   "source": [
    "all_ids = [\"E001\", \"E002\", \"E003\", \"E004\"]\n",
    "active_employees = {\"E001\": \"Bilal\", \"E003\": \"Hina\"}\n",
    "\n",
    "for emp in all_ids:\n",
    "    if emp not in active_employees:\n",
    "        print(\"missing emp id: \", emp)"
   ]
  },
  {
   "cell_type": "markdown",
   "id": "4f482ba4-0224-43b3-9d34-dd0a47d81f8a",
   "metadata": {},
   "source": [
    " 4: Conditional Summation with a Limit\n",
    "Loop through the list of numbers. Calculate the running total. If the total exceeds 50, print the current total and the message \"Total exceeded limit!\", then stop the loop immediately.\n",
    "\n",
    "data = [10, 15, 20, 12, 5, 8, 30]\n"
   ]
  },
  {
   "cell_type": "code",
   "execution_count": 6,
   "id": "3abc0940-fd5b-422f-81ed-23d05c1cd9b5",
   "metadata": {},
   "outputs": [
    {
     "name": "stdout",
     "output_type": "stream",
     "text": [
      "total exceeds limit\n",
      "final total 57\n"
     ]
    }
   ],
   "source": [
    "data = [10, 15, 20, 12, 5, 8, 30]\n",
    "\n",
    "count=0\n",
    "for dat in data:\n",
    "    count+=dat\n",
    "    if count>50: \n",
    "        print(\"total exceeds limit\")\n",
    "        break\n",
    "print(\"final total\",count)"
   ]
  },
  {
   "cell_type": "markdown",
   "id": "41ee7189-3edb-4656-960b-dd037821ef0d",
   "metadata": {},
   "source": [
    "Question 5: String Sanitization\n",
    "Given a messy string, use a for loop to create a new, sanitized string that:\n",
    "\n",
    "Removes all punctuation (. , !).\n",
    "\n",
    "Replaces multiple spaces with a single space.\n",
    "\n",
    "Converts the entire string to lowercase.\n",
    "\n",
    "text = \"  Data...is, a! powerful tool  .\""
   ]
  },
  {
   "cell_type": "code",
   "execution_count": 7,
   "id": "97f18cc2-fc63-4622-9130-06a96d8b8e87",
   "metadata": {},
   "outputs": [
    {
     "name": "stdout",
     "output_type": "stream",
     "text": [
      "Cleaned text:  Datais a powerful tool \n"
     ]
    }
   ],
   "source": [
    "text = \" Data...is, a! powerful tool .\"\n",
    "ch=\"\"\n",
    "for tex in text:\n",
    "    if tex.isalpha() or tex==\" \":\n",
    "        ch+=tex\n",
    "\n",
    "print(\"Cleaned text:\", ch)    "
   ]
  },
  {
   "cell_type": "markdown",
   "id": "ae3d88fa-b386-42cf-ab02-69f1e78587bd",
   "metadata": {},
   "source": [
    "Question 6: Complex Filtering of a Dictionary List\n",
    "Iterate through the list of products. Using a for loop, print the name and price of any product that is both \"in stock\" AND has a price lower than $50.\n",
    "\n",
    "products = [\n",
    "    {\"name\": \"Mouse\", \"price\": 45, \"in_stock\": True},\n",
    "    {\"name\": \"Keyboard\", \"price\": 60, \"in_stock\": False},\n",
    "    {\"name\": \"Webcam\", \"price\": 48, \"in_stock\": True},\n",
    "    {\"name\": \"Monitor\", \"price\": 120, \"in_stock\": True}\n",
    "]"
   ]
  },
  {
   "cell_type": "code",
   "execution_count": 8,
   "id": "e8fc215c-bdc4-47b6-b4a4-8ac554adccd7",
   "metadata": {},
   "outputs": [],
   "source": [
    "products = [ {\"name\": \"Mouse\", \"price\": 45, \"in_stock\": True}, {\"name\": \"Keyboard\", \"price\": 60, \"in_stock\": False}, {\"name\": \"Webcam\", \"price\": 48, \"in_stock\": True}, {\"name\": \"Monitor\", \"price\": 120, \"in_stock\": True} ]"
   ]
  },
  {
   "cell_type": "code",
   "execution_count": 9,
   "id": "c9d2e126-099e-47a6-a9ee-a73aabd2cc27",
   "metadata": {},
   "outputs": [
    {
     "name": "stdout",
     "output_type": "stream",
     "text": [
      " Mouse is in stock and price is 45\n",
      " Webcam is in stock and price is 48\n"
     ]
    }
   ],
   "source": [
    "for product in products:\n",
    "    if product[\"in_stock\"]==True and product[\"price\"]<50:\n",
    "        print(f' {product[\"name\"]} is in stock and price is {product[\"price\"]}')"
   ]
  },
  {
   "cell_type": "code",
   "execution_count": 10,
   "id": "3b825dca-14ad-40f1-a8a2-0371dd4eef10",
   "metadata": {},
   "outputs": [
    {
     "name": "stdout",
     "output_type": "stream",
     "text": [
      "[{'name': 'Mouse', 'price': 45, 'in_stock': True}, {'name': 'Webcam', 'price': 48, 'in_stock': True}]\n"
     ]
    }
   ],
   "source": [
    "product=[product for product in products if product[\"in_stock\"]==True and product[\"price\"]<50 ]\n",
    "print(product)"
   ]
  },
  {
   "cell_type": "markdown",
   "id": "c5844936-5f7c-4d46-86cb-9a185e8f0c98",
   "metadata": {},
   "source": [
    "Question 7: Finding the Longest Consecutive Run\n",
    "Find the longest sequence of consecutive identical numbers in the list. The loop should print the number and the length of its longest consecutive run.\n",
    "\n",
    "numbers = [1, 2, 2, 3, 3, 3, 4, 4, 4, 4, 5]\n",
    "(Expected Output: The longest run is 4, for the number 4.)"
   ]
  },
  {
   "cell_type": "code",
   "execution_count": 11,
   "id": "1580d165-8b45-49d4-b088-18cc35908ac6",
   "metadata": {},
   "outputs": [
    {
     "name": "stdout",
     "output_type": "stream",
     "text": [
      "4\n"
     ]
    }
   ],
   "source": [
    "numbers = [1, 2, 2, 3, 3, 3, 4, 4, 4, 4, 5]\n",
    "max_run=1\n",
    "cur_run=1\n",
    "longest=numbers[0]\n",
    "L=len(numbers)\n",
    "\n",
    "\n",
    "for i in range(L):\n",
    "    if numbers[i]==numbers[i-1]:\n",
    "        cur_run+=1\n",
    "    else:\n",
    "        cur_run=1\n",
    "\n",
    "    if cur_run>max_run:\n",
    "        max_run=cur_run\n",
    "        longest=numbers[i]\n",
    "\n",
    "print(longest)"
   ]
  },
  {
   "cell_type": "markdown",
   "id": "cb4b1705-e2a9-465b-8973-7301e7f8987f",
   "metadata": {},
   "source": [
    "Question 8: Dynamic Dictionary Update\n",
    "Given the sales dictionary below, iterate through its items. If a product's value (sales) is less than 500, increase its sales value by 10%. Print the updated dictionary at the end.\n",
    "\n",
    "sales = {\"product_a\": 450, \"product_b\": 600, \"product_c\": 300, \"product_d\": 800}"
   ]
  },
  {
   "cell_type": "code",
   "execution_count": 12,
   "id": "db9615e2-7edb-42a6-95f4-7782c35b2591",
   "metadata": {},
   "outputs": [
    {
     "name": "stdout",
     "output_type": "stream",
     "text": [
      "{'product_a': 495, 'product_b': 600, 'product_c': 330, 'product_d': 800}\n"
     ]
    }
   ],
   "source": [
    "sales = {\"product_a\": 450, \"product_b\": 600, \"product_c\": 300, \"product_d\": 800}\n",
    "\n",
    "for key,value in sales.items():\n",
    "    if value < 500:\n",
    "        sales[key]=round(value * 1.1)\n",
    "print(sales)"
   ]
  },
  {
   "cell_type": "markdown",
   "id": "ab995e1b-1bf7-45f2-9b5d-3f69ad2a215b",
   "metadata": {},
   "source": [
    "Question 9: Creating a New List with a Condition\n",
    "Create a new list containing only the square of each even number from the original list. Odd numbers should be skipped.\n",
    "\n",
    "numbers = [1, 2, 3, 4, 5, 6, 7, 8, 9, 10]"
   ]
  },
  {
   "cell_type": "code",
   "execution_count": 13,
   "id": "4a1a1c19-5be4-4767-b818-84dc0844af6f",
   "metadata": {},
   "outputs": [
    {
     "name": "stdout",
     "output_type": "stream",
     "text": [
      "[4, 16, 36, 64, 100]\n"
     ]
    }
   ],
   "source": [
    "numbers = [1, 2, 3, 4, 5, 6, 7, 8, 9, 10]\n",
    "\n",
    "num=[number**2 for number in numbers if number%2==0]\n",
    "print(num)"
   ]
  },
  {
   "cell_type": "markdown",
   "id": "e9cd97f6-cfc5-4b35-a581-b796b2fc189e",
   "metadata": {},
   "source": [
    "Question 10: Finding the Most Frequent Element\n",
    "Find and print the most frequently occurring word in the sentence without using the collections.Counter module. Use a dictionary to keep track of the counts inside your loop. The count should be case-insensitive.\n",
    "\n",
    "sentence = \"Python is great. Python is a powerful language.\""
   ]
  },
  {
   "cell_type": "code",
   "execution_count": 14,
   "id": "54df5e0e-892d-4b48-b8bf-2cc424a49b7d",
   "metadata": {},
   "outputs": [
    {
     "name": "stdout",
     "output_type": "stream",
     "text": [
      "{'python': 2, 'is': 2, 'great': 1, 'a': 1, 'powerful': 1, 'language': 1}\n",
      "python\n",
      "2\n"
     ]
    }
   ],
   "source": [
    "sentence = \"Python is great. Python is a powerful language.\"\n",
    "sentence=sentence.lower()\n",
    "sentence=sentence.replace(\".\",\"\")\n",
    "sentence=sentence.split()\n",
    "\n",
    "count={}\n",
    "for word in sentence:\n",
    "    if word in count:\n",
    "        count[word]+=1\n",
    "    else:\n",
    "        count[word]=1\n",
    "print(count)\n",
    "max_count=0\n",
    "words=\"\"\n",
    "for key,value in count.items():\n",
    "    if value >max_count:\n",
    "        max_count=value\n",
    "        words=key\n",
    "print(words)\n",
    "print(max_count)"
   ]
  },
  {
   "cell_type": "code",
   "execution_count": null,
   "id": "5aebb75c-2c15-4ff2-9bc3-df0258b9b4c6",
   "metadata": {},
   "outputs": [],
   "source": []
  }
 ],
 "metadata": {
  "kernelspec": {
   "display_name": "Python [conda env:base] *",
   "language": "python",
   "name": "conda-base-py"
  },
  "language_info": {
   "codemirror_mode": {
    "name": "ipython",
    "version": 3
   },
   "file_extension": ".py",
   "mimetype": "text/x-python",
   "name": "python",
   "nbconvert_exporter": "python",
   "pygments_lexer": "ipython3",
   "version": "3.13.5"
  }
 },
 "nbformat": 4,
 "nbformat_minor": 5
}
