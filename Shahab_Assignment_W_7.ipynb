{
 "cells": [
  {
   "cell_type": "markdown",
   "id": "bd37d8fc-47d1-45d5-999e-f6ddd2de4ad8",
   "metadata": {},
   "source": [
    "## Question No.1"
   ]
  },
  {
   "cell_type": "markdown",
   "id": "ed0ba7d1-6152-4692-bafe-0e8b93d3a425",
   "metadata": {},
   "source": [
    "Write a Python program that prints the multiplication table for a given number (between 1 and 10) using a for loop.\n",
    "\n",
    "Hint:\n",
    "\n",
    "Ask the user for a number between 1 and 10 . Use a for loop to iterate through the numbers from 1 to 10. For each iteration, calculate the product of the given number and the current number in the loop. Print the result in a readable format (e.g., 5 x 1 = 5). Ensure the program works correctly for any number between 1 and 10. Output Hint:\n",
    "\n",
    "4 x 1 = 4\n",
    "4 x 2 = 8\n",
    "4 x 3 = 12\n",
    "4 x 4 = 16\n",
    "4 x 5 = 20\n",
    "4 x 6 = 24\n",
    "4 x 7 = 28\n",
    "4 x 8 = 32\n",
    "4 x 9 = 36\n",
    "4 x 10 = 40"
   ]
  },
  {
   "cell_type": "markdown",
   "id": "56371260-b54e-40d6-afcf-988e16116d5b",
   "metadata": {},
   "source": [
    "## Program 1"
   ]
  },
  {
   "cell_type": "code",
   "execution_count": 1,
   "id": "ff545d15-78bf-40c5-befc-3b08da5abeb6",
   "metadata": {},
   "outputs": [
    {
     "name": "stdin",
     "output_type": "stream",
     "text": [
      "Enter a number between 1 and 10:  5\n"
     ]
    },
    {
     "name": "stdout",
     "output_type": "stream",
     "text": [
      "5 x 1 = 5\n",
      "5 x 2 = 10\n",
      "5 x 3 = 15\n",
      "5 x 4 = 20\n",
      "5 x 5 = 25\n",
      "5 x 6 = 30\n",
      "5 x 7 = 35\n",
      "5 x 8 = 40\n",
      "5 x 9 = 45\n",
      "5 x 10 = 50\n"
     ]
    }
   ],
   "source": [
    "num = int(input(\"Enter a number between 1 and 10: \"))\n",
    "for i in range(1, 11):\n",
    "    print(f\"{num} x {i} = {num*i}\")"
   ]
  },
  {
   "cell_type": "markdown",
   "id": "75ea5cd9-6158-4c2f-a475-b7296ebc9954",
   "metadata": {},
   "source": [
    "## Question 2"
   ]
  },
  {
   "cell_type": "markdown",
   "id": "a0a0962f-16e5-4ec2-aea5-9657ea186257",
   "metadata": {},
   "source": [
    "Stop sending emails after 3 users (Using for loop and break)\n",
    "\n",
    "users = [\"Ali\", \"Sara\", \"John\", \"Zara\", \"Mike\"]\n",
    "\n",
    "Output:\n",
    "\n",
    "Email sent to Ali\n",
    "\n",
    "Email sent to Sara\n",
    "\n",
    "Email sent to John\n",
    "\n",
    "Limit reached. Stop sending emails"
   ]
  },
  {
   "cell_type": "markdown",
   "id": "80a44321-c7e8-49e2-bcc4-74b5942b4f00",
   "metadata": {},
   "source": [
    "## Program 2"
   ]
  },
  {
   "cell_type": "code",
   "execution_count": 2,
   "id": "336c97fd-4dcc-4b7f-9b0f-fd3f138ccce0",
   "metadata": {},
   "outputs": [
    {
     "name": "stdout",
     "output_type": "stream",
     "text": [
      "Email sent to Ali\n",
      "Email sent to Sara\n",
      "Email sent to John\n",
      "Limit reached. Stop sending emails\n"
     ]
    }
   ],
   "source": [
    "users = [\"Ali\", \"Sara\", \"John\", \"Zara\", \"Mike\"]\n",
    "\n",
    "for i in range(3):\n",
    "    print(f\"Email sent to {users[i]}\")\n",
    "print(\"Limit reached. Stop sending emails\")\n"
   ]
  },
  {
   "cell_type": "markdown",
   "id": "4041ee98-97b3-4dbd-a99a-f106e6db8e15",
   "metadata": {},
   "source": [
    "## Question 3"
   ]
  },
  {
   "cell_type": "markdown",
   "id": "4611b185-f797-4799-9063-7bc943c390dd",
   "metadata": {},
   "source": [
    "Stop monitoring temperature if critical temperature reached (Using for loop and break)\n",
    "\n",
    "temps = [22, 25, 30, 45, 28] critical = 40\n",
    "\n",
    "Output:\n",
    "\n",
    "Temperature: 22\n",
    "\n",
    "Temperature: 25\n",
    "\n",
    "Temperature: 30\n",
    "\n",
    "Critical temperature reached! Stop monitoring"
   ]
  },
  {
   "cell_type": "markdown",
   "id": "37ecc985-56ed-4b17-9d5c-2602570783ab",
   "metadata": {},
   "source": [
    "## `Program 3"
   ]
  },
  {
   "cell_type": "code",
   "execution_count": 3,
   "id": "005162cb-99d1-4b21-b515-e390d4fa5103",
   "metadata": {},
   "outputs": [
    {
     "name": "stdout",
     "output_type": "stream",
     "text": [
      "Temperature: 22\n",
      "Temperature: 25\n",
      "Temperature: 30\n",
      "Critical temperature reached! Stop monitoring\n"
     ]
    }
   ],
   "source": [
    "temps = [22, 25, 30, 45, 28]\n",
    "critical = 40\n",
    "for temp in temps:\n",
    "    if temp >= critical:\n",
    "        print(\"Critical temperature reached! Stop monitoring\")\n",
    "        break\n",
    "    print(\"Temperature:\", temp)"
   ]
  },
  {
   "cell_type": "markdown",
   "id": "6a490585-ff47-403d-bd5b-60ac04147bf7",
   "metadata": {},
   "source": [
    "## Question 4"
   ]
  },
  {
   "cell_type": "markdown",
   "id": "da49497c-c7ad-40f7-8a26-c2edb9493174",
   "metadata": {},
   "source": [
    "Calculate total price of items in a shopping cart (Using For loop)\n",
    "\n",
    "cart = [100, 250, 50, 300]\n",
    "\n",
    "Output:\n",
    "\n",
    "Total Price: 700"
   ]
  },
  {
   "cell_type": "markdown",
   "id": "f969893b-c189-494e-bd0f-9a1fe5d110bb",
   "metadata": {},
   "source": [
    "## Program 4"
   ]
  },
  {
   "cell_type": "code",
   "execution_count": 4,
   "id": "5305de0a-9613-4d28-8d07-65fa8ae91082",
   "metadata": {},
   "outputs": [
    {
     "name": "stdout",
     "output_type": "stream",
     "text": [
      "Total Price: 700\n"
     ]
    }
   ],
   "source": [
    "cart = [100, 250, 50, 300]\n",
    "total = 0\n",
    "for price in cart:\n",
    "    total += price\n",
    "print(\"Total Price:\", total)"
   ]
  },
  {
   "cell_type": "markdown",
   "id": "bd188bc5-63ea-45da-92bd-bb0cfcd55b7c",
   "metadata": {},
   "source": [
    "## Question 5"
   ]
  },
  {
   "cell_type": "markdown",
   "id": "e206ea2c-4ded-4b5b-a43e-42eefbf57b9a",
   "metadata": {},
   "source": [
    "Skip customers with unpaid bills (Using For loop and continue)\n",
    "\n",
    "customers = [ {\"name\": \"Ali\", \"paid\": True},\n",
    "\n",
    "{\"name\": \"Sara\", \"paid\": False},\n",
    "\n",
    "{\"name\": \"John\", \"paid\": True}\n",
    "]\n",
    "\n",
    "Output:\n",
    "\n",
    "Access granted to: Ali\n",
    "\n",
    "Access granted to: John"
   ]
  },
  {
   "cell_type": "markdown",
   "id": "b70d3209-1271-43cf-a1d2-6c93edf3fc32",
   "metadata": {},
   "source": [
    "## Program 5"
   ]
  },
  {
   "cell_type": "code",
   "execution_count": 5,
   "id": "d0a180c2-7c7d-4732-b361-222261ddaaef",
   "metadata": {},
   "outputs": [
    {
     "name": "stdout",
     "output_type": "stream",
     "text": [
      "Access granted to: Ali\n",
      "Access granted to: John\n"
     ]
    }
   ],
   "source": [
    "customers = [\n",
    "    {\"name\": \"Ali\", \"paid\": True},\n",
    "    {\"name\": \"Sara\", \"paid\": False},\n",
    "    {\"name\": \"John\", \"paid\": True}\n",
    "]\n",
    "for customer in customers:\n",
    "    for key, value in customer.items():\n",
    "        if key==\"paid\" and value==False:\n",
    "            break\n",
    "    else:\n",
    "        print(\"Access granted to:\", customer[\"name\"])\n"
   ]
  },
  {
   "cell_type": "markdown",
   "id": "818d5afd-1873-432d-a433-6318a6f0a5c8",
   "metadata": {},
   "source": [
    "## Question 6"
   ]
  },
  {
   "cell_type": "markdown",
   "id": "7052ea30-0d4e-4af0-9e9a-23591e13ad12",
   "metadata": {},
   "source": [
    "Send personalized emails to a list of users (Using for loop)\n",
    "\n",
    "users = [\"Ali\", \"Sara\", \"John\"]\n",
    "\n",
    "Output:\n",
    "\n",
    "Hello Ali, your subscription is active!\n",
    "Hello Sara, your subscription is active!\n",
    "Hello John, your subscription is active!"
   ]
  },
  {
   "cell_type": "markdown",
   "id": "56f9d6aa-25fa-4c7f-90c7-5d05b2847e5c",
   "metadata": {},
   "source": [
    "## Program 6"
   ]
  },
  {
   "cell_type": "code",
   "execution_count": 6,
   "id": "d3f6c52f-4a8c-47e9-8747-c2707046e582",
   "metadata": {},
   "outputs": [
    {
     "name": "stdout",
     "output_type": "stream",
     "text": [
      "Hello Ali, your subscription is active!\n",
      "Hello Sara, your subscription is active!\n",
      "Hello John, your subscription is active!\n"
     ]
    }
   ],
   "source": [
    "users = [\"Ali\", \"Sara\", \"John\"]\n",
    "\n",
    "for user in users:\n",
    "    print(f\"Hello {user}, your subscription is active!\")"
   ]
  },
  {
   "cell_type": "markdown",
   "id": "dc1b9a20-05c5-400c-b830-6d3bc52e87f8",
   "metadata": {},
   "source": [
    "## Questin 7"
   ]
  },
  {
   "cell_type": "markdown",
   "id": "98a4f07d-553f-49d3-9173-3ad60d6c3d25",
   "metadata": {},
   "source": [
    "Extract domain names from email list (Using for loop)\n",
    "\n",
    "emails = [\"ali@gmail.com\", \"sara@yahoo.com\", \"john@hotmail.com\"]\n",
    "\n",
    "Output:\n",
    "\n",
    "domains: ['gmail.com', 'yahoo.com', 'hotmail.com']"
   ]
  },
  {
   "cell_type": "markdown",
   "id": "b0efb95d-ddfa-443b-825e-42629bb1957d",
   "metadata": {},
   "source": [
    "## Program 7"
   ]
  },
  {
   "cell_type": "code",
   "execution_count": 7,
   "id": "2a5a31f4-338b-4eaf-b419-22aa0fe1069d",
   "metadata": {},
   "outputs": [
    {
     "name": "stdout",
     "output_type": "stream",
     "text": [
      "domains: ['gmail.com', 'yahoo.com', 'hotmail.com']\n"
     ]
    }
   ],
   "source": [
    "emails = [\"ali@gmail.com\", \"sara@yahoo.com\", \"john@hotmail.com\"]\n",
    "\n",
    "domains = [email.split(\"@\")[1] for email in emails]\n",
    "print(\"domains:\", domains)"
   ]
  },
  {
   "cell_type": "markdown",
   "id": "aa6b532e-5a7e-4cb6-ad3e-8c88af7326a8",
   "metadata": {},
   "source": [
    "## Question 8"
   ]
  },
  {
   "cell_type": "markdown",
   "id": "b64a8f21-d788-43c7-a852-4aaa6ed644ac",
   "metadata": {},
   "source": [
    "Print only overdue tasks (Using for loop)\n",
    "\n",
    "tasks = [ {\"task\": \"Pay bills\", \"status\": \"done\"},\n",
    "\n",
    "{\"task\": \"Submit report\", \"status\": \"pending\"},\n",
    "\n",
    "{\"task\": \"Clean house\", \"status\": \"pending\"}\n",
    "]\n",
    "\n",
    "Output:\n",
    "\n",
    "Overdue: Submit report\n",
    "\n",
    "Overdue: Clean house"
   ]
  },
  {
   "cell_type": "markdown",
   "id": "032dd797-4503-455a-bf99-db2fd4dcfdff",
   "metadata": {},
   "source": [
    "## Program 8"
   ]
  },
  {
   "cell_type": "code",
   "execution_count": 8,
   "id": "7ae2db47-ef2e-45d0-9309-e7ce344815f6",
   "metadata": {},
   "outputs": [
    {
     "name": "stdout",
     "output_type": "stream",
     "text": [
      "Submit report is overdue\n",
      "Clean house is overdue\n"
     ]
    }
   ],
   "source": [
    "tasks = [\n",
    "    {\"task\": \"Pay bills\", \"status\": \"done\"},\n",
    "    {\"task\": \"Submit report\", \"status\": \"pending\"},\n",
    "    {\"task\": \"Clean house\", \"status\": \"pending\"}\n",
    "]\n",
    "for task in tasks:\n",
    "    for key, value in task.items():\n",
    "        if key == \"status\" and (value == \"done\" or value == \"completed\"):\n",
    "            continue\n",
    "        if key == \"status\":\n",
    "            print(f\"{task['task']} is overdue\")"
   ]
  },
  {
   "cell_type": "markdown",
   "id": "883a0984-75ad-4ec5-b8e6-b32fbb707acc",
   "metadata": {},
   "source": [
    "## Question 9"
   ]
  },
  {
   "cell_type": "markdown",
   "id": "ec8d5bbc-b25d-4f73-867b-2e2d34a1fa9a",
   "metadata": {},
   "source": [
    "Extract names of employees with salary above 50,000\n",
    "\n",
    "employees = [ {\"name\": \"Ali\", \"salary\": 60000},\n",
    "\n",
    "{\"name\": \"Sara\", \"salary\": 45000},\n",
    "\n",
    "{\"name\": \"John\", \"salary\": 70000}\n",
    "]\n",
    "\n",
    "Output:\n",
    "\n",
    "Ali earns above 50,000\n",
    "\n",
    "John earns above 50,000"
   ]
  },
  {
   "cell_type": "markdown",
   "id": "0d214be8-d406-401c-a01e-1c17f8c3412b",
   "metadata": {},
   "source": [
    "## Program 9"
   ]
  },
  {
   "cell_type": "code",
   "execution_count": 9,
   "id": "c5322c4a-5ab3-40b3-ae82-07249bc5927f",
   "metadata": {},
   "outputs": [
    {
     "name": "stdout",
     "output_type": "stream",
     "text": [
      "Ali earns above 50,000\n",
      "John earns above 50,000\n"
     ]
    }
   ],
   "source": [
    "employees = [\n",
    "    {\"name\": \"Ali\", \"salary\": 60000},\n",
    "    {\"name\": \"Sara\", \"salary\": 45000},\n",
    "    {\"name\": \"John\", \"salary\": 70000}\n",
    "]\n",
    "\n",
    "for emp in employees:\n",
    "    for key, value in emp.items():\n",
    "        if key == \"salary\" and value > 50000:\n",
    "            print(f\"{emp['name']} earns above 50,000\")"
   ]
  },
  {
   "cell_type": "markdown",
   "id": "6a04b95b-cbe3-4347-9e9b-3cbe5387b392",
   "metadata": {},
   "source": [
    "## Question 10"
   ]
  },
  {
   "cell_type": "markdown",
   "id": "464f4ed4-6545-4f9b-9638-54b4b1f275d8",
   "metadata": {},
   "source": [
    " Skip weekends while printing workdays (Using for loop and continue)\n",
    "\n",
    "days = [\"Monday\", \"Tuesday\", \"Wednesday\", \"Thursday\", \"Friday\", \"Saturday\", \"Sunday\"]\n",
    "\n",
    "Output:\n",
    "\n",
    "Workday: Monday\n",
    "\n",
    "Workday: Tuesday\n",
    "\n",
    "Workday: Wednesday\n",
    "\n",
    "Workday: Thursday\n",
    "\n",
    "Workday: Friday"
   ]
  },
  {
   "cell_type": "markdown",
   "id": "9ba7cda6-7df5-4e65-8f75-36e1cef78520",
   "metadata": {},
   "source": [
    "## Program 10"
   ]
  },
  {
   "cell_type": "code",
   "execution_count": 10,
   "id": "15d467a5-0ee4-486b-a2dd-79e15628f37f",
   "metadata": {},
   "outputs": [
    {
     "name": "stdout",
     "output_type": "stream",
     "text": [
      "Workday: Monday\n",
      "Workday: Tuesday\n",
      "Workday: Wednesday\n",
      "Workday: Thursday\n",
      "Workday: Friday\n"
     ]
    }
   ],
   "source": [
    "days = [\"Monday\", \"Tuesday\", \"Wednesday\", \"Thursday\", \"Friday\", \"Saturday\", \"Sunday\"]\n",
    "\n",
    "for day in days:\n",
    "    if day in (\"Saturday\", \"Sunday\"):\n",
    "        continue\n",
    "    print(\"Workday:\", day)"
   ]
  },
  {
   "cell_type": "code",
   "execution_count": null,
   "id": "ea28502f-bd60-4b7a-9965-b7228cbb5834",
   "metadata": {},
   "outputs": [],
   "source": []
  }
 ],
 "metadata": {
  "kernelspec": {
   "display_name": "Python [conda env:base] *",
   "language": "python",
   "name": "conda-base-py"
  },
  "language_info": {
   "codemirror_mode": {
    "name": "ipython",
    "version": 3
   },
   "file_extension": ".py",
   "mimetype": "text/x-python",
   "name": "python",
   "nbconvert_exporter": "python",
   "pygments_lexer": "ipython3",
   "version": "3.13.5"
  }
 },
 "nbformat": 4,
 "nbformat_minor": 5
}
