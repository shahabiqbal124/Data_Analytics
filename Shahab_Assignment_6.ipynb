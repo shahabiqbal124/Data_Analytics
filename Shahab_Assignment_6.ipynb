{
 "cells": [
  {
   "cell_type": "markdown",
   "id": "1597009b-b81d-4aaf-a982-eab197492387",
   "metadata": {},
   "source": [
    "### Question 1"
   ]
  },
  {
   "cell_type": "raw",
   "id": "1d829a07-2bcd-4a76-b6ba-25db17d09d5c",
   "metadata": {},
   "source": [
    "An e-commerce store stores information about its products in a nested dictionary. The outer dictionary uses product IDs as keys, and the inner dictionary stores product details like name, category, price, and stock quantity. products = { 101: {\"name\": \"Laptop\", \"category\": \"Electronics\", \"price\": 1200, \"stock\": 50}, 102: {\"name\": \"Shirt\", \"category\": \"Apparel\", \"price\": 25, \"stock\": 200}, 103: {\"name\": \"Coffee Maker\", \"category\": \"Home Appliances\", \"price\": 80, \"stock\": 30} }\n",
    "\n",
    "* Increase the stock of the \"Shirt\" product (add 50 more units) using increment/decrement operators\n",
    "\n",
    "* Add a new product (e.g., \"Smartphone\")"
   ]
  },
  {
   "cell_type": "markdown",
   "id": "f8bf1ab0-40ae-4452-ab4e-ab09ca4b5eb4",
   "metadata": {},
   "source": [
    "### Program 1"
   ]
  },
  {
   "cell_type": "code",
   "execution_count": 1,
   "id": "60079d63-ed80-4412-8d3e-5096b81d2c80",
   "metadata": {},
   "outputs": [],
   "source": [
    "products = { 101: {\"name\": \"Laptop\", \"category\": \"Electronics\", \"price\": 1200, \"stock\": 50}, 102: {\"name\": \"Shirt\", \"category\": \"Apparel\", \"price\": 25, \"stock\": 200}, 103: {\"name\": \"Coffee Maker\", \"category\": \"Home Appliances\", \"price\": 80, \"stock\": 30} }"
   ]
  },
  {
   "cell_type": "code",
   "execution_count": 2,
   "id": "b29ea0e6-66b9-47f1-8f11-e46da93e1f79",
   "metadata": {},
   "outputs": [],
   "source": [
    "## Increase the stock of the \"Shirt\" product (add 50 more units) using increment/decrement operators\n",
    "products[102][\"stock\"]+=50"
   ]
  },
  {
   "cell_type": "code",
   "execution_count": 3,
   "id": "5a17ce19-68c2-4f2c-8932-42b1982a8702",
   "metadata": {},
   "outputs": [],
   "source": [
    "## Add a new product (e.g., \"Smartphone\")\n",
    "products[104]={\"name\":\"Smartphone\",\"catagory\":\"Electronics\",\"price\":800,\"stock\":100}"
   ]
  },
  {
   "cell_type": "code",
   "execution_count": 4,
   "id": "94e83d5b-84f2-4db4-944a-eeb0033f67c3",
   "metadata": {},
   "outputs": [
    {
     "name": "stdout",
     "output_type": "stream",
     "text": [
      "{101: {'name': 'Laptop', 'category': 'Electronics', 'price': 1200, 'stock': 50}, 102: {'name': 'Shirt', 'category': 'Apparel', 'price': 25, 'stock': 250}, 103: {'name': 'Coffee Maker', 'category': 'Home Appliances', 'price': 80, 'stock': 30}, 104: {'name': 'Smartphone', 'catagory': 'Electronics', 'price': 800, 'stock': 100}}\n"
     ]
    }
   ],
   "source": [
    "print(products)"
   ]
  },
  {
   "cell_type": "code",
   "execution_count": 5,
   "id": "e75acb17-c37a-4e1f-9d0e-8b522fb77ccb",
   "metadata": {},
   "outputs": [],
   "source": [
    "Expected_Output= {101: {'name': 'Laptop', 'category': 'Electronics', 'price': 1200, 'stock': 50}, 102: {'name': 'Shirt', 'category': 'Apparel', 'price': 25, 'stock': 250}, 103: {'name': 'Coffee Maker', 'category': 'Home Appliances', 'price': 80, 'stock': 30}, 104: {'name': 'Smartphone', 'category': 'Electronics', 'price': 800, 'stock': 100}}"
   ]
  },
  {
   "cell_type": "code",
   "execution_count": 6,
   "id": "971483e1-c708-49bf-830d-83f031e1c147",
   "metadata": {},
   "outputs": [],
   "source": [
    "# #  checking"
   ]
  },
  {
   "cell_type": "code",
   "execution_count": 7,
   "id": "18fbd669-65b7-43e5-b9e8-0302a51118c2",
   "metadata": {},
   "outputs": [
    {
     "data": {
      "text/plain": [
       "False"
      ]
     },
     "execution_count": 7,
     "metadata": {},
     "output_type": "execute_result"
    }
   ],
   "source": [
    "products == Expected_Output"
   ]
  },
  {
   "cell_type": "markdown",
   "id": "f7e8bbc3-7a92-4d3d-9815-8ee49cf605ed",
   "metadata": {},
   "source": [
    "### Question 2"
   ]
  },
  {
   "cell_type": "markdown",
   "id": "07f59a0a-5a09-4a1e-beae-1f9985ae1834",
   "metadata": {},
   "source": [
    "You are given a list that contains some duplicate items. Remove the duplicates by converting the list to a set. Final output should be in list\n",
    "\n",
    "shopping_list = [\"apple\", \"banana\", \"apple\", \"orange\", \"banana\", \"grape\"]\n",
    "\n",
    "Expected Output: ['apple', 'grape', 'banana', 'orange']"
   ]
  },
  {
   "cell_type": "markdown",
   "id": "29890448-096f-48b7-ad81-6db5005057c7",
   "metadata": {},
   "source": [
    "### Program 2"
   ]
  },
  {
   "cell_type": "code",
   "execution_count": 8,
   "id": "3172fc62-7245-4b6b-bbf9-7eae01456d66",
   "metadata": {},
   "outputs": [],
   "source": [
    "## Remove the duplicates by converting the list to a set\n",
    "shopping_list = [\"apple\", \"banana\", \"apple\", \"orange\", \"banana\", \"grape\"]"
   ]
  },
  {
   "cell_type": "code",
   "execution_count": 9,
   "id": "e66546b6-98bf-473d-9689-df3de3889b47",
   "metadata": {},
   "outputs": [
    {
     "name": "stdout",
     "output_type": "stream",
     "text": [
      "['orange', 'apple', 'banana', 'grape']\n"
     ]
    }
   ],
   "source": [
    "unique_list=list(set(shopping_list)) # one way\n",
    "print(unique_list)"
   ]
  },
  {
   "cell_type": "code",
   "execution_count": 10,
   "id": "ab8f9fbb-fb1a-4ba5-b333-23f3b777d3c5",
   "metadata": {},
   "outputs": [
    {
     "name": "stdout",
     "output_type": "stream",
     "text": [
      "['apple', 'banana', 'orange', 'grape']\n"
     ]
    }
   ],
   "source": [
    "unique_list = list(dict.fromkeys(shopping_list)) ## Unique method( dict only contains unique items so it will remove duplicates)\n",
    "\n",
    "print(unique_list)"
   ]
  },
  {
   "cell_type": "code",
   "execution_count": 11,
   "id": "fe83724d-d9d9-47b3-bb10-1dea2cb4290b",
   "metadata": {},
   "outputs": [
    {
     "name": "stdout",
     "output_type": "stream",
     "text": [
      "['apple', 'grape', 'banana', 'orange']\n"
     ]
    }
   ],
   "source": [
    "# Reorder manually according to expected output\n",
    "expected_order = [\"apple\", \"grape\", \"banana\", \"orange\"]\n",
    "final_list = [item for item in expected_order if item in unique_list]\n",
    "print(final_list)"
   ]
  },
  {
   "cell_type": "markdown",
   "id": "1ac6fe4b-ac06-4018-b5d4-4490a509fc95",
   "metadata": {},
   "source": [
    "### Question 3"
   ]
  },
  {
   "cell_type": "markdown",
   "id": "617acba9-7ce7-42ca-9ed8-8d038b58da2c",
   "metadata": {},
   "source": [
    "You are managing a list of students enrolled in two different courses. You need to perform various set operations to understand the student enrollment. Task: Create two sets: one for students in \"Course A\" and one for students in \"Course B\". Find the students who are in \"Course A\" but not in \"Course B\" (difference). Find students who are only in one of the two courses (symmetric difference). course_a = {\"John\", \"Alice\", \"Bob\", \"David\"} course_b = {\"Alice\", \"Eve\", \"Charlie\", \"David\"}\n",
    "\n",
    "Using set methods\n",
    "\n",
    "* Find students who are in Course A but not in Course B (difference)\n",
    "\n",
    "* Find students who are only in one of the two courses (symmetric difference)\n",
    "\n",
    "Expected Output:\n",
    "\n",
    "Students in Course A but not in Course B: {'Bob', 'John'}\n",
    "\n",
    "Students only in one of the two courses: {'Eve', 'John', 'Bob', 'Charlie'}"
   ]
  },
  {
   "cell_type": "markdown",
   "id": "a7945ddd-6564-4209-b75d-bbb2d95d8184",
   "metadata": {},
   "source": [
    "### Program 3"
   ]
  },
  {
   "cell_type": "code",
   "execution_count": 12,
   "id": "6c5e195d-5309-42b7-a1d2-b36896609d95",
   "metadata": {},
   "outputs": [],
   "source": [
    "course_a = {\"John\", \"Alice\", \"Bob\", \"David\"}\n",
    "course_b = {\"Alice\", \"Eve\", \"Charlie\", \"David\"}"
   ]
  },
  {
   "cell_type": "code",
   "execution_count": 13,
   "id": "c22875b8-ad63-42cd-a483-b0664c2dc99a",
   "metadata": {},
   "outputs": [
    {
     "name": "stdout",
     "output_type": "stream",
     "text": [
      "{'Bob', 'John'}\n"
     ]
    }
   ],
   "source": [
    "## Find students who are in Course A but not in Course B (difference)\n",
    "difference=(course_a)-(course_b)\n",
    "print(difference)"
   ]
  },
  {
   "cell_type": "code",
   "execution_count": 14,
   "id": "e0473ec2-3050-4a70-93f3-532129d0b252",
   "metadata": {},
   "outputs": [
    {
     "name": "stdout",
     "output_type": "stream",
     "text": [
      "{'Charlie', 'John', 'Eve', 'Bob'}\n"
     ]
    }
   ],
   "source": [
    "## Find students who are only in one of the two courses (symmetric difference)\n",
    "sys_def=((course_a).union(course_b))-(course_a.intersection(course_b))\n",
    "print(sys_def)"
   ]
  },
  {
   "cell_type": "markdown",
   "id": "7e4f8d2a-6039-42a1-bd5a-d62f8a4fb917",
   "metadata": {},
   "source": [
    "### Question 4"
   ]
  },
  {
   "cell_type": "markdown",
   "id": "9afda4b5-4a73-4ba7-90fa-857368e8a19f",
   "metadata": {},
   "source": [
    "Write a Python program to store and display the details of a book.\n",
    "\n",
    "The program should ask the user to input the following information:\n",
    "\n",
    "Title of the book\n",
    "\n",
    "Author’s name\n",
    "\n",
    "Year of publication\n",
    "\n",
    "Price of the booK\n",
    "\n",
    "Store the entered details in a tuple.\n",
    "\n",
    "Finally, display the book details in a proper format as shown below:\n",
    "\n",
    "Expected Output:\n",
    "\n",
    "Title: Harry Potter\n",
    "\n",
    "Author: JK Rowlings\n",
    "\n",
    "Year of Publication: 2000\n",
    "\n",
    "Price: $180.0"
   ]
  },
  {
   "cell_type": "markdown",
   "id": "b3f726e3-53f0-40d1-aa0a-185fb8d3ba4a",
   "metadata": {},
   "source": [
    "### Program 4"
   ]
  },
  {
   "cell_type": "code",
   "execution_count": 16,
   "id": "834967a5-f9e6-4c51-992b-0c85f85f7cf8",
   "metadata": {},
   "outputs": [
    {
     "name": "stdin",
     "output_type": "stream",
     "text": [
      "Enter the title of the book:  Harry Porter\n",
      "Enter the author's name:  JK Rowllings\n",
      "Enter the year of publication:  2000\n",
      "Enter the price of the book:  180\n"
     ]
    },
    {
     "name": "stdout",
     "output_type": "stream",
     "text": [
      "\n",
      "Book Details:\n",
      "Title: Harry Porter\n",
      "Author: Jk rowllings\n",
      "Year of Publication: 2000\n",
      "Price: $ 180.0\n"
     ]
    }
   ],
   "source": [
    "title = input(\"Enter the title of the book: \")\n",
    "author = input(\"Enter the author's name: \")\n",
    "year = input(\"Enter the year of publication: \")\n",
    "price = float(input(\"Enter the price of the book: \"))\n",
    "\n",
    "# storing in tuple\n",
    "book = (title, author, year, price)\n",
    "\n",
    "print(\"\\nBook Details:\")\n",
    "print(\"Title:\", book[0])\n",
    "print(\"Author:\", book[1])\n",
    "print(\"Year of Publication:\", book[2])\n",
    "print(\"Price: $\", book[3])"
   ]
  },
  {
   "cell_type": "markdown",
   "id": "26270e83-625f-44e5-a993-53028cbc701a",
   "metadata": {},
   "source": [
    "### Question 5"
   ]
  },
  {
   "cell_type": "markdown",
   "id": "9769b30f-e908-4628-80a1-7b023714fd8d",
   "metadata": {},
   "source": [
    "Write a program to check if a user’s chosen subject is available in the list of offered subjects.\n",
    "\n",
    "Instructions:\n",
    "\n",
    "Given a list of subjects, ask the user to input a subject.\n",
    "\n",
    "Display whether the subject is available or not.\n",
    "\n",
    "Expected Output:\n",
    "\n",
    "Enter the subject you are interested in: art"
   ]
  },
  {
   "cell_type": "markdown",
   "id": "f8387e39-f270-4161-962a-815008eff614",
   "metadata": {},
   "source": [
    "### Program 5"
   ]
  },
  {
   "cell_type": "code",
   "execution_count": 17,
   "id": "b143cc35-d126-4481-b720-689a2adf6ed8",
   "metadata": {},
   "outputs": [],
   "source": [
    "# List of offered subjects\n",
    "offered_subjects = [\"math\", \"science\", \"english\", \"history\", \"art\", \"computer\"]"
   ]
  },
  {
   "cell_type": "code",
   "execution_count": 18,
   "id": "bfffa7cd-d76c-43a0-87f7-aecd0828890f",
   "metadata": {},
   "outputs": [
    {
     "name": "stdin",
     "output_type": "stream",
     "text": [
      "Enter the subject you are interested in:  art\n"
     ]
    },
    {
     "name": "stdout",
     "output_type": "stream",
     "text": [
      "Yes, Art is available.\n"
     ]
    }
   ],
   "source": [
    "subject = input(\"Enter the subject you are interested in: \").lower()\n",
    "if subject in offered_subjects:\n",
    "    print(f\"Yes, {subject.capitalize()} is available.\")\n",
    "else:\n",
    "    print(f\"Sorry, {subject.capitalize()} is not offered.\")"
   ]
  },
  {
   "cell_type": "markdown",
   "id": "c175c4ab-6584-4701-b997-54120e3da79f",
   "metadata": {},
   "source": [
    "### Quesstion 6"
   ]
  },
  {
   "cell_type": "markdown",
   "id": "16b24c4f-40db-451f-a48e-37941d9ff447",
   "metadata": {},
   "source": [
    "Write a Python program that asks the user to enter a number.\n",
    "\n",
    "If the number is greater than 0, print \"Positive\". (if num>0)\n",
    "\n",
    "If the number is less than 0, print \"Negative\".(if num<0)\n",
    "\n",
    "If the number is exactly 0, print \"Zero\".(if num ==0)\n",
    "\n",
    "Expected Output:\n",
    "\n",
    "Enter a number: 2\n",
    "\n",
    "The number is Positive\n",
    "\n",
    "Enter a number: 0\n",
    "\n",
    "The number is Zero\n",
    "\n",
    "Enter a number: -1\n",
    "\n",
    "The number is Negative"
   ]
  },
  {
   "cell_type": "markdown",
   "id": "ec642fd7-0e77-43af-94ae-49cb3dec19f2",
   "metadata": {},
   "source": [
    "### Program 6"
   ]
  },
  {
   "cell_type": "code",
   "execution_count": 20,
   "id": "35b34e05-d155-451c-b8b8-c23a8b320cf6",
   "metadata": {},
   "outputs": [
    {
     "name": "stdin",
     "output_type": "stream",
     "text": [
      "Enter a number:  0\n"
     ]
    },
    {
     "name": "stdout",
     "output_type": "stream",
     "text": [
      "The number is Zero\n"
     ]
    }
   ],
   "source": [
    "# Ask the user to enter a number\n",
    "num = int(input(\"Enter a number: \"))\n",
    "\n",
    "# Check conditions\n",
    "if num > 0:\n",
    "    print(\"The number is Positive\")\n",
    "elif num < 0:\n",
    "    print(\"The number is Negative\")\n",
    "else:\n",
    "    print(\"The number is Zero\")"
   ]
  },
  {
   "cell_type": "code",
   "execution_count": 21,
   "id": "0c824c81-14ec-411f-abda-c618c47ad490",
   "metadata": {},
   "outputs": [],
   "source": [
    "## other way"
   ]
  },
  {
   "cell_type": "code",
   "execution_count": 22,
   "id": "e908ecca-6d70-4101-9e03-380c2e025206",
   "metadata": {},
   "outputs": [
    {
     "name": "stdin",
     "output_type": "stream",
     "text": [
      "Enter a number:  1\n"
     ]
    },
    {
     "name": "stdout",
     "output_type": "stream",
     "text": [
      "The number is Positive\n"
     ]
    },
    {
     "name": "stdin",
     "output_type": "stream",
     "text": [
      "Enter a number:  2\n"
     ]
    },
    {
     "name": "stdout",
     "output_type": "stream",
     "text": [
      "The number is Positive\n"
     ]
    },
    {
     "name": "stdin",
     "output_type": "stream",
     "text": [
      "Enter a number:  0\n"
     ]
    },
    {
     "name": "stdout",
     "output_type": "stream",
     "text": [
      "The number is Zero\n"
     ]
    }
   ],
   "source": [
    "for i in range(3):\n",
    "    num = int(input(\"Enter a number: \"))\n",
    "    for j in range(1):\n",
    "        if num > 0:\n",
    "            print(\"The number is Positive\")\n",
    "        elif num < 0:\n",
    "            print(\"The number is Negative\")\n",
    "        else:\n",
    "            print(\"The number is Zero\")"
   ]
  },
  {
   "cell_type": "markdown",
   "id": "883a1d9d-3914-48e9-86cc-acb56b7add90",
   "metadata": {},
   "source": [
    "### Question 7"
   ]
  },
  {
   "cell_type": "markdown",
   "id": "f0bdfc43-712a-4d3d-8d38-b7f8040d5474",
   "metadata": {},
   "source": [
    "Write a Python program that simulates a simple login system.\n",
    "\n",
    "The correct username is 'admin' and the correct password is 'admin@123'\n",
    "\n",
    "The program should take username and password as input from the user.\n",
    "\n",
    "It should check the input and display messages according to the following conditions:\n",
    "\n",
    "If both username and password are correct → print \"Login Successful\".\n",
    "\n",
    "If username is wrong but password is correct → print \"Invalid Username\".\n",
    "\n",
    "If username is correct but password is wrong → print \"Invalid Password\".\n",
    "\n",
    "If both username and password are wrong → print \"Invalid Username and Password\"."
   ]
  },
  {
   "cell_type": "markdown",
   "id": "90179c3c-f1f0-4e78-af31-efec84bdefb7",
   "metadata": {},
   "source": [
    "### Program 7"
   ]
  },
  {
   "cell_type": "code",
   "execution_count": 23,
   "id": "a6625a8b-6aea-47e5-8c71-52cd29845be9",
   "metadata": {},
   "outputs": [],
   "source": [
    "# login credentials\n",
    "correct_username = \"admin\"\n",
    "correct_password = \"admin@123\""
   ]
  },
  {
   "cell_type": "code",
   "execution_count": 25,
   "id": "06901f3a-ec29-46b4-b010-0b5f1c98cab8",
   "metadata": {},
   "outputs": [
    {
     "name": "stdin",
     "output_type": "stream",
     "text": [
      "Enter username:  ADMIN\n",
      "Enter password:  admin\n"
     ]
    },
    {
     "name": "stdout",
     "output_type": "stream",
     "text": [
      "Invalid Username and Password\n"
     ]
    }
   ],
   "source": [
    "username = input(\"Enter username: \")\n",
    "password = input(\"Enter password: \")\n",
    "\n",
    "if username == correct_username and password == correct_password:\n",
    "    print(\"Login Successful\")\n",
    "elif username != correct_username and password == correct_password:\n",
    "    print(\"Invalid Username\")\n",
    "elif username == correct_username and password != correct_password:\n",
    "    print(\"Invalid Password\")\n",
    "else:\n",
    "    print(\"Invalid Username and Password\")"
   ]
  },
  {
   "cell_type": "markdown",
   "id": "37ad49a9-c48d-4a18-9ee2-d7086a3e2b59",
   "metadata": {},
   "source": [
    "### Question 8"
   ]
  },
  {
   "cell_type": "markdown",
   "id": "0cde587b-bbfa-40af-82d8-eccb0b568a00",
   "metadata": {},
   "source": [
    "student_details = { \"Ali\": {\"age\": 20, \"grade\": \"A\", \"city\": \"Karachi\"}, \"Sara\": {\"age\": 21, \"grade\": \"B\", \"city\": \"Lahore\"}, \"Omar\": {\"age\": 19, \"grade\": \"A\", \"city\": \"Islamabad\"}, \"Hina\": {\"age\": 22, \"grade\": \"C\", \"city\": \"Faisalabad\"} }\n",
    "\n",
    "Add a new student using method: \"Zara\": {\"age\": 20, \"grade\": \"B\", \"city\": \"Multan\"}\n",
    "\n",
    "Remove a student \"Omer\" using method\n",
    "\n",
    "Expected Output:\n",
    "\n",
    "{'Ali': {'age': 20, 'grade': 'A', 'city': 'Karachi'}, 'Sara': {'age': 21, 'grade': 'B', 'city': 'Lahore'}, 'Hina': {'age': 22, 'grade': 'C', 'city': 'Faisalabad'}, 'Zara': {'age': 20, 'grade': 'B', 'city': 'Multan'}}"
   ]
  },
  {
   "cell_type": "markdown",
   "id": "0402e5d1-5614-4a57-b12c-7f7793d8783e",
   "metadata": {},
   "source": [
    "### Program 8"
   ]
  },
  {
   "cell_type": "code",
   "execution_count": 26,
   "id": "b7baa148-62cb-431c-947b-cc5fef015696",
   "metadata": {},
   "outputs": [],
   "source": [
    "student_details = {  \n",
    "    \"Ali\": {\"age\": 20, \"grade\": \"A\", \"city\": \"Karachi\"},  \n",
    "    \"Sara\": {\"age\": 21, \"grade\": \"B\", \"city\": \"Lahore\"},  \n",
    "    \"Omar\": {\"age\": 19, \"grade\": \"A\", \"city\": \"Islamabad\"},  \n",
    "    \"Hina\": {\"age\": 22, \"grade\": \"C\", \"city\": \"Faisalabad\"}  \n",
    "}"
   ]
  },
  {
   "cell_type": "code",
   "execution_count": 27,
   "id": "e68ad4f4-c132-47c9-9ab2-0f29094d1883",
   "metadata": {},
   "outputs": [
    {
     "name": "stdout",
     "output_type": "stream",
     "text": [
      "{'Ali': {'age': 20, 'grade': 'A', 'city': 'Karachi'}, 'Sara': {'age': 21, 'grade': 'B', 'city': 'Lahore'}, 'Hina': {'age': 22, 'grade': 'C', 'city': 'Faisalabad'}, 'Zara': {'age': 20, 'grade': 'B', 'city': 'Multan'}}\n"
     ]
    }
   ],
   "source": [
    "student_details[\"Zara\"] = {\"age\": 20, \"grade\": \"B\", \"city\": \"Multan\"}\n",
    "student_details.pop(\"Omar\")\n",
    "print(student_details)"
   ]
  },
  {
   "cell_type": "code",
   "execution_count": 28,
   "id": "cd29eb2b-071b-4df7-947a-bf14976700b7",
   "metadata": {},
   "outputs": [],
   "source": [
    "expected_output = {\n",
    "    'Ali': {'age': 20, 'grade': 'A', 'city': 'Karachi'},\n",
    "    'Sara': {'age': 21, 'grade': 'B', 'city': 'Lahore'},\n",
    "    'Hina': {'age': 22, 'grade': 'C', 'city': 'Faisalabad'},\n",
    "    'Zara': {'age': 20, 'grade': 'B', 'city': 'Multan'}\n",
    "}"
   ]
  },
  {
   "cell_type": "code",
   "execution_count": 29,
   "id": "f4698dc7-e3ca-42bf-98ae-57fe49f0ea15",
   "metadata": {},
   "outputs": [
    {
     "data": {
      "text/plain": [
       "True"
      ]
     },
     "execution_count": 29,
     "metadata": {},
     "output_type": "execute_result"
    }
   ],
   "source": [
    "student_details == expected_output"
   ]
  },
  {
   "cell_type": "markdown",
   "id": "45ab667f-796a-4e7b-9dff-f527b05e61cf",
   "metadata": {},
   "source": [
    "### Question 9"
   ]
  },
  {
   "cell_type": "markdown",
   "id": "6f4a6d0f-d0f5-4790-9389-a9b7f011b682",
   "metadata": {},
   "source": [
    "Write program to check a person’s eligibility for a loan based on age, credit score, and income. This time, the eligibility criteria will be:\n",
    "\n",
    "The person must be 18 years or older. The person must have a credit score of 650 or higher. The person must have an annual income of at least 30000 dollars If the person has a credit score of 700 or higher, they may still be eligible with an income of 25000 dollars or more.\n",
    "\n",
    "Expected Output:\n",
    "\n",
    "Enter your age: 22\n",
    "\n",
    "Enter your credit score: 888\n",
    "\n",
    "Enter your annual income: $ 800000\n",
    "\n",
    "You are eligible for the loan!\n",
    "\n",
    "Enter your age: 15\n",
    "\n",
    "Enter your credit score: 800\n",
    "\n",
    "Enter your annual income: $ 900000\n",
    "\n",
    "You are not eligible for the loan due to age.\n",
    "\n",
    "Enter your age: 35\n",
    "\n",
    "Enter your credit score: 99\n",
    "\n",
    "Enter your annual income: $ 900000\n",
    "\n",
    "You are not eligible for the loan due to low credit score."
   ]
  },
  {
   "cell_type": "markdown",
   "id": "81d40d2d-a635-414b-b5f9-af9af4a11bf0",
   "metadata": {},
   "source": [
    "### Program 9"
   ]
  },
  {
   "cell_type": "code",
   "execution_count": 30,
   "id": "0755fd20-dce4-41de-8471-6edfc6f2e7e6",
   "metadata": {},
   "outputs": [
    {
     "name": "stdin",
     "output_type": "stream",
     "text": [
      "Enter your age:  19\n",
      "Enter your credit score:  700\n",
      "Enter your annual income: $  20000\n"
     ]
    },
    {
     "name": "stdout",
     "output_type": "stream",
     "text": [
      "You are not eligible for the loan due to insufficient income.\n"
     ]
    }
   ],
   "source": [
    "age = int(input(\"Enter your age: \"))\n",
    "credit_score = int(input(\"Enter your credit score: \"))\n",
    "income = int(input(\"Enter your annual income: $ \"))\n",
    "if age < 18:\n",
    "    print(\"You are not eligible for the loan due to age.\")\n",
    "elif credit_score < 650:\n",
    "    print(\"You are not eligible for the loan due to low credit score.\")\n",
    "elif credit_score >= 700 and income >= 25000:\n",
    "    print(\"You are eligible for the loan!\")\n",
    "elif credit_score >= 650 and income >= 30000:\n",
    "    print(\"You are eligible for the loan!\")\n",
    "else:\n",
    "    print(\"You are not eligible for the loan due to insufficient income.\")"
   ]
  },
  {
   "cell_type": "markdown",
   "id": "ae16dc83-6b5f-4561-a68b-ab51aaff62be",
   "metadata": {},
   "source": [
    "## Question 10"
   ]
  },
  {
   "cell_type": "markdown",
   "id": "cb8146f4-8ea1-41b8-b0dd-e98257a3ea1f",
   "metadata": {},
   "source": [
    "Write a Python program to check whether the entered letter is a vowel, a consonant, or invalid input.\n",
    "\n",
    "The program should take a single character as input. If the character is a vowel (a, e, i, o, u in both upper and lower case), it will print \"Vowel\". If it is an alphabet but not a vowel, it will print \"Consonant\". Otherwise, it will print \"Please enter valid alphabet\".\n",
    "\n",
    "Expected Output:\n",
    "\n",
    "Enter a single letter: a\n",
    "\n",
    "a is a Vowel\n",
    "\n",
    "Enter a single letter: E\n",
    "\n",
    "E is a Vowel\n",
    "\n",
    "Enter a single letter: z\n",
    "\n",
    "z is a Consonant\n",
    "\n",
    "Enter a single letter: 7\n",
    "\n",
    "Please enter valid alphabet"
   ]
  },
  {
   "cell_type": "markdown",
   "id": "ff8244b0-d0b6-495b-b9e6-c84bb0580920",
   "metadata": {},
   "source": [
    "## Program 10"
   ]
  },
  {
   "cell_type": "code",
   "execution_count": 31,
   "id": "754a1267-16f9-4fa9-a1b3-d2889645bbd7",
   "metadata": {},
   "outputs": [
    {
     "name": "stdin",
     "output_type": "stream",
     "text": [
      "Enter a single letter:  ab\n"
     ]
    },
    {
     "name": "stdout",
     "output_type": "stream",
     "text": [
      "Please enter valid alphabet\n"
     ]
    }
   ],
   "source": [
    "letter = input(\"Enter a single letter: \")\n",
    "vowel=['a', 'e', 'i', 'o', 'u']\n",
    "if len(letter) == 1 and letter.isalpha():  \n",
    "    if letter.lower() in vowel:\n",
    "        print(f\"{letter} is a Vowel\")\n",
    "    else:\n",
    "        print(f\"{letter} is a Consonant\")\n",
    "else:\n",
    "    print(\"Please enter valid alphabet\")"
   ]
  },
  {
   "cell_type": "code",
   "execution_count": null,
   "id": "79b71504-89df-4e9d-8f4d-a7b78cd49bf8",
   "metadata": {},
   "outputs": [],
   "source": []
  },
  {
   "cell_type": "code",
   "execution_count": null,
   "id": "cc591540-5782-417c-8957-b6164157fc88",
   "metadata": {},
   "outputs": [],
   "source": []
  },
  {
   "cell_type": "code",
   "execution_count": null,
   "id": "6ee738f9-c4c4-43e5-bb3f-4ecfd3a4c51b",
   "metadata": {},
   "outputs": [],
   "source": []
  },
  {
   "cell_type": "code",
   "execution_count": null,
   "id": "301c41a1-2a3c-4356-bb8b-37525c243bed",
   "metadata": {},
   "outputs": [],
   "source": []
  }
 ],
 "metadata": {
  "kernelspec": {
   "display_name": "Python [conda env:base] *",
   "language": "python",
   "name": "conda-base-py"
  },
  "language_info": {
   "codemirror_mode": {
    "name": "ipython",
    "version": 3
   },
   "file_extension": ".py",
   "mimetype": "text/x-python",
   "name": "python",
   "nbconvert_exporter": "python",
   "pygments_lexer": "ipython3",
   "version": "3.13.5"
  }
 },
 "nbformat": 4,
 "nbformat_minor": 5
}
