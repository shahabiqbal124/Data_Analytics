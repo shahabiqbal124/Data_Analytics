{
 "cells": [
  {
   "cell_type": "markdown",
   "id": "a4ce3f7a-3f40-47ec-84eb-507840c4118e",
   "metadata": {},
   "source": [
    "Write a Python program to calculate Speed, Distance, or Time based on user input.\n",
    "\n",
    "### Program Title:\n",
    "\n",
    "Speed, Distance, and Time Calculator\n",
    "\n",
    "### Program Objective:\n",
    "\n",
    "To develop a program that calculates Speed, Distance, or Time based on the user’s choice and input values, using the standard motion formulas.\n",
    "\n",
    "### Introduction:\n",
    "\n",
    "This program helps users calculate one of the three motion parameters — Speed, Distance, or Time — when the other two are known.\n",
    "\n",
    "The formulas used are:\n",
    "\n",
    "- Speed = Distance / Time\n",
    "\n",
    "- Distance = Speed × Time\n",
    "\n",
    "- Time = Distance / Speed\n",
    "\n",
    "The program provides a menu-driven system where the user can choose what to calculate. It also includes error handling for invalid inputs, negative values, and division by zero.\n",
    "\n",
    "#### Program Logic:\n",
    "\n",
    "Start the Program\n",
    "\n",
    "Display Menu Options:\n",
    "\n",
    "1. Calculate Speed\n",
    "2. Calculate Distance\n",
    "3. Calculate Time\n",
    "4. Exit\n",
    "\n",
    "\n",
    "Ask the user to choose an option (1–4).\n",
    "\n",
    "Based on the user’s choice:\n",
    "\n",
    "If choice = 1 (Speed):\n",
    "\n",
    "Input: Distance, Time\n",
    "\n",
    "Check if inputs are positive and Time ≠ 0\n",
    "\n",
    "Formula: Speed = Distance / Time\n",
    "\n",
    "Display Speed\n",
    "\n",
    "If choice = 2 (Distance):\n",
    "\n",
    "Input: Speed, Time\n",
    "\n",
    "Check if inputs are positive\n",
    "\n",
    "Formula: Distance = Speed × Time\n",
    "\n",
    "Display Distance\n",
    "\n",
    "If choice = 3 (Time):\n",
    "\n",
    "Input: Distance, Speed\n",
    "\n",
    "Check if inputs are positive and Speed ≠ 0\n",
    "\n",
    "Formula: Time = Distance / Speed\n",
    "\n",
    "Display Time\n",
    "\n",
    "If choice = 4 (Exit):\n",
    "\n",
    "Display a goodbye message\n",
    "\n",
    "Stop the program\n",
    "\n",
    "If the user enters an invalid choice:\n",
    "\n",
    "Display an error message\n",
    "\n",
    "Show the menu again\n",
    "\n",
    "Repeat the process until the user selects \"Exit\"."
   ]
  },
  {
   "cell_type": "code",
   "execution_count": 7,
   "id": "4f5e3a8a-b5e7-4358-8bf9-155cab287525",
   "metadata": {},
   "outputs": [],
   "source": [
    "def time_cal():\n",
    "    try:\n",
    "        distance = float(input(\"Enter Distance (in km): \"))\n",
    "        speed = float(input(\"Enter Speed (in km/h): \"))\n",
    "        if distance < 0 or speed <= 0:\n",
    "            print(\"Distance must be positive and Speed cannot be zero.\")\n",
    "        else:\n",
    "            time = distance / speed\n",
    "            print(f\"Time = {time} hours\")\n",
    "    except ValueError:\n",
    "        print(\"Invalid input! Please enter numeric values.\")"
   ]
  },
  {
   "cell_type": "code",
   "execution_count": 8,
   "id": "e5655b09-ee80-47ca-a44a-d91bb1eb0341",
   "metadata": {},
   "outputs": [],
   "source": [
    "def speed_cal():\n",
    "    try:\n",
    "        distance = float(input(\"Enter Distance (in km): \"))\n",
    "        time = float(input(\"Enter Time (in hours): \"))\n",
    "        if distance < 0 or time <= 0:\n",
    "            print(\"Distance and Time must be positive, and Time cannot be zero.\")\n",
    "        else:\n",
    "            speed = distance / time\n",
    "            print(f\"Speed = {speed} km/h\")\n",
    "    except ValueError:\n",
    "        print(\"Invalid input! Please enter numeric values.\")"
   ]
  },
  {
   "cell_type": "code",
   "execution_count": 9,
   "id": "58d610e7-3461-4f6e-afe7-5012cb2b079a",
   "metadata": {},
   "outputs": [],
   "source": [
    "def distance_cal():\n",
    "    try:\n",
    "        speed = float(input(\"Enter Speed (in km/h): \"))\n",
    "        time = float(input(\"Enter Time (in hours): \"))\n",
    "        if speed < 0 or time < 0:\n",
    "            print(\"Speed and Time must be positive.\")\n",
    "        else:\n",
    "            distance = speed * time\n",
    "            print(f\"Distance = {distance} km\")\n",
    "    except ValueError:\n",
    "        print(\"Invalid input! Please enter numeric values.\")"
   ]
  },
  {
   "cell_type": "code",
   "execution_count": 14,
   "id": "b7213cd4-0dd7-4a35-b013-91eb8e7c5199",
   "metadata": {},
   "outputs": [
    {
     "name": "stdin",
     "output_type": "stream",
     "text": [
      "How many times you want to run this program:  1\n"
     ]
    },
    {
     "name": "stdout",
     "output_type": "stream",
     "text": [
      "Select the Options:\n",
      "1. Calculate Speed\n",
      "2. Calculate Distance\n",
      "3. Calculate Time\n",
      "4. Exit\n"
     ]
    },
    {
     "name": "stdin",
     "output_type": "stream",
     "text": [
      "Enter your choice (1 to 4):  1\n",
      "Enter Distance (in km):  250\n",
      "Enter Time (in hours):  1.5\n"
     ]
    },
    {
     "name": "stdout",
     "output_type": "stream",
     "text": [
      "Speed = 166.66666666666666 km/h\n"
     ]
    }
   ],
   "source": [
    "limit= int(input(\"How many times you want to run this program: \"))\n",
    "for _ in range(limit):\n",
    "\n",
    "    print(\"Select the Options:\")\n",
    "    print(\"1. Calculate Speed\")\n",
    "    print(\"2. Calculate Distance\")\n",
    "    print(\"3. Calculate Time\")\n",
    "    print(\"4. Exit\")\n",
    "    \n",
    "    choice=input('Enter your choice (1 to 4): ')\n",
    "\n",
    "    if choice == \"1\":\n",
    "        speed_cal()\n",
    "    elif choice == \"2\":\n",
    "        distance_cal()\n",
    "    elif choice == \"3\":\n",
    "        time_cal()\n",
    "    elif choice == \"4\":\n",
    "        print(\"Thank you for using the calculator. Goodbye!\")\n",
    "        break\n",
    "    else:\n",
    "        print(\"Invalid choice! Please select between 1 and 4.\")"
   ]
  },
  {
   "cell_type": "code",
   "execution_count": null,
   "id": "0ecbb36b-09cb-47d0-b939-fc454792e61a",
   "metadata": {},
   "outputs": [],
   "source": []
  }
 ],
 "metadata": {
  "kernelspec": {
   "display_name": "Python 3 (ipykernel)",
   "language": "python",
   "name": "python3"
  },
  "language_info": {
   "codemirror_mode": {
    "name": "ipython",
    "version": 3
   },
   "file_extension": ".py",
   "mimetype": "text/x-python",
   "name": "python",
   "nbconvert_exporter": "python",
   "pygments_lexer": "ipython3",
   "version": "3.13.7"
  }
 },
 "nbformat": 4,
 "nbformat_minor": 5
}
