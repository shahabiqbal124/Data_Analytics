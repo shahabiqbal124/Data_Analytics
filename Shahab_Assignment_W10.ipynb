{
 "cells": [
  {
   "cell_type": "markdown",
   "id": "111721b3-bdfc-4a58-a401-6b1178215e1f",
   "metadata": {},
   "source": [
    "# Shahab_Assignment_W10"
   ]
  },
  {
   "cell_type": "markdown",
   "id": "b4ec0d24-05bd-44f2-87ef-a28ec892ee27",
   "metadata": {},
   "source": [
    "## Q1\n",
    "Write a Python program that:\n",
    "\n",
    "Has a balance of 1000.\n",
    "\n",
    "Asks the user for a withdrawal amount.\n",
    "\n",
    "Checks for these errors:\n",
    "\n",
    "Non-numeric input → print \"Please enter a valid number.\"\n",
    "\n",
    "Amount ≤ 0 → print \"Amount must be more than zero.\"\n",
    "\n",
    "Amount > balance → print \"Insufficient balance.\"\n",
    "\n",
    "If valid, deducts amount and shows remaining balance.\n",
    "\n",
    "Always prints \"Thank you for using the ATM.\"\n",
    "\n",
    "Expected Output:\n",
    "\n",
    "Enter amount to withdraw: 1500\n",
    "\n",
    "Insufficient balance.\n",
    "\n",
    "Thank you for using the ATM.\n",
    "\n",
    "Enter amount to withdraw: 0\n",
    "\n",
    "Amount must be more than zero.\n",
    "\n",
    "Thank you for using the ATM.\n",
    "\n",
    "Enter amount to withdraw: K Please enter a valid number.\n",
    "\n",
    "Thank you for using the ATM."
   ]
  },
  {
   "cell_type": "code",
   "execution_count": 2,
   "id": "9a69178c-abb8-4fb2-9b39-3aab35550079",
   "metadata": {},
   "outputs": [],
   "source": [
    "balance = 1000"
   ]
  },
  {
   "cell_type": "code",
   "execution_count": 3,
   "id": "c618f6bc-554e-48cc-8257-dd4a4ec30d7b",
   "metadata": {},
   "outputs": [
    {
     "name": "stdin",
     "output_type": "stream",
     "text": [
      "Enter amount to withdraw:  234\n"
     ]
    },
    {
     "name": "stdout",
     "output_type": "stream",
     "text": [
      "Withdrawal successful. Remaining balance: 766\n",
      "Thank you for using the ATM.\n"
     ]
    }
   ],
   "source": [
    "try:\n",
    "    amount = int(input(\"Enter amount to withdraw: \"))\n",
    "    if amount <= 0:\n",
    "        print(\"Amount must be more than zero.\")\n",
    "    elif amount > balance:\n",
    "        print(\"Insufficient balance.\")\n",
    "    else:\n",
    "        balance -= amount\n",
    "        print(f\"Withdrawal successful. Remaining balance: {balance}\")\n",
    "except ValueError:\n",
    "    print(\"Please enter a valid number.\")\n",
    "finally:\n",
    "    print(\"Thank you for using the ATM.\")"
   ]
  },
  {
   "cell_type": "markdown",
   "id": "b2843a20-7edc-43a6-b23d-80c8cb3fdc7b",
   "metadata": {},
   "source": [
    "## Q2\n",
    "Write a Python program that:\n",
    "\n",
    "Has 5 seats available (available_seats = 5).\n",
    "\n",
    "Asks the user how many tickets they want to book.\n",
    "\n",
    "Checks for these cases:\n",
    "\n",
    "Non-numeric input → print \"Please enter a valid number.\"\n",
    "\n",
    "Tickets ≤ 0 → print \"You must book at least 1 ticket.\"\n",
    "\n",
    "Tickets more than available seats → print \"Not enough seats available.\"\n",
    "\n",
    "If valid, confirms the booking by printing how many tickets were booked.\n",
    "\n",
    "Always prints \"Thank you for booking with us.\" at the end.\n",
    "\n",
    "Expected Output:\n",
    "\n",
    "How many tickets do you want to book? 3\n",
    "\n",
    "3 ticket(s) booked successfully.\n",
    "\n",
    "Thank you for booking with us.\n",
    "\n",
    "How many tickets do you want to book? 0\n",
    "\n",
    "You must book at least 1 ticket.\n",
    "\n",
    "Thank you for booking with us.\n",
    "\n",
    "How many tickets do you want to book? 7\n",
    "\n",
    "Not enough seats available.\n",
    "\n",
    "Thank you for booking with us.\n",
    "\n",
    "How many tickets do you want to book? five\n",
    "\n",
    "Please enter a valid number.\n",
    "\n",
    "Thank you for booking with us."
   ]
  },
  {
   "cell_type": "code",
   "execution_count": 6,
   "id": "0f88dac8-a55c-4ae7-bca5-bd56bd4efe09",
   "metadata": {},
   "outputs": [],
   "source": [
    "available_seats = 5"
   ]
  },
  {
   "cell_type": "code",
   "execution_count": 7,
   "id": "cbdc87a2-78f8-49ca-8b2a-1fb03024b6f1",
   "metadata": {},
   "outputs": [
    {
     "name": "stdin",
     "output_type": "stream",
     "text": [
      "How many tickets do you want to book?  4\n"
     ]
    },
    {
     "name": "stdout",
     "output_type": "stream",
     "text": [
      "4 ticket(s) booked successfully.\n",
      "Thank you for booking with us.\n"
     ]
    }
   ],
   "source": [
    "try:\n",
    "    tickets = int(input(\"How many tickets do you want to book? \"))\n",
    "    if tickets <= 0:\n",
    "        print(\"You must book at least 1 ticket.\")\n",
    "    elif tickets > available_seats:\n",
    "        print(\"Not enough seats available.\")\n",
    "    else:\n",
    "        print(f\"{tickets} ticket(s) booked successfully.\")\n",
    "except ValueError:\n",
    "    print(\"Please enter a valid number.\")\n",
    "finally:\n",
    "    print(\"Thank you for booking with us.\")"
   ]
  },
  {
   "cell_type": "markdown",
   "id": "8d438fa3-bfb1-41cd-b683-f326d66bd7f0",
   "metadata": {},
   "source": [
    "## Q3\n",
    "Write a Python program that:\n",
    "\n",
    "Asks the user how many items they want to buy.\n",
    "\n",
    "If the user enters a non-number, print: \"Please enter a valid quantity.\"\n",
    "\n",
    "If the user enters a number less than 1, print: \"You must buy at least one item.\"\n",
    "\n",
    "If the input is valid, print: \"You added {quantity} item(s) to your cart.\"\n",
    "\n",
    "Expected Output:\n",
    "\n",
    "Enter the number of items you want to buy: 3\n",
    "\n",
    "You added 3 item(s) to your cart.\n",
    "\n",
    "Enter the number of items you want to buy: 0\n",
    "\n",
    "You must buy at least one item.\n",
    "\n",
    "Enter the number of items you want to buy: five\n",
    "\n",
    "Please enter a valid quantity.\n"
   ]
  },
  {
   "cell_type": "code",
   "execution_count": 9,
   "id": "aea8fda7-352d-4b41-8579-cbcf7ff6adf8",
   "metadata": {},
   "outputs": [
    {
     "name": "stdin",
     "output_type": "stream",
     "text": [
      "Enter the number of items you want to buy:  4\n"
     ]
    },
    {
     "name": "stdout",
     "output_type": "stream",
     "text": [
      "You added 4 item(s) to your cart.\n"
     ]
    }
   ],
   "source": [
    "try:\n",
    "    quantity = int(input(\"Enter the number of items you want to buy: \"))\n",
    "    if quantity < 1:\n",
    "        print(\"You must buy at least one item.\")\n",
    "    else:\n",
    "        print(f\"You added {quantity} item(s) to your cart.\")\n",
    "except ValueError:\n",
    "    print(\"Please enter a valid quantity.\")"
   ]
  },
  {
   "cell_type": "markdown",
   "id": "97ed748d-7e20-4e31-9d6a-7b1d66e30701",
   "metadata": {},
   "source": [
    "## Q4\n",
    "Write a Python program that:\n",
    "\n",
    "Asks the user to enter a number between 1 and 7.\n",
    "\n",
    "If the number is between 1 and 7, prints the corresponding day of the week (1 = Monday, 7 = Sunday).\n",
    "\n",
    "If the number is outside this range, prints: \"Please enter a number between 1 and 7.\"\n",
    "\n",
    "Handles invalid input (non-numbers) by printing: \"Please enter a valid number.\"\n",
    "\n",
    "Expected Output:\n",
    "\n",
    "Enter a day number (1-7): 3\n",
    "\n",
    "Day is Wednesday\n",
    "\n",
    "Enter a day number (1-7): 9\n",
    "\n",
    "Please enter a number between 1 and 7.\n",
    "\n",
    "Enter a day number (1-7): five"
   ]
  },
  {
   "cell_type": "code",
   "execution_count": 11,
   "id": "be83699d-b1a5-415e-8893-3eae6d61570d",
   "metadata": {},
   "outputs": [],
   "source": [
    "days = {\n",
    "    1: \"Monday\",\n",
    "    2: \"Tuesday\",\n",
    "    3: \"Wednesday\",\n",
    "    4: \"Thursday\",\n",
    "    5: \"Friday\",\n",
    "    6: \"Saturday\",\n",
    "    7: \"Sunday\"\n",
    "}"
   ]
  },
  {
   "cell_type": "code",
   "execution_count": 12,
   "id": "c484ad62-d302-4c99-86fa-ec9f4120ee34",
   "metadata": {},
   "outputs": [
    {
     "name": "stdin",
     "output_type": "stream",
     "text": [
      "Enter a day number (1-7):  3\n"
     ]
    },
    {
     "name": "stdout",
     "output_type": "stream",
     "text": [
      "Day is Wednesday\n"
     ]
    }
   ],
   "source": [
    "try:\n",
    "    num = int(input(\"Enter a day number (1-7): \"))\n",
    "    if 1 <= num <= 7:\n",
    "        print(f\"Day is {days[num]}\")\n",
    "    else:\n",
    "        print(\"Please enter a number between 1 and 7.\")\n",
    "except ValueError:\n",
    "    print(\"Please enter a valid number.\")"
   ]
  },
  {
   "cell_type": "markdown",
   "id": "f7849040-43e1-45ef-8522-da1173c19ab6",
   "metadata": {},
   "source": [
    "## Q5\n",
    "Write a Python program that:\n",
    "\n",
    "Asks the user how many days late they are returning a book.\n",
    "\n",
    "Calculates a fine: $0.50 per day late.\n",
    "\n",
    "If the user enters a negative number, print: \"Days late cannot be negative.\"\n",
    "\n",
    "If the input is invalid (not a number), print: \"Please enter a valid number.\"\n",
    "\n",
    "Otherwise, print the total fine.\n",
    "\n",
    "Expected Output:\n",
    "\n",
    "Enter the number of days late: 4\n",
    "\n",
    "Total fine: $2.00\n",
    "\n",
    "Enter the number of days late: 0\n",
    "\n",
    "Total fine: $0.00\n",
    "\n",
    "Enter the number of days late: -3\n",
    "\n",
    "Days late cannot be negative."
   ]
  },
  {
   "cell_type": "code",
   "execution_count": 15,
   "id": "dffdc10f-63da-4c81-a89a-fd884bfb96da",
   "metadata": {},
   "outputs": [
    {
     "name": "stdin",
     "output_type": "stream",
     "text": [
      "Enter the number of days late:  2\n"
     ]
    },
    {
     "name": "stdout",
     "output_type": "stream",
     "text": [
      "Total fine: $1.0\n"
     ]
    }
   ],
   "source": [
    "try:\n",
    "    days_late = int(input(\"Enter the number of days late: \"))\n",
    "    if days_late < 0:\n",
    "        print(\"Days late cannot be negative.\")\n",
    "    else:\n",
    "        fine = days_late * 0.5\n",
    "        print(f\"Total fine: ${fine}\")\n",
    "except ValueError:\n",
    "    print(\"Please enter a valid number.\")"
   ]
  },
  {
   "cell_type": "markdown",
   "id": "e39604f6-4704-4fe8-a31b-b14d5296a9f1",
   "metadata": {},
   "source": [
    "## Q6\n",
    "Define a class named Book that has the following attributes:\n",
    "\n",
    "title (string)\n",
    "\n",
    "author (string)\n",
    "\n",
    "year (integer)\n",
    "\n",
    "Write a constructor (init) that initializes these attributes when a Book object is created.\n",
    "\n",
    "Then, create an object of the Book class with sample data (e.g., title = \"To Kill a Mockingbird\", author = \"Harper Lee\", year = 1960).\n",
    "\n",
    "Finally, print the values of the object's attributes (title, author, and year\n",
    "\n",
    "Expected Output:\n",
    "\n",
    "To Kill a Mockingbird\n",
    "\n",
    "Harper Lee\n",
    "\n",
    "1960"
   ]
  },
  {
   "cell_type": "code",
   "execution_count": 17,
   "id": "4db3da3b-6afe-4434-b019-ff6c1c9ff61d",
   "metadata": {},
   "outputs": [],
   "source": [
    "class Book:\n",
    "    def __init__(self, title, author, year):\n",
    "        self.title = title\n",
    "        self.author = author\n",
    "        self.year = year\n",
    "\n",
    "book1 = Book(\"To Kill a Mockingbird\", \"Harper Lee\", 1960)"
   ]
  },
  {
   "cell_type": "code",
   "execution_count": 18,
   "id": "a7ac4459-0c09-401f-8438-278ad4fcd0e5",
   "metadata": {},
   "outputs": [
    {
     "name": "stdout",
     "output_type": "stream",
     "text": [
      "To Kill a Mockingbird\n"
     ]
    }
   ],
   "source": [
    "print(book1.title)"
   ]
  },
  {
   "cell_type": "code",
   "execution_count": 19,
   "id": "482e6660-3367-4740-ad35-696e70552c94",
   "metadata": {},
   "outputs": [
    {
     "name": "stdout",
     "output_type": "stream",
     "text": [
      "Harper Lee\n"
     ]
    }
   ],
   "source": [
    "print(book1.author)"
   ]
  },
  {
   "cell_type": "code",
   "execution_count": 20,
   "id": "cb91f133-d396-4201-a3db-9aaa40bbed5d",
   "metadata": {},
   "outputs": [
    {
     "name": "stdout",
     "output_type": "stream",
     "text": [
      "1960\n"
     ]
    }
   ],
   "source": [
    "print(book1.year)"
   ]
  },
  {
   "cell_type": "markdown",
   "id": "46ea384b-8dd4-436f-9711-591f0c7091a6",
   "metadata": {},
   "source": [
    "## Q7\n",
    "Define a class named Book with the following:\n",
    "\n",
    "A constructor (init) that initializes three attributes: title, author, and year.\n",
    "\n",
    "A method display_info() that prints the book details in the format:\n",
    "\n",
    "'{title}' by {author}, published in {year}.\n",
    "\n",
    "A method is_classic() that simply prints:\n",
    "\n",
    "\"This is a book.\"\n",
    "\n",
    "Create an object of the Book class using this data:\n",
    "\n",
    "Title: \"To Kill a Mockingbird\"\n",
    "\n",
    "Author: \"Harper Lee\"\n",
    "\n",
    "Year: 1960\n",
    "\n",
    "Call both methods on the object.\n",
    "\n",
    "Expected Output:\n",
    "\n",
    "'To Kill a Mockingbird' by Harper Lee, published in 1960.\n",
    "\n",
    "This is a book."
   ]
  },
  {
   "cell_type": "code",
   "execution_count": 22,
   "id": "d050cb07-c0ff-423b-b04d-88bb189e0164",
   "metadata": {},
   "outputs": [
    {
     "name": "stdout",
     "output_type": "stream",
     "text": [
      "'To Kill a Mockingbird' by Harper Lee, published in 1960.\n",
      "This is a book.\n"
     ]
    }
   ],
   "source": [
    "class Book:\n",
    "    def __init__(self, title, author, year):\n",
    "        self.title = title\n",
    "        self.author = author\n",
    "        self.year = year\n",
    "\n",
    "    def display_info(self):\n",
    "        print(f\"'{self.title}' by {self.author}, published in {self.year}.\")\n",
    "\n",
    "    def is_classic(self):\n",
    "        print(\"This is a book.\")\n",
    "\n",
    "book1 = Book(\"To Kill a Mockingbird\", \"Harper Lee\", 1960)\n",
    "book1.display_info()\n",
    "book1.is_classic()"
   ]
  },
  {
   "cell_type": "markdown",
   "id": "c6c1d96f-bb1d-4e9a-93ad-d154eb3a53f2",
   "metadata": {},
   "source": [
    "## Q8\n",
    "Define a class named Student that has the following:\n",
    "\n",
    "Attributes: name, grade, and age.\n",
    "\n",
    "A method introduce() that prints:\n",
    "\n",
    "\"My name is {name}, I am {age} years old.\"\n",
    "\n",
    "A method show_grade() that prints:\n",
    "\n",
    "\"My grade is {grade}.\"\n",
    "\n",
    "Create an object of the Student class with sample data (e.g., \"Alice\", \"A\", 16), and call both methods on the object.\n",
    "\n",
    "Expected Output:\n",
    "\n",
    "My name is Alice, I am 16 years old.\n",
    "\n",
    "My grade is A.\n"
   ]
  },
  {
   "cell_type": "code",
   "execution_count": 24,
   "id": "260305bb-d891-47e2-a1fe-1e92ffeea4bb",
   "metadata": {},
   "outputs": [
    {
     "name": "stdout",
     "output_type": "stream",
     "text": [
      "My name is Alice, I am 16 years old.\n",
      "My grade is A.\n"
     ]
    }
   ],
   "source": [
    "class Student:\n",
    "    def __init__(self, name, grade, age):\n",
    "        self.name = name\n",
    "        self.grade = grade\n",
    "        self.age = age\n",
    "\n",
    "    def introduce(self):\n",
    "        print(f\"My name is {self.name}, I am {self.age} years old.\")\n",
    "\n",
    "    def show_grade(self):\n",
    "        print(f\"My grade is {self.grade}.\")\n",
    "\n",
    "student1 = Student(\"Alice\", \"A\", 16)\n",
    "student1.introduce()\n",
    "student1.show_grade()"
   ]
  },
  {
   "cell_type": "markdown",
   "id": "8c346526-3ef6-412d-a668-5b8cc85c56e7",
   "metadata": {},
   "source": [
    "## Q9\n",
    "Define a class named Light with two methods:\n",
    "\n",
    "turn_on() — prints: \"The light is now ON.\"\n",
    "\n",
    "check_status() — prints: \"The light is bright and working.\"\n",
    "\n",
    "Create an object of the Light class and call both methods.\n",
    "\n",
    "Expected Output:\n",
    "\n",
    "The light is now ON.\n",
    "\n",
    "The light is bright and working.\n"
   ]
  },
  {
   "cell_type": "code",
   "execution_count": 26,
   "id": "6177e951-0ba0-44da-8b9c-24827af5427c",
   "metadata": {},
   "outputs": [
    {
     "name": "stdout",
     "output_type": "stream",
     "text": [
      "The light is now ON.\n",
      "The light is bright and working.\n"
     ]
    }
   ],
   "source": [
    "class Light:\n",
    "    def turn_on(self):\n",
    "        print(\"The light is now ON.\")\n",
    "\n",
    "    def check_status(self):\n",
    "        print(\"The light is bright and working.\")\n",
    "\n",
    "lamp = Light()\n",
    "lamp.turn_on()\n",
    "lamp.check_status()"
   ]
  },
  {
   "cell_type": "markdown",
   "id": "e60b8788-a7b1-4af4-bfe5-5f99a27a2e3b",
   "metadata": {},
   "source": [
    "## Q10\n",
    "available_slots = [101, 102, 103, 104, 105]\n",
    "\n",
    "reserved = [106, 107, 108, 109, 110]\n",
    "\n",
    "You manage a parking lot with two lists:\n",
    "\n",
    "available_slots — parking slots that are free and can be reserved.\n",
    "\n",
    "reserved — parking slots that are already taken.\n",
    "\n",
    "Write a program that:\n",
    "\n",
    "Asks the user to enter a parking slot number they want to reserve.\n",
    "\n",
    "Checks the slot number:\n",
    "\n",
    "If the slot is in available_slots, confirm the reservation by printing:\n",
    "\n",
    "\"Slot {slot} is reserved for you.\"\n",
    "\n",
    "If the slot is in reserved, print:\n",
    "\n",
    "\"Slot {slot} is already reserved by someone else.\"\n",
    "\n",
    "If the slot is not in either list, print:\n",
    "\n",
    "\"Slot {slot} does not exist.\"\n",
    "\n",
    "Handles invalid input (non-integer) with an error message:\n",
    "\n",
    "\"Invalid input. Please enter a valid slot number.\"\n",
    "\n",
    "Expected Output:\n",
    "\n",
    "Enter the parking slot number you want to reserve: 103\n",
    "\n",
    "Slot 103 is reserved for you.\n",
    "\n",
    "Enter the parking slot number you want to reserve: 107\n",
    "\n",
    "Slot 107 is already reserved by someone else.\n",
    "\n",
    "Enter the parking slot number you want to reserve: 999\n",
    "\n",
    "Slot 999 does not exist.\n",
    "\n",
    "Enter the parking slot number you want to reserve: abc\n",
    "\n",
    "Invalid input. Please enter a valid slot number."
   ]
  },
  {
   "cell_type": "code",
   "execution_count": 28,
   "id": "645e4ecd-c179-47da-a8c8-541433b0a4cd",
   "metadata": {},
   "outputs": [
    {
     "name": "stdin",
     "output_type": "stream",
     "text": [
      "Enter the parking slot number you want to reserve:  205\n"
     ]
    },
    {
     "name": "stdout",
     "output_type": "stream",
     "text": [
      "Slot 205 does not exist.\n"
     ]
    }
   ],
   "source": [
    "available_slots = [101, 102, 103, 104, 105]\n",
    "reserved = [106, 107, 108, 109, 110]\n",
    "\n",
    "try:\n",
    "    slot = int(input(\"Enter the parking slot number you want to reserve: \"))\n",
    "    if slot in available_slots:\n",
    "        print(f\"Slot {slot} is reserved for you.\")\n",
    "    elif slot in reserved:\n",
    "        print(f\"Slot {slot} is already reserved by someone else.\")\n",
    "    else:\n",
    "        print(f\"Slot {slot} does not exist.\")\n",
    "except ValueError:\n",
    "    print(\"Invalid input. Please enter a valid slot number.\")"
   ]
  },
  {
   "cell_type": "code",
   "execution_count": null,
   "id": "f7b7c48a-1c17-440f-b552-d988d566af93",
   "metadata": {},
   "outputs": [],
   "source": []
  }
 ],
 "metadata": {
  "kernelspec": {
   "display_name": "Python 3 (ipykernel)",
   "language": "python",
   "name": "python3"
  },
  "language_info": {
   "codemirror_mode": {
    "name": "ipython",
    "version": 3
   },
   "file_extension": ".py",
   "mimetype": "text/x-python",
   "name": "python",
   "nbconvert_exporter": "python",
   "pygments_lexer": "ipython3",
   "version": "3.13.7"
  }
 },
 "nbformat": 4,
 "nbformat_minor": 5
}
