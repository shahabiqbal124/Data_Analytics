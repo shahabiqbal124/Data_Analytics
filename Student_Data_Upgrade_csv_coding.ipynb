{
 "cells": [
  {
   "cell_type": "code",
   "execution_count": 1,
   "id": "06f5af54-7f1c-42a4-83c1-bdca44c287a8",
   "metadata": {},
   "outputs": [],
   "source": [
    "import csv"
   ]
  },
  {
   "cell_type": "code",
   "execution_count": 2,
   "id": "7dc959b2-3b5b-4e41-b711-362a53faf826",
   "metadata": {},
   "outputs": [
    {
     "name": "stdout",
     "output_type": "stream",
     "text": [
      "[['roll no', 'Name', 'Chemistry', 'Physics', 'Math'], ['101', 'Aliza', '50', '23', '87'], ['102', 'Fareed', '45', '24', '88'], ['103', 'Basit', '46', '25', '89'], ['104', 'Abdullah', '47', '26', '90'], ['105', 'Ali', '48', '27', '67'], ['106', 'Mubashir', '49', '28', '68'], ['107', 'Waleed', '50', '29', '69'], ['108', 'Mansoor', '51', '30', '70'], ['109', 'Zain', '52', '31', '71'], ['110', 'Mohsin', '53', '67', '72'], ['111', 'Shahmeer', '54', '68', '73'], ['112', 'Rao', '55', '69', '74'], ['113', 'Aurangzeb', '56', '70', '75'], ['114', 'Zeeshan', '57', '71', '76'], ['115', 'Hamna', '58', '72', '77'], ['116', 'Hamza', '59', '73', '78'], ['117', 'Khalid', '60', '74', '79'], ['118', 'Behroz', '61', '75', '80'], ['119', 'Justin', '62', '76', '81'], ['120', 'Danish', '63', '77', '82'], ['121', 'Kainat', '64', '78', '83'], ['122', 'Sameer', '65', '79', '84'], ['123', 'Raza', '66', '80', '85'], ['124', 'Kumar', '67', '81', '86'], ['125', 'Komal', '68', '82', '87'], ['126', 'Erum', '69', '83', '88'], ['127', 'Faiza', '70', '84', '89'], ['128', 'Saeed', '71', '85', '90'], ['129', 'Waqar', '72', '86', '91'], ['130', 'Wali', '73', '87', '92'], ['131', 'Wajid', '74', '88', '93'], ['132', 'Waseeb', '75', '89', '94'], ['133', 'Shiza', '76', '90', '95'], ['134', 'Shabina', '77', '91', '96'], ['135', 'Shazain', '78', '55', '97'], ['136', 'Lubna', '79', '61', '98'], ['137', 'Laiba', '80', '88', '78'], ['138', 'Khursheed', '81', '56', '45'], ['139', 'Ali', '82', '89', '46'], ['140', 'Aiza', '83', '45', '89'], ['141', 'Aiman', '84', '92', '78'], ['142', 'Yasmeen', '85', '36', '56'], ['143', 'Tasbeel', '86', '78', '78'], ['144', 'Laraib', '87', '56', '54'], ['145', 'Saleem', '88', '78', '78'], ['146', 'Bismil', '89', '89', '46'], ['147', 'Batool', '90', '56', '79'], ['148', 'Iqra', '91', '33', '46'], ['149', 'Zarnish', '92', '78', '45'], ['150', 'Zara', '83', '45', '56']]\n"
     ]
    }
   ],
   "source": [
    "file= open(\"student data.csv\", mode=\"r\")\n",
    "reader=csv.reader(file)\n",
    "data=list(reader)\n",
    "print(data)"
   ]
  },
  {
   "cell_type": "code",
   "execution_count": 3,
   "id": "380421dc-e5cb-4aa7-b11a-4edcc1694519",
   "metadata": {},
   "outputs": [],
   "source": [
    "header=data[0]\n",
    "data_rows=data[1:]"
   ]
  },
  {
   "cell_type": "code",
   "execution_count": 4,
   "id": "910a1f99-5a00-4a6f-bb04-495ad85e8e63",
   "metadata": {},
   "outputs": [
    {
     "name": "stdout",
     "output_type": "stream",
     "text": [
      "['roll no', 'Name', 'Chemistry', 'Physics', 'Math']\n",
      "['roll no', 'Name', 'Chemistry', 'Physics', 'Math', 'Percentage', 'Grades']\n"
     ]
    }
   ],
   "source": [
    "print(header)\n",
    "header.extend(['Percentage'])\n",
    "header.extend(['Grades'])\n",
    "print(header)"
   ]
  },
  {
   "cell_type": "code",
   "execution_count": 5,
   "id": "e009854b-e9a2-44ed-9986-b713492e3277",
   "metadata": {},
   "outputs": [
    {
     "name": "stdout",
     "output_type": "stream",
     "text": [
      "53.33\n",
      "52.33\n",
      "53.33\n",
      "54.33\n",
      "47.33\n",
      "48.33\n",
      "49.33\n",
      "50.33\n",
      "51.33\n",
      "64.0\n",
      "65.0\n",
      "66.0\n",
      "67.0\n",
      "68.0\n",
      "69.0\n",
      "70.0\n",
      "71.0\n",
      "72.0\n",
      "73.0\n",
      "74.0\n",
      "75.0\n",
      "76.0\n",
      "77.0\n",
      "78.0\n",
      "79.0\n",
      "80.0\n",
      "81.0\n",
      "82.0\n",
      "83.0\n",
      "84.0\n",
      "85.0\n",
      "86.0\n",
      "87.0\n",
      "88.0\n",
      "76.67\n",
      "79.33\n",
      "82.0\n",
      "60.67\n",
      "72.33\n",
      "72.33\n",
      "84.67\n",
      "59.0\n",
      "80.67\n",
      "65.67\n",
      "81.33\n",
      "74.67\n",
      "75.0\n",
      "56.67\n",
      "71.67\n",
      "61.33\n"
     ]
    }
   ],
   "source": [
    "for per in data_rows:\n",
    "    chem=float(per[2])\n",
    "    phy=float(per[3])\n",
    "    math=float(per[4])\n",
    "    percentage = round(((chem+phy+math)/300)*100,2)\n",
    "    print(round(percentage,2))\n",
    "    per.append(percentage)\n",
    "    \n",
    "\n",
    "\n",
    "    if percentage >= 80:\n",
    "        grade = \"A+\"\n",
    "    elif 70 <= percentage < 80:\n",
    "        grade = \"A\"\n",
    "    elif 60 <= percentage < 70:\n",
    "        grade = \"B\"\n",
    "    elif 50 <= percentage < 60:\n",
    "        grade = \"C\"\n",
    "    else:\n",
    "        grade = \"F\"\n",
    "\n",
    "    per.append(grade)"
   ]
  },
  {
   "cell_type": "code",
   "execution_count": 6,
   "id": "558284cf-258c-440f-a38a-20b58e800716",
   "metadata": {},
   "outputs": [
    {
     "name": "stdout",
     "output_type": "stream",
     "text": [
      "['roll no', 'Name', 'Chemistry', 'Physics', 'Math', 'Percentage', 'Grades']\n",
      "['101', 'Aliza', '50', '23', '87', 53.33, 'C']\n",
      "['102', 'Fareed', '45', '24', '88', 52.33, 'C']\n",
      "['103', 'Basit', '46', '25', '89', 53.33, 'C']\n",
      "['104', 'Abdullah', '47', '26', '90', 54.33, 'C']\n",
      "['105', 'Ali', '48', '27', '67', 47.33, 'F']\n",
      "['106', 'Mubashir', '49', '28', '68', 48.33, 'F']\n",
      "['107', 'Waleed', '50', '29', '69', 49.33, 'F']\n",
      "['108', 'Mansoor', '51', '30', '70', 50.33, 'C']\n",
      "['109', 'Zain', '52', '31', '71', 51.33, 'C']\n",
      "['110', 'Mohsin', '53', '67', '72', 64.0, 'B']\n",
      "['111', 'Shahmeer', '54', '68', '73', 65.0, 'B']\n",
      "['112', 'Rao', '55', '69', '74', 66.0, 'B']\n",
      "['113', 'Aurangzeb', '56', '70', '75', 67.0, 'B']\n",
      "['114', 'Zeeshan', '57', '71', '76', 68.0, 'B']\n",
      "['115', 'Hamna', '58', '72', '77', 69.0, 'B']\n",
      "['116', 'Hamza', '59', '73', '78', 70.0, 'A']\n",
      "['117', 'Khalid', '60', '74', '79', 71.0, 'A']\n",
      "['118', 'Behroz', '61', '75', '80', 72.0, 'A']\n",
      "['119', 'Justin', '62', '76', '81', 73.0, 'A']\n",
      "['120', 'Danish', '63', '77', '82', 74.0, 'A']\n",
      "['121', 'Kainat', '64', '78', '83', 75.0, 'A']\n",
      "['122', 'Sameer', '65', '79', '84', 76.0, 'A']\n",
      "['123', 'Raza', '66', '80', '85', 77.0, 'A']\n",
      "['124', 'Kumar', '67', '81', '86', 78.0, 'A']\n",
      "['125', 'Komal', '68', '82', '87', 79.0, 'A']\n",
      "['126', 'Erum', '69', '83', '88', 80.0, 'A+']\n",
      "['127', 'Faiza', '70', '84', '89', 81.0, 'A+']\n",
      "['128', 'Saeed', '71', '85', '90', 82.0, 'A+']\n",
      "['129', 'Waqar', '72', '86', '91', 83.0, 'A+']\n",
      "['130', 'Wali', '73', '87', '92', 84.0, 'A+']\n",
      "['131', 'Wajid', '74', '88', '93', 85.0, 'A+']\n",
      "['132', 'Waseeb', '75', '89', '94', 86.0, 'A+']\n",
      "['133', 'Shiza', '76', '90', '95', 87.0, 'A+']\n",
      "['134', 'Shabina', '77', '91', '96', 88.0, 'A+']\n",
      "['135', 'Shazain', '78', '55', '97', 76.67, 'A']\n",
      "['136', 'Lubna', '79', '61', '98', 79.33, 'A']\n",
      "['137', 'Laiba', '80', '88', '78', 82.0, 'A+']\n",
      "['138', 'Khursheed', '81', '56', '45', 60.67, 'B']\n",
      "['139', 'Ali', '82', '89', '46', 72.33, 'A']\n",
      "['140', 'Aiza', '83', '45', '89', 72.33, 'A']\n",
      "['141', 'Aiman', '84', '92', '78', 84.67, 'A+']\n",
      "['142', 'Yasmeen', '85', '36', '56', 59.0, 'C']\n",
      "['143', 'Tasbeel', '86', '78', '78', 80.67, 'A+']\n",
      "['144', 'Laraib', '87', '56', '54', 65.67, 'B']\n",
      "['145', 'Saleem', '88', '78', '78', 81.33, 'A+']\n",
      "['146', 'Bismil', '89', '89', '46', 74.67, 'A']\n",
      "['147', 'Batool', '90', '56', '79', 75.0, 'A']\n",
      "['148', 'Iqra', '91', '33', '46', 56.67, 'C']\n",
      "['149', 'Zarnish', '92', '78', '45', 71.67, 'A']\n",
      "['150', 'Zara', '83', '45', '56', 61.33, 'B']\n"
     ]
    }
   ],
   "source": [
    "print (header)\n",
    "for per in data_rows:\n",
    "    print(per)"
   ]
  },
  {
   "cell_type": "code",
   "execution_count": 7,
   "id": "ab149fdb-2626-4a68-bff5-445490f4c2f9",
   "metadata": {},
   "outputs": [],
   "source": [
    "with open(\"student_data_grades_updated.csv\", \"w\", newline=\"\") as new_file:\n",
    "    writer = csv.writer(new_file)\n",
    "    writer.writerow(header)\n",
    "    writer.writerows(data_rows)"
   ]
  },
  {
   "cell_type": "code",
   "execution_count": null,
   "id": "260471bb-e401-4de9-8312-8abb8372f4b1",
   "metadata": {},
   "outputs": [],
   "source": []
  },
  {
   "cell_type": "code",
   "execution_count": null,
   "id": "440afaf7-0447-49fc-af74-f2276a1d729d",
   "metadata": {},
   "outputs": [],
   "source": []
  }
 ],
 "metadata": {
  "kernelspec": {
   "display_name": "Python [conda env:base] *",
   "language": "python",
   "name": "conda-base-py"
  },
  "language_info": {
   "codemirror_mode": {
    "name": "ipython",
    "version": 3
   },
   "file_extension": ".py",
   "mimetype": "text/x-python",
   "name": "python",
   "nbconvert_exporter": "python",
   "pygments_lexer": "ipython3",
   "version": "3.13.5"
  }
 },
 "nbformat": 4,
 "nbformat_minor": 5
}
