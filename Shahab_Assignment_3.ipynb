{
 "cells": [
  {
   "cell_type": "markdown",
   "id": "9f182d71-564f-4eb7-904d-68d84c84ba59",
   "metadata": {},
   "source": [
    "## Question 1"
   ]
  },
  {
   "cell_type": "raw",
   "id": "bb5e8505-d213-4ab9-beb1-88e86dc1f792",
   "metadata": {},
   "source": [
    "animals = [\"cat\", \"dog\", \"rabbit\", \"tiger\", \"elephant\"]\n",
    "\n",
    "- Print \"tiger\" by indexing\n",
    "- Print \"rabbit by negative indexing\n",
    "- Print \"rabbit\" to \"elephant\" by slicing"
   ]
  },
  {
   "cell_type": "code",
   "execution_count": 1,
   "id": "0a5f559d-3584-4214-a442-13abb5a2461f",
   "metadata": {},
   "outputs": [],
   "source": [
    "animals = [\"cat\", \"dog\", \"rabbit\", \"tiger\", \"elephant\"]"
   ]
  },
  {
   "cell_type": "code",
   "execution_count": 2,
   "id": "0db738eb-5b15-4f62-bb82-38d035169002",
   "metadata": {},
   "outputs": [],
   "source": [
    "animal=animals[3]\n",
    "animal1=animals[-3]\n",
    "rang_e=animals[2:]"
   ]
  },
  {
   "cell_type": "code",
   "execution_count": 3,
   "id": "1cb95be6-c326-4e6e-a497-cd5fbd88ab6a",
   "metadata": {},
   "outputs": [
    {
     "name": "stdout",
     "output_type": "stream",
     "text": [
      "tiger\n",
      "rabbit\n",
      "['rabbit', 'tiger', 'elephant']\n"
     ]
    }
   ],
   "source": [
    "print(animal)\n",
    "print(animal1)\n",
    "print(rang_e)"
   ]
  },
  {
   "cell_type": "markdown",
   "id": "5237b378-a11a-47d0-8893-08f265a428d9",
   "metadata": {},
   "source": [
    "## Question 2"
   ]
  },
  {
   "cell_type": "raw",
   "id": "30387957-80b7-4305-a612-ed1f12ddd344",
   "metadata": {},
   "source": [
    "Add \"lion\" to the list of animals by list method append\n",
    "\n",
    "Remove \"rabbit\" from the list by list method remove\n",
    "\n",
    "Print the updated list."
   ]
  },
  {
   "cell_type": "code",
   "execution_count": 4,
   "id": "6cb44aee-a95e-476a-a863-060aba8f3be5",
   "metadata": {},
   "outputs": [
    {
     "data": {
      "text/plain": [
       "['cat', 'dog', 'rabbit', 'tiger', 'elephant', 'lion']"
      ]
     },
     "execution_count": 4,
     "metadata": {},
     "output_type": "execute_result"
    }
   ],
   "source": [
    "animals.append(\"lion\")\n",
    "animals"
   ]
  },
  {
   "cell_type": "code",
   "execution_count": 5,
   "id": "76abf642-6220-4b0c-885d-0e819d0a092b",
   "metadata": {},
   "outputs": [
    {
     "data": {
      "text/plain": [
       "['cat', 'dog', 'tiger', 'elephant', 'lion']"
      ]
     },
     "execution_count": 5,
     "metadata": {},
     "output_type": "execute_result"
    }
   ],
   "source": [
    "animals.remove(\"rabbit\")\n",
    "animals"
   ]
  },
  {
   "cell_type": "markdown",
   "id": "4a0876fb-0c47-4a8d-83d0-4345d19c9084",
   "metadata": {},
   "source": [
    "## Question 3"
   ]
  },
  {
   "cell_type": "raw",
   "id": "376729d0-eca9-4f6a-b679-b534fd6ec2fa",
   "metadata": {},
   "source": [
    "basket = [[\"apple\", \"banana\", \"mango\"], [\"red\", \"blue\", \"green\", \"black\"]]\n",
    "\n",
    "- print list of fruits\n",
    "- print list of colors\n",
    "- print second fruit by negative indexing\n",
    "- replace color \"blue\" with \"white\"\n",
    "- print length of colors list"
   ]
  },
  {
   "cell_type": "code",
   "execution_count": 6,
   "id": "dbfcc634-31c6-412f-80af-f58c9cea3d98",
   "metadata": {},
   "outputs": [],
   "source": [
    "basket = [[\"apple\", \"banana\", \"mango\"], [\"red\", \"blue\", \"green\", \"black\"]]"
   ]
  },
  {
   "cell_type": "code",
   "execution_count": 7,
   "id": "2484efdf-7398-49ea-bdda-d632d33f418f",
   "metadata": {},
   "outputs": [
    {
     "data": {
      "text/plain": [
       "['apple', 'banana', 'mango']"
      ]
     },
     "execution_count": 7,
     "metadata": {},
     "output_type": "execute_result"
    }
   ],
   "source": [
    "list_of_fruits=basket[0]\n",
    "list_of_fruits"
   ]
  },
  {
   "cell_type": "code",
   "execution_count": 8,
   "id": "32c67444-f943-44aa-8f78-65a58c89f046",
   "metadata": {},
   "outputs": [
    {
     "data": {
      "text/plain": [
       "['red', 'blue', 'green', 'black']"
      ]
     },
     "execution_count": 8,
     "metadata": {},
     "output_type": "execute_result"
    }
   ],
   "source": [
    "list_of_colors=basket[1]\n",
    "list_of_colors"
   ]
  },
  {
   "cell_type": "code",
   "execution_count": 9,
   "id": "8b21b062-5fcd-452e-8d38-d06e8f7daa8b",
   "metadata": {},
   "outputs": [
    {
     "data": {
      "text/plain": [
       "'banana'"
      ]
     },
     "execution_count": 9,
     "metadata": {},
     "output_type": "execute_result"
    }
   ],
   "source": [
    "list_of_fruits[-2]"
   ]
  },
  {
   "cell_type": "code",
   "execution_count": 10,
   "id": "00fd74ab-aaf8-457a-97cf-1d7c63d0c6bf",
   "metadata": {},
   "outputs": [
    {
     "data": {
      "text/plain": [
       "['red', 'white', 'green', 'black']"
      ]
     },
     "execution_count": 10,
     "metadata": {},
     "output_type": "execute_result"
    }
   ],
   "source": [
    "list_of_colors[1]=\"white\"\n",
    "list_of_colors"
   ]
  },
  {
   "cell_type": "code",
   "execution_count": 11,
   "id": "fcaddcdd-62c1-4309-88d3-b6f6060dc8a6",
   "metadata": {},
   "outputs": [
    {
     "data": {
      "text/plain": [
       "4"
      ]
     },
     "execution_count": 11,
     "metadata": {},
     "output_type": "execute_result"
    }
   ],
   "source": [
    "len(list_of_colors)"
   ]
  },
  {
   "cell_type": "markdown",
   "id": "7d14d722-31df-4c14-a0d2-91af43baa8bc",
   "metadata": {},
   "source": [
    "## Question 4"
   ]
  },
  {
   "cell_type": "raw",
   "id": "0637fdb2-427c-41ea-9316-ca76e1f89eb2",
   "metadata": {},
   "source": [
    "food = [\"pizza\", \"burger\", \"fries\", \"burger\", \"pasta\", \"burger\", \"biryani\", \"fries]\n",
    "\n",
    "- Add \"sandwich\" to the end of the list.\n",
    "- Insert \"biryani\" at index 2.\n"
   ]
  },
  {
   "cell_type": "code",
   "execution_count": 12,
   "id": "df9b9197-7660-4663-a7f0-ea9f755f070b",
   "metadata": {},
   "outputs": [],
   "source": [
    "food = [\"pizza\", \"burger\", \"fries\", \"burger\", \"pasta\", \"burger\", \"biryani\", \"fries\"]"
   ]
  },
  {
   "cell_type": "code",
   "execution_count": 13,
   "id": "30985be7-f7fa-4a84-8f8f-0f1f7826f006",
   "metadata": {},
   "outputs": [
    {
     "data": {
      "text/plain": [
       "['pizza',\n",
       " 'burger',\n",
       " 'fries',\n",
       " 'burger',\n",
       " 'pasta',\n",
       " 'burger',\n",
       " 'biryani',\n",
       " 'fries',\n",
       " 'sandwich']"
      ]
     },
     "execution_count": 13,
     "metadata": {},
     "output_type": "execute_result"
    }
   ],
   "source": [
    "food.append(\"sandwich\")\n",
    "food"
   ]
  },
  {
   "cell_type": "code",
   "execution_count": 14,
   "id": "3ecc5531-3935-42c5-ab4f-a4be5c552312",
   "metadata": {},
   "outputs": [
    {
     "data": {
      "text/plain": [
       "['pizza',\n",
       " 'burger',\n",
       " 'biryani',\n",
       " 'burger',\n",
       " 'pasta',\n",
       " 'burger',\n",
       " 'biryani',\n",
       " 'fries',\n",
       " 'sandwich']"
      ]
     },
     "execution_count": 14,
     "metadata": {},
     "output_type": "execute_result"
    }
   ],
   "source": [
    "food[2]=\"biryani\"\n",
    "food"
   ]
  },
  {
   "cell_type": "markdown",
   "id": "4128fc72-b1a8-4373-9674-a7800332d0da",
   "metadata": {},
   "source": [
    "## Question 5"
   ]
  },
  {
   "cell_type": "raw",
   "id": "218aaa8d-ac7b-488a-a0db-b0e23fba339e",
   "metadata": {},
   "source": [
    "- Sort the food list in alphabetical order\n",
    "- Reverse the order of the list food"
   ]
  },
  {
   "cell_type": "code",
   "execution_count": 15,
   "id": "4a88da1f-8037-495f-b6a7-0354e4aeeb8b",
   "metadata": {},
   "outputs": [
    {
     "data": {
      "text/plain": [
       "['biryani',\n",
       " 'biryani',\n",
       " 'burger',\n",
       " 'burger',\n",
       " 'burger',\n",
       " 'fries',\n",
       " 'pasta',\n",
       " 'pizza',\n",
       " 'sandwich']"
      ]
     },
     "execution_count": 15,
     "metadata": {},
     "output_type": "execute_result"
    }
   ],
   "source": [
    "food.sort()\n",
    "food"
   ]
  },
  {
   "cell_type": "code",
   "execution_count": 16,
   "id": "a8712795-4c87-4205-961c-c72a6e301142",
   "metadata": {},
   "outputs": [
    {
     "data": {
      "text/plain": [
       "['sandwich',\n",
       " 'pizza',\n",
       " 'pasta',\n",
       " 'fries',\n",
       " 'burger',\n",
       " 'burger',\n",
       " 'burger',\n",
       " 'biryani',\n",
       " 'biryani']"
      ]
     },
     "execution_count": 16,
     "metadata": {},
     "output_type": "execute_result"
    }
   ],
   "source": [
    "food.reverse()\n",
    "food"
   ]
  },
  {
   "cell_type": "markdown",
   "id": "bcb629a4-3853-4907-8fd3-4c8485e08942",
   "metadata": {},
   "source": [
    "## Question 6"
   ]
  },
  {
   "cell_type": "raw",
   "id": "16368fee-8085-4f31-9af2-9a9da95b7f7e",
   "metadata": {},
   "source": [
    "- Find the index of \"pasta\" and print it from the list of food\n",
    "- Count how many times \"pizza\" appears in list food"
   ]
  },
  {
   "cell_type": "code",
   "execution_count": 17,
   "id": "1ac4408d-9ed7-427b-88d1-e0259a2c22a7",
   "metadata": {},
   "outputs": [
    {
     "data": {
      "text/plain": [
       "2"
      ]
     },
     "execution_count": 17,
     "metadata": {},
     "output_type": "execute_result"
    }
   ],
   "source": [
    "a=food.index(\"pasta\")\n",
    "a"
   ]
  },
  {
   "cell_type": "code",
   "execution_count": 18,
   "id": "c4572e34-8e59-4bba-aa9b-b4acda6f0e1d",
   "metadata": {},
   "outputs": [
    {
     "data": {
      "text/plain": [
       "'burger'"
      ]
     },
     "execution_count": 18,
     "metadata": {},
     "output_type": "execute_result"
    }
   ],
   "source": [
    "food[4]"
   ]
  },
  {
   "cell_type": "code",
   "execution_count": 19,
   "id": "29592188-7732-43bd-8269-9a425a4105de",
   "metadata": {},
   "outputs": [
    {
     "data": {
      "text/plain": [
       "1"
      ]
     },
     "execution_count": 19,
     "metadata": {},
     "output_type": "execute_result"
    }
   ],
   "source": [
    "food.count(\"pizza\")"
   ]
  },
  {
   "cell_type": "markdown",
   "id": "83e5b9e3-d0b7-4cca-b6ba-9d70716a102f",
   "metadata": {},
   "source": [
    "## Question 7"
   ]
  },
  {
   "cell_type": "raw",
   "id": "e4d3454a-1630-432f-ae0a-554cacaa7f71",
   "metadata": {},
   "source": [
    "- Remove \"burger\" (only the first one) from the list food.\n",
    "- Remove the last item using pop() and print it."
   ]
  },
  {
   "cell_type": "code",
   "execution_count": 20,
   "id": "3eda50d4-fb91-4ab6-a82f-fd20e6a5a28f",
   "metadata": {},
   "outputs": [
    {
     "data": {
      "text/plain": [
       "['sandwich',\n",
       " 'pizza',\n",
       " 'pasta',\n",
       " 'fries',\n",
       " 'burger',\n",
       " 'burger',\n",
       " 'burger',\n",
       " 'biryani',\n",
       " 'biryani']"
      ]
     },
     "execution_count": 20,
     "metadata": {},
     "output_type": "execute_result"
    }
   ],
   "source": [
    "food"
   ]
  },
  {
   "cell_type": "code",
   "execution_count": 21,
   "id": "52876332-b34b-44b5-8124-5b2e3d56fe44",
   "metadata": {},
   "outputs": [
    {
     "data": {
      "text/plain": [
       "4"
      ]
     },
     "execution_count": 21,
     "metadata": {},
     "output_type": "execute_result"
    }
   ],
   "source": [
    "food.index(\"burger\")"
   ]
  },
  {
   "cell_type": "code",
   "execution_count": 22,
   "id": "f3a70753-8d6d-42da-acec-98b2b383525f",
   "metadata": {},
   "outputs": [
    {
     "data": {
      "text/plain": [
       "['sandwich',\n",
       " 'pizza',\n",
       " 'pasta',\n",
       " 'fries',\n",
       " 'burger',\n",
       " 'burger',\n",
       " 'biryani',\n",
       " 'biryani']"
      ]
     },
     "execution_count": 22,
     "metadata": {},
     "output_type": "execute_result"
    }
   ],
   "source": [
    "food.pop(4)\n",
    "food"
   ]
  },
  {
   "cell_type": "code",
   "execution_count": 23,
   "id": "336414dc-cc24-4831-8c96-e1146e3e4ef5",
   "metadata": {},
   "outputs": [
    {
     "data": {
      "text/plain": [
       "2"
      ]
     },
     "execution_count": 23,
     "metadata": {},
     "output_type": "execute_result"
    }
   ],
   "source": [
    "food.count(\"burger\")"
   ]
  },
  {
   "cell_type": "code",
   "execution_count": 24,
   "id": "32da2a2e-63d1-4e7a-806b-5b6706cede52",
   "metadata": {},
   "outputs": [
    {
     "data": {
      "text/plain": [
       "'biryani'"
      ]
     },
     "execution_count": 24,
     "metadata": {},
     "output_type": "execute_result"
    }
   ],
   "source": [
    "food.pop()"
   ]
  },
  {
   "cell_type": "code",
   "execution_count": 25,
   "id": "f73e0e98-fe19-40e0-91c0-f840ae04c59e",
   "metadata": {},
   "outputs": [
    {
     "data": {
      "text/plain": [
       "['sandwich', 'pizza', 'pasta', 'fries', 'burger', 'burger', 'biryani']"
      ]
     },
     "execution_count": 25,
     "metadata": {},
     "output_type": "execute_result"
    }
   ],
   "source": [
    "food"
   ]
  },
  {
   "cell_type": "markdown",
   "id": "3df87dfe-e2ef-40ed-afef-7445811a764f",
   "metadata": {},
   "source": [
    "## Question 8"
   ]
  },
  {
   "cell_type": "raw",
   "id": "364fe36d-1b48-4cd7-a938-4aebb7047556",
   "metadata": {},
   "source": [
    "- Make a copy of the list of food and name it my_food\n",
    "- Clear the original food list."
   ]
  },
  {
   "cell_type": "code",
   "execution_count": 26,
   "id": "5f6a249d-44ef-4efd-885d-1ccb984311f2",
   "metadata": {},
   "outputs": [
    {
     "data": {
      "text/plain": [
       "['sandwich', 'pizza', 'pasta', 'fries', 'burger', 'burger', 'biryani']"
      ]
     },
     "execution_count": 26,
     "metadata": {},
     "output_type": "execute_result"
    }
   ],
   "source": [
    "my_food=food.copy()\n",
    "my_food"
   ]
  },
  {
   "cell_type": "code",
   "execution_count": 27,
   "id": "317dc4db-887c-4313-bd1b-1696eeb705a1",
   "metadata": {},
   "outputs": [
    {
     "data": {
      "text/plain": [
       "[]"
      ]
     },
     "execution_count": 27,
     "metadata": {},
     "output_type": "execute_result"
    }
   ],
   "source": [
    "food.clear()\n",
    "food"
   ]
  },
  {
   "cell_type": "markdown",
   "id": "bbf5b463-606d-4dde-8eab-99d1d7bbf009",
   "metadata": {},
   "source": [
    "## Question 9"
   ]
  },
  {
   "cell_type": "raw",
   "id": "ee7e370a-65d1-4c78-b6ac-db199b90a242",
   "metadata": {},
   "source": [
    "Count nested list [1,2] by count method\n",
    "data = [[1, 2],[3, 4],[1, 2],[2,4],[1, 2],[1,3,6]]"
   ]
  },
  {
   "cell_type": "code",
   "execution_count": 28,
   "id": "5e07d741-b7e9-4fae-a4d7-309cb9be1d54",
   "metadata": {},
   "outputs": [],
   "source": [
    "data = [[1, 2],[3, 4],[1, 2],[2,4],[1, 2],[1,3,6]]"
   ]
  },
  {
   "cell_type": "code",
   "execution_count": 29,
   "id": "9fa56145-c832-4643-88fb-31357df614f3",
   "metadata": {},
   "outputs": [
    {
     "data": {
      "text/plain": [
       "3"
      ]
     },
     "execution_count": 29,
     "metadata": {},
     "output_type": "execute_result"
    }
   ],
   "source": [
    "data.count([1,2])"
   ]
  },
  {
   "cell_type": "markdown",
   "id": "21851d92-9f35-4db3-99bb-932a9a27c3fd",
   "metadata": {},
   "source": [
    "## Question 10"
   ]
  },
  {
   "cell_type": "raw",
   "id": "21c0f51b-7b43-4cc1-b743-4fc3308bd72a",
   "metadata": {},
   "source": [
    "Replace 'cat' with 'found you'\n",
    "odd_item = ['almond','peanut',['onion','potato','tomato',['apple','mango','cherry',['cat'],'banana'],'lemon',],'walnut']"
   ]
  },
  {
   "cell_type": "code",
   "execution_count": 30,
   "id": "8be0d22b-cf3c-48ff-ac9b-0a127e6eab7c",
   "metadata": {},
   "outputs": [],
   "source": [
    "odd_item = ['almond','peanut',['onion','potato','tomato',['apple','mango','cherry',['cat'],'banana'],'lemon',],'walnut']"
   ]
  },
  {
   "cell_type": "code",
   "execution_count": 31,
   "id": "c90fc55a-8ea9-45a3-b232-30f083cc457f",
   "metadata": {},
   "outputs": [
    {
     "data": {
      "text/plain": [
       "['almond',\n",
       " 'peanut',\n",
       " ['onion',\n",
       "  'potato',\n",
       "  'tomato',\n",
       "  ['apple', 'mango', 'cherry', ['found you'], 'banana'],\n",
       "  'lemon'],\n",
       " 'walnut']"
      ]
     },
     "execution_count": 31,
     "metadata": {},
     "output_type": "execute_result"
    }
   ],
   "source": [
    "odd_item[2][3][3]=[\"found you\"]\n",
    "odd_item"
   ]
  },
  {
   "cell_type": "code",
   "execution_count": null,
   "id": "5e552881-0a07-4be3-b4b7-da81537d6efd",
   "metadata": {},
   "outputs": [],
   "source": []
  },
  {
   "cell_type": "code",
   "execution_count": null,
   "id": "7c90df5c-e2b6-41b0-9bd4-57b732f98c2c",
   "metadata": {},
   "outputs": [],
   "source": []
  },
  {
   "cell_type": "code",
   "execution_count": null,
   "id": "5ecab18e-91d6-4a83-b069-78f8d28f8eb4",
   "metadata": {},
   "outputs": [],
   "source": []
  },
  {
   "cell_type": "code",
   "execution_count": null,
   "id": "1d8c0bfa-e7d9-4223-b931-d62eac484ffb",
   "metadata": {},
   "outputs": [],
   "source": []
  },
  {
   "cell_type": "code",
   "execution_count": null,
   "id": "783d30cd-a428-403c-a685-85944c99a51f",
   "metadata": {},
   "outputs": [],
   "source": []
  },
  {
   "cell_type": "code",
   "execution_count": null,
   "id": "ceb93edd-26e5-4ea2-816b-468b164d3a03",
   "metadata": {},
   "outputs": [],
   "source": []
  },
  {
   "cell_type": "code",
   "execution_count": null,
   "id": "461372be-d730-4026-b8bd-0dba0e79ead0",
   "metadata": {},
   "outputs": [],
   "source": []
  },
  {
   "cell_type": "code",
   "execution_count": null,
   "id": "d06c95f9-711a-4f68-aab1-c13ee62f7c02",
   "metadata": {},
   "outputs": [],
   "source": []
  },
  {
   "cell_type": "code",
   "execution_count": null,
   "id": "086c44b8-2d09-4a2a-9292-58d0a357e2c2",
   "metadata": {},
   "outputs": [],
   "source": []
  },
  {
   "cell_type": "code",
   "execution_count": null,
   "id": "00414bee-6eae-4174-8794-757201163ab5",
   "metadata": {},
   "outputs": [],
   "source": []
  },
  {
   "cell_type": "code",
   "execution_count": null,
   "id": "5fbc082e-bc8b-47ad-8c48-3ba399be0db9",
   "metadata": {},
   "outputs": [],
   "source": []
  }
 ],
 "metadata": {
  "kernelspec": {
   "display_name": "Python [conda env:base] *",
   "language": "python",
   "name": "conda-base-py"
  },
  "language_info": {
   "codemirror_mode": {
    "name": "ipython",
    "version": 3
   },
   "file_extension": ".py",
   "mimetype": "text/x-python",
   "name": "python",
   "nbconvert_exporter": "python",
   "pygments_lexer": "ipython3",
   "version": "3.13.5"
  }
 },
 "nbformat": 4,
 "nbformat_minor": 5
}
