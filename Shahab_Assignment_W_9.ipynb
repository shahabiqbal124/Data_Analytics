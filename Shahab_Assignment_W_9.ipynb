{
 "cells": [
  {
   "cell_type": "markdown",
   "id": "f834a280-1ff0-49d5-bae3-36cd9d7de3d9",
   "metadata": {},
   "source": [
    "# Assignment_9th"
   ]
  },
  {
   "cell_type": "markdown",
   "id": "eb53d0fb-a274-4954-ad5d-e9238d80e779",
   "metadata": {},
   "source": [
    "Q1. Write a Python function called add_numbers that takes two numbers as arguments and returns their sum. Then, test the function by calling it with two numbers of your choice."
   ]
  },
  {
   "cell_type": "code",
   "execution_count": 3,
   "id": "d96a5197-335e-4f40-a754-bcd3d9276c43",
   "metadata": {},
   "outputs": [
    {
     "data": {
      "text/plain": [
       "3"
      ]
     },
     "execution_count": 3,
     "metadata": {},
     "output_type": "execute_result"
    }
   ],
   "source": [
    "def add_numbers(a,b):\n",
    "    return (a+b)\n",
    "\n",
    "add_numbers(1,2)"
   ]
  },
  {
   "cell_type": "markdown",
   "id": "16d302bd-5dfb-4733-b81b-49f5463ac447",
   "metadata": {},
   "source": [
    "Q2. Write a Python function count_vowels that accepts a string and returns the number of vowels a, e, i, o, u, A, E, I, O, U in that string."
   ]
  },
  {
   "cell_type": "code",
   "execution_count": 24,
   "id": "ffc8728c-46a0-49fa-8198-59aefce2078f",
   "metadata": {},
   "outputs": [
    {
     "name": "stdin",
     "output_type": "stream",
     "text": [
      "Enter the sentence:\n",
      " Welcome back brother\n"
     ]
    },
    {
     "name": "stdout",
     "output_type": "stream",
     "text": [
      "Output:  6 vowels\n"
     ]
    }
   ],
   "source": [
    "def count_vowels(words): ## count_vowels(int(str(a)))\n",
    "    vowels=\"aeiouAEIOU\"\n",
    "    return sum([1 for word in words if word in vowels])\n",
    "\n",
    "print(\"Output: \",count_vowels(input(\"Enter the sentence:\\n\")),\"vowels\")"
   ]
  },
  {
   "cell_type": "markdown",
   "id": "9ea058aa-bef6-4b1e-9e32-1aa3c89e4c74",
   "metadata": {},
   "source": [
    "Q3. Create a Python function called currency_converter() that takes two arguments:\n",
    "\n",
    "- amount: The amount of money to be converted (in USD).\n",
    "- exchange_rate (default is 280): The conversion rate from USD to another currency (e.g., PKR). You can assume the default rate is 1 USD = 280 PKR.\n",
    "- \n",
    "The function should return a message showing how much the given amount is worth in the target currency (PKR).\n",
    "\n",
    "Expected Output:\n",
    "\n",
    "'100 USD is equivalent to 28000 PKR'"
   ]
  },
  {
   "cell_type": "code",
   "execution_count": 34,
   "id": "662ecdc7-3098-4113-b330-13fa1874ac13",
   "metadata": {},
   "outputs": [
    {
     "name": "stdin",
     "output_type": "stream",
     "text": [
      "Enter the Number:  100\n"
     ]
    },
    {
     "name": "stdout",
     "output_type": "stream",
     "text": [
      "100 USD is equivalent to 28000 PKR\n"
     ]
    }
   ],
   "source": [
    "def currency_converter(USD):\n",
    "    PKR=USD*280\n",
    "    return (PKR)\n",
    "usd_amount=int(input(\"Enter the Number: \"))\n",
    "print(f'{usd_amount} USD is equivalent to {currency_converter(usd_amount)} PKR')"
   ]
  },
  {
   "cell_type": "markdown",
   "id": "3e0656f4-25c3-432d-854b-7aef11cdce12",
   "metadata": {},
   "source": [
    "Q4. Write a Python function display_student_info that accepts the following details about a student:\n",
    "\n",
    "- name (Keyword argument): The name of the student.\n",
    "- age (Keyword argument): The age of the student.\n",
    "- grade (Keyword argument): The grade the student is in.\n",
    "- school (Keyword argument): The name of the school the student attends.\n",
    "\n",
    "Expected Output:\n",
    "\n",
    "- Name: John Doe\n",
    "- Age: 15\n",
    "- Grade: 10th\n",
    "- School: Greenwood High"
   ]
  },
  {
   "cell_type": "code",
   "execution_count": 49,
   "id": "7e533f98-57f6-4f93-b7af-e9f4668bce5a",
   "metadata": {},
   "outputs": [
    {
     "name": "stdout",
     "output_type": "stream",
     "text": [
      "Name: John Doe\n",
      "Age: 15\n",
      "Grade: 10th\n",
      "School: Greenwood High\n"
     ]
    }
   ],
   "source": [
    "def display_student_info(Name,Age,Grade,School):\n",
    "    print(f\"Name: {Name}\")\n",
    "    print(f\"Age: {Age}\")\n",
    "    print(f\"Grade: {Grade}\")\n",
    "    print(f\"School: {School}\")\n",
    "\n",
    "display_student_info(Name=\"John Doe\", Age=15, Grade=\"10th\", School=\"Greenwood High\")"
   ]
  },
  {
   "cell_type": "markdown",
   "id": "9d3f6d5e-27db-451c-ba8e-aaed2bc61cce",
   "metadata": {},
   "source": [
    "Q5. Write a Python function calculate_price that multiplies price × quantity."
   ]
  },
  {
   "cell_type": "code",
   "execution_count": 1,
   "id": "c97a3d12-0485-459b-a9fc-a4618fad06e3",
   "metadata": {},
   "outputs": [
    {
     "name": "stdout",
     "output_type": "stream",
     "text": [
      "150\n"
     ]
    }
   ],
   "source": [
    "def calculate_price(price, quantity):\n",
    "    return price * quantity\n",
    "print(calculate_price(50, 3))"
   ]
  },
  {
   "cell_type": "markdown",
   "id": "ab2e5a9c-28f6-41de-ab5b-3f454d9749a4",
   "metadata": {},
   "source": [
    "Q6. Write a Python function display_prices that accepts product name and keyword arguments for store prices."
   ]
  },
  {
   "cell_type": "code",
   "execution_count": 2,
   "id": "e3a588d3-396e-4530-b30b-67d9240e26a8",
   "metadata": {},
   "outputs": [
    {
     "name": "stdout",
     "output_type": "stream",
     "text": [
      "Product: Laptop\n",
      "Amazon: $800\n",
      "eBay: $750\n",
      "Walmart: $780\n"
     ]
    }
   ],
   "source": [
    "def display_prices(product, **prices):\n",
    "    print(f\"Product: {product}\")\n",
    "    for store, price in prices.items():\n",
    "        print(f\"{store}: ${price}\")\n",
    "        \n",
    "display_prices(\"Laptop\", Amazon=800, eBay=750, Walmart=780)"
   ]
  },
  {
   "cell_type": "markdown",
   "id": "bf266d08-5625-419a-b49c-6d1db1224452",
   "metadata": {},
   "source": [
    "Q7. Write a Python function find_max that takes arbitrary numbers and returns the maximum."
   ]
  },
  {
   "cell_type": "code",
   "execution_count": 3,
   "id": "18d4a424-2ed2-47c4-a0d6-137170ca3ade",
   "metadata": {},
   "outputs": [
    {
     "name": "stdout",
     "output_type": "stream",
     "text": [
      "15\n"
     ]
    }
   ],
   "source": [
    "def find_max(*numbers):\n",
    "    return max(numbers)\n",
    "print(find_max(3, 8, 15, 2, 10)) "
   ]
  },
  {
   "cell_type": "markdown",
   "id": "298fc9d3-c8a5-4da9-aab5-5d47eccda702",
   "metadata": {},
   "source": [
    "Q8. Write a Python function calculate_rectangle with nested functions for area and perimeter."
   ]
  },
  {
   "cell_type": "code",
   "execution_count": 4,
   "id": "1b87c195-5910-4765-8e12-8dad20a93b3b",
   "metadata": {},
   "outputs": [
    {
     "name": "stdout",
     "output_type": "stream",
     "text": [
      "Area: 15\n",
      "Perimeter: 16\n"
     ]
    }
   ],
   "source": [
    "def calculate_rectangle(length, width):\n",
    "    def calculate_area():\n",
    "        return length * width\n",
    "    def calculate_perimeter():\n",
    "        return 2 * (length + width)\n",
    "    return calculate_area(), calculate_perimeter()\n",
    "\n",
    "\n",
    "area, perimeter = calculate_rectangle(5, 3)\n",
    "print(\"Area:\", area)       \n",
    "print(\"Perimeter:\", perimeter)"
   ]
  },
  {
   "cell_type": "markdown",
   "id": "a8b0b356-3aab-465e-a7b0-665bd2be0d1d",
   "metadata": {},
   "source": [
    "Q9. Write a Python function taxi_fare(distance, rate=100) that calculates taxi fare."
   ]
  },
  {
   "cell_type": "code",
   "execution_count": 5,
   "id": "65416a19-3712-4cb6-b4eb-af8b1f279b01",
   "metadata": {},
   "outputs": [
    {
     "name": "stdout",
     "output_type": "stream",
     "text": [
      "Taxi fare for 10 km = 1000 PKR\n",
      "Taxi fare for 15 km = 1800 PKR\n"
     ]
    }
   ],
   "source": [
    "def taxi_fare(distance, rate=100):\n",
    "    return distance * rate\n",
    "\n",
    "print(\"Taxi fare for 10 km =\", taxi_fare(10), \"PKR\")  \n",
    "print(\"Taxi fare for 15 km =\", taxi_fare(15, rate=120), \"PKR\") "
   ]
  },
  {
   "cell_type": "markdown",
   "id": "e4da26b1-5f28-470e-a490-7c4cb4780999",
   "metadata": {},
   "source": [
    "Q10. Write a Python function shopping_bill(price, quantity, discount=0) with nested functions."
   ]
  },
  {
   "cell_type": "code",
   "execution_count": 6,
   "id": "4cdb91a9-ced4-46c6-bf2c-4c362246351c",
   "metadata": {},
   "outputs": [
    {
     "name": "stdout",
     "output_type": "stream",
     "text": [
      "Final Bill = 600 PKR\n",
      "Final Bill = 500 PKR\n"
     ]
    }
   ],
   "source": [
    "def shopping_bill(price, quantity, discount=0):\n",
    "    def calculate_total():\n",
    "        return price * quantity\n",
    "    def apply_discount(total):\n",
    "        return max(total - discount, 0)\n",
    "    total = calculate_total()\n",
    "    return apply_discount(total)\n",
    "\n",
    "print(\"Final Bill =\", shopping_bill(200, 3, discount=0), \"PKR\")\n",
    "print(\"Final Bill =\", shopping_bill(200, 3, discount=100), \"PKR\")"
   ]
  },
  {
   "cell_type": "code",
   "execution_count": null,
   "id": "5090969e-0c5b-4dc5-949d-16832c9bd30c",
   "metadata": {},
   "outputs": [],
   "source": []
  }
 ],
 "metadata": {
  "kernelspec": {
   "display_name": "Python [conda env:base] *",
   "language": "python",
   "name": "conda-base-py"
  },
  "language_info": {
   "codemirror_mode": {
    "name": "ipython",
    "version": 3
   },
   "file_extension": ".py",
   "mimetype": "text/x-python",
   "name": "python",
   "nbconvert_exporter": "python",
   "pygments_lexer": "ipython3",
   "version": "3.13.5"
  }
 },
 "nbformat": 4,
 "nbformat_minor": 5
}
